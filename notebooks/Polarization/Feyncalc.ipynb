{
 "cells": [
  {
   "cell_type": "code",
   "execution_count": 1,
   "id": "e7143584",
   "metadata": {
    "vscode": {
     "languageId": "wolfram"
    }
   },
   "outputs": [
    {
     "name": "stdout",
     "output_type": "stream",
     "text": [
      "The current Mathematica version is: \n",
      " \n",
      ">   14.1.0 for Linux x86 (64-bit) (July 16, 2024)\n"
     ]
    }
   ],
   "source": [
    "Print[\"The current Mathematica version is: \", $Version]"
   ]
  },
  {
   "cell_type": "code",
   "execution_count": 2,
   "id": "7835f57f",
   "metadata": {
    "vscode": {
     "languageId": "wolfram"
    }
   },
   "outputs": [
    {
     "name": "stdout",
     "output_type": "stream",
     "text": [
      "FeynCalc 10.1.0 (stable version). For help, use the online documentation,\n",
      " \n",
      ">    visit the forum and have a look at the supplied examples.\n",
      " \n",
      ">    The PDF-version of the manual can be downloaded here.\n",
      "If you use FeynCalc in your research, please evaluate FeynCalcHowToCite[] to\\\n",
      " \n",
      ">   learn how to cite this software.\n",
      "Please keep in mind that the proper academic attribution of our work is\\\n",
      " \n",
      ">   crucial to ensure the future development of this package!\n"
     ]
    }
   ],
   "source": [
    "<< FeynCalc`FeynCalc`;"
   ]
  },
  {
   "cell_type": "code",
   "execution_count": 3,
   "id": "b147eb51",
   "metadata": {
    "vscode": {
     "languageId": "wolfram"
    }
   },
   "outputs": [
    {
     "name": "stdout",
     "output_type": "stream",
     "text": [
      " \\[Bullet] V. Shtabovenko, R. Mertig and F. Orellana, arXiv:2312.14089.\n",
      " \\[Bullet] V. Shtabovenko, R. Mertig and F. Orellana, Comput.Phys.Commun. 256\\\n",
      " \n",
      ">   (2020) 107478, arXiv:2001.04407.\n",
      " \\[Bullet] V. Shtabovenko, R. Mertig and F. Orellana, Comput.Phys.Commun. 207\\\n",
      " \n",
      ">   (2016) 432-444, arXiv:1601.01167.\n",
      " \\[Bullet] R. Mertig, M. Bo\"hm, and A. Denner, Comput. Phys. Commun. 64\\\n",
      " \n",
      ">   (1991) 345-359.\n"
     ]
    }
   ],
   "source": [
    "FeynCalcHowToCite[]"
   ]
  },
  {
   "cell_type": "markdown",
   "id": "4a3df80b",
   "metadata": {},
   "source": [
    "# Scalar Products in 2-body Scattering\n",
    "\n",
    "<div style=\"text-align: center;\">\n",
    "  <img src=\"https://upload.wikimedia.org/wikipedia/commons/thumb/7/75/Mandelstam.svg/1024px-Mandelstam.svg.png\" alt=\"Mandelstam Diagram\" width=\"200\"/>\n",
    "  <p><em>Figure 1: 2-body scattering process</em></p>\n",
    "</div>\n",
    "\n",
    "## Maldelstam Variables\n",
    "The Mandelstam variables are a set of three variables used in high-energy particle physics to describe the kinematics of scattering processes. They are defined in terms of the four-momenta of the particles involved in the scattering. The Mandelstam variables are denoted by $\\hat s$, $\\hat t$, and $\\hat u$.\n",
    "- $\\hat s$ is the square of the total energy in the center-of-momentum frame, defined as:\n",
    "$$\n",
    "\\hat s = (p_1 + p_2)^2 = m_1^2 + m_2^2 + 2 p_1 \\cdot p_2\n",
    "$$\n",
    "- $\\hat t$ is the square of the momentum transfer, defined as:\n",
    "$$\n",
    "\\hat t = (p_1 - p_3)^2 = m_1^2 + m_3^2 - 2 p_1 \\cdot p_3\n",
    "$$\n",
    "- $\\hat u$ is the square of the other momentum transfer, defined as:\n",
    "$$\n",
    "\\hat u = (p_1 - p_4)^2 = m_1^2 + m_4^2 - 2 p_1 \\cdot p_4\n",
    "$$\n",
    "\n",
    "\n"
   ]
  },
  {
   "cell_type": "markdown",
   "id": "fa72cff9",
   "metadata": {},
   "source": [
    "## Simplification of Scalar Products using Mandelstam Variables\n",
    "\n",
    "When evaluating a Feynman amplitude, one often finds scalar products of the external four-momenta. One can use the Mandelstam variables $(\\hat s, \\hat t, \\hat u)$ to simplify these:\n",
    "\n",
    "$$\n",
    "\\begin{aligned}\n",
    "& p_1 \\cdot p_2 = \\frac{\\hat s  - m_1^2 - m_2^2}{2} \\\\\n",
    "& p_1 \\cdot p_3 = \\frac{m_1^2 + m_3^2 - \\hat t }{2} \\\\\n",
    "& p_1 \\cdot p_4 = \\frac{m_1^2 + m_4^2 - \\hat u }{2}\n",
    "\\end{aligned}\n",
    "$$\n",
    "Where $m_i$ is the mass of the particle with corresponding momentum $p_i$."
   ]
  },
  {
   "cell_type": "markdown",
   "id": "bb8492cc",
   "metadata": {},
   "source": [
    "## Anhilation/Conversion in center of mass frame\n",
    "If the two incoming particles are identical, we can set $m_1 = m_2 = m_{\\text{in}}$ and $\\vec{p}_1 = -\\vec{p}_2 = \\vec{p}_{\\text{in}}$, which gives us:\n",
    "$$\n",
    "\\begin{aligned}\n",
    "\\hat s &= (p_1 + p_2)^2 = (p_1^0 + p_2^0)^2 - (\\vec{p}_1 + \\vec{p}_2)^2\n",
    "\\\\&= (E_{1} + E_{1})^2 - (\\vec{p}_{1} - \\vec{p}_{1})^2\n",
    "\\\\&= 4 E_{\\text{1}}^2\n",
    "\\end{aligned}\n",
    "$$\n",
    "We define the center of mass energy as $E_{\\text{CM}} = 2 E_{\\text{in}}$, so we have:\n",
    "$$\n",
    "\\hat s = E_{\\text{CM}}^2\n",
    "$$\n",
    "\n",
    "Similarly if the two outgoing particles are identical, we can set $m_3 = m_4 = m_{\\text{out}}$ and $\\vec{p}_3 = -\\vec{p}_4$, so $E_{1} = E_{2} = E_{\\text{out}}=E_{\\text{CM}}/2=E_{\\text{in}}=E_{1}=E_{2}$, which gives us:\n",
    "$$\n",
    "\\begin{aligned}\n",
    "\\hat t &= (p_1 - p_3)^2 = (p_1^0 - p_3^0)^2 - (\\vec{p}_1 - \\vec{p}_3)^2\n",
    "\\\\&= (E_{1} - E_{3})^2 - (\\vec{p}_{1} - \\vec{p}_{3})^2\n",
    "\\\\&= (E_{\\text{in}} - E_{\\text{out}})^2 - (\\vec{p}_{\\text{in}} - \\vec{p}_{\\text{out}})^2\n",
    "\\\\&= (E_{\\text{CM}}/2 - E_{\\text{CM}}/2)^2 - (\\vec{p}_{\\text{in}} - \\vec{p}_{\\text{out}})^2\n",
    "\\\\&= 0 - (\\vec{p}_{\\text{in}} - \\vec{p}_{\\text{out}})^2\n",
    "\\\\&= -\\vec{p}_{\\text{in}}^2 - \\vec{p}_{\\text{out}}^2 + 2 \\vec{p}_{\\text{in}} \\cdot \\vec{p}_{\\text{out}}\n",
    "\\end{aligned}\n",
    "$$\n",
    "We can change $\\vec{p}_{\\text{in}}^2 = E_{\\text{in}}^2 - m_{\\text{in}}^2$ and $\\vec{p}_{\\text{out}}^2 = E_{\\text{out}}^2 - m_{\\text{out}}^2$, so we have:\n",
    "$$\n",
    "\\begin{aligned}\n",
    "\\hat t &= - E_{\\text{in}}^2 - E_{\\text{out}}^2 + m_{\\text{in}}^2 + m_{\\text{out}}^2 + 2 \\sqrt{E_{\\text{in}}^2 - m_{\\text{in}}^2} \\sqrt{E_{\\text{out}}^2 - m_{\\text{out}}^2} \\cos \\theta\\\\\n",
    "\\\\&= m_{\\text{in}}^2 + m_{\\text{out}}^2 -\\frac{1}{2} E_{\\text{CM}}^2  + \\frac{1}{2} \\sqrt{E_{\\text{CM}}^2 - 4 m_{\\text{in}}^2} \\sqrt{E_{\\text{CM}}^2 - 4 m_{\\text{out}}^2} \\cos \\theta\n",
    "\\end{aligned}\n",
    "$$\n",
    "Where $\\theta$ is the angle between the incoming and outgoing particles, see Figure 2.\n",
    "\n",
    "\n",
    "<div style=\"text-align: center;\">\n",
    "  <img src=\"https://raw.githubusercontent.com/cfrc2694/Pheno_Phd_Thesis/refs/heads/main/Slides/Two_Body_Interference/scatter.png\" alt=\"Mandelstam Diagram\" width=\"600\"/>\n",
    "  <p><em>Figure 2: ingoing and outgoing particles in the center of mass frame</em></p>\n",
    "</div>\n",
    "\n",
    "Similarly we can find $\\hat u$:\n",
    "$$\n",
    "\\hat u =  m_{\\text{in}}^2 + m_{\\text{out}}^2 -\\frac{1}{2} E_{\\text{CM}}^2 - \\frac{1}{2} \\sqrt{E_{\\text{CM}}^2 - 4 m_{\\text{in}}^2} \\sqrt{E_{\\text{CM}}^2 - 4 m_{\\text{out}}^2} \\cos \\theta.\n",
    "$$\n"
   ]
  },
  {
   "cell_type": "markdown",
   "id": "70c73347",
   "metadata": {},
   "source": [
    "## Using the Pseudo-Rapidity\n",
    "The pseudo-rapidity of a outgoing particle is defined as:\n",
    "$$\n",
    "\\eta = -\\ln \\left( \\tan \\frac{\\theta}{2} \\right)\n",
    "$$\n",
    "with $\\theta$ being the angle between the incoming axis and the outgoing particle, see Figure 2. \n",
    "\n",
    "Then, we have\n",
    "$$\n",
    "\\tan \\frac{\\theta}{2} = e^{-\\eta} \n",
    "$$ \n",
    "and using the identity:\n",
    "$$\n",
    "\\cos \\theta = \\frac{1 - \\tan^2 \\frac{\\theta}{2}}{1 + \\tan^2 \\frac{\\theta}{2}} = \\frac{1 - e^{-2\\eta}}{1 + e^{-2\\eta}} = \\frac{e^{\\eta} - e^{-\\eta}}{e^{\\eta} + e^{-\\eta}} = \\tanh(\\eta)\n",
    "$$\n",
    "we can rewrite the Mandelstam variables as:\n",
    "$$\n",
    "\\begin{aligned}\n",
    "\\hat s &= E_{\\text{CM}}^2 \\\\\n",
    "\\hat t &= m_{\\text{in}}^2 + m_{\\text{out}}^2 -\\frac{1}{2} E_{\\text{CM}}^2  + \\frac{1}{2} \\sqrt{E_{\\text{CM}}^2 - 4 m_{\\text{in}}^2} \\sqrt{E_{\\text{CM}}^2 - 4 m_{\\text{out}}^2} \\tanh(\\eta)\\\\\n",
    "\\hat u &=  m_{\\text{in}}^2 + m_{\\text{out}}^2 -\\frac{1}{2} E_{\\text{CM}}^2 - \\frac{1}{2} \\sqrt{E_{\\text{CM}}^2 - 4 m_{\\text{in}}^2} \\sqrt{E_{\\text{CM}}^2 - 4 m_{\\text{out}}^2} \\tanh(\\eta)\n",
    "\\end{aligned}\n",
    "$$"
   ]
  },
  {
   "cell_type": "markdown",
   "id": "d1d1945b",
   "metadata": {},
   "source": [
    "# $b \\bar b \\to \\tau^+\\tau^-$\n",
    "\n",
    "The bottom quark and the tau lepton have masses of $M_Q \\approx 4.18$ GeV and $M_l \\approx 1.78$ GeV, respectively. However, in the ultrarelativistic limit, we have center-of-mass energies of $E_{cm} \\gg M_Q, M_l$, so we can neglect the masses of the particles and define"
   ]
  },
  {
   "cell_type": "code",
   "execution_count": 4,
   "id": "5124482d",
   "metadata": {
    "vscode": {
     "languageId": "wolfram"
    }
   },
   "outputs": [],
   "source": [
    "(* Masses *)\n",
    "\n",
    "ml = Subscript[M, l]*0;\n",
    "mq = Subscript[M, Q]*0;"
   ]
  },
  {
   "cell_type": "code",
   "execution_count": 7,
   "id": "9e85d9dc",
   "metadata": {
    "vscode": {
     "languageId": "wolfram"
    }
   },
   "outputs": [],
   "source": [
    "\n",
    "(* p1 = momentum of incoming quark *)\n",
    "(* p2 = momentum of incoming anti-quark *)\n",
    "(* p3 = momentum of outgoing lepton *)\n",
    "(* p4 = momentum of outgoing anti-lepton *)\n",
    "\n",
    "m1 = mq;\n",
    "m2 = mq;\n",
    "\n",
    "m3 = ml;\n",
    "m4 = ml;\n",
    "\n",
    "p1 = Subscript[\"p\", \"b\"];\n",
    "p2 = Subscript[\"p\", Overscript[\"b\", \"_\"]];\n",
    "\n",
    "p3 = Subscript[\"p\", \"l-\"];\n",
    "p4 = Subscript[\"p\", \"l+\"];"
   ]
  },
  {
   "cell_type": "code",
   "execution_count": 22,
   "id": "fd9b42c0",
   "metadata": {
    "vscode": {
     "languageId": "wolfram"
    }
   },
   "outputs": [
    {
     "data": {
      "text/html": [
       "<div><img alt=\"Output\" src=\"data:image/png;base64,iVBORw0KGgoAAAANSUhEUgAAAB8AAAAVCAIAAAAxV6IIAAAA0npUWHRSYXcgcHJvZmlsZSB0eXBlIGV4aWYAAHjabU9ZrgMhDPvnFD1CFnDgOEwHpHeDd/wmA2o1VS0RO84CpPH/N9MjIEwpF6toADlyy026i0oLi5naFVcyd43vfuKy/e5W+RQwtn/cfcNiqV+LSJbQuMG15j2wF6ksn/vKj90vvdbbonnMC/vBBHo//Wee1QQFbNljFjJDc12TSycUoWKYeALeyDiF8tN5wMzHYNGhPQYDMuzePRLUjTO+oHGKdueIouyj7Fn3yJdT5dxV0vjOC6MnXFh+N567AAAACXBIWXMAAA7EAAAOxAGVKw4bAAAAPHRFWHRTb2Z0d2FyZQBDcmVhdGVkIHdpdGggdGhlIFdvbGZyYW0gTGFuZ3VhZ2UgOiB3d3cud29sZnJhbS5jb21coqaFAAAAIXRFWHRDcmVhdGlvbiBUaW1lADIwMjU6MDU6MjEgMTA6MTE6MjjAXDKEAAAC9klEQVQ4jaVVS0gqYRQ+3YwwDCQoGJhFD4JEMHuAC6FNJERhyxZmERVRSO1ihFy1E0F7LJI2UVmKu8pNRFkSFBS1KFel1qJajJCWlPg7p8XIONdrdq1v9c95fPPNefxTgojwNTiOM5vNr6+vyWSS47iVlRWJRFIgPhdYEHt7e2q1mj9TFOV2uwvH5+BP4Xd3dnb6/X5eBMdxLMsWIfxb7QIODg6qq6sfHx+L0g5nZ2eDg4MAIJVKh4aGRkdHDQaDSqUCgOvraz4oGAzqdLr7+/uiqBExo52iqNbWVrFDp9Px7JeXl2NjY4lEoljqLDtN0+3t7WLH5ubm7e0ty7I9PT2EEN7o8/mKYs/fVUJIX19fQ0PD0tLS0dERTdMURVVVVR0fH/+kqznat7a2NjY2flCKHGRXIxQKGY1GAPj4+Dg8PJyfny9OZj5k2evr69fX1wHg/f19dnb299QAkKfuUqnUZDIpFArB4vP5TCaTw+Gw2+0jIyORSCQQCLS0tFRUVLy8vIhzu7u7ZTLZ2tpa5jlv3XmkUilEdDgcWq1WmMi7u7vp6WlEnJmZaWpqWlhYEOIjkYhSqVSpVIIly97W1pbDPjw8HI1GKysr9/f3xfarqytEZBjGbrcrlUrBPjc3Z7VahXsJhYlMp9OxWEz8jbu7u9Fo9OLi4u3traOjQ+xqbm7mD0ajMRwOn5ycAAAhJBaL1dTUiCMl5+fny8vLT09PANDV1VVXV0cIeXh48Pv9AwMD4XBYLpeXlZXlbZpcLu/v73c6nVqtdnt7W6/Xh0KhvyIKD+zOzk5paamwq2IwDEMIOT09LS8vZ1l2amoKEVdXV/NU5iuo1WoAyFlRr9fLFzOdTms0GoVCYTabGxsb/03/hp2m6cnJSYvFkkwmeUswGPR4PACQSCTi8TgAjI+Pu1wufhMzo/KflUHEVCq1uLhoMBisVqvNZtPr9V6vNxAI1NbWTkxMPD8/x+NxhmEQ8ebmpre3VyaTuVwuPrcEC/5Xf4lPlZbGKhPJq3kAAAAASUVORK5CYII=\"></div>"
      ],
      "text/plain": [
       "   2\n",
       "E\n",
       " CM"
      ]
     },
     "execution_count": 22,
     "metadata": {
      "text/html": [],
      "text/plain": []
     },
     "output_type": "execute_result"
    }
   ],
   "source": [
    "energy = Subscript[\"E\", \"CM\"];\n",
    "\n",
    "CosTheta = Tanh[\\[Eta]];\n",
    "\n",
    "sMan = energy^2\n",
    "tMan = m1^2 + m3^2 - (1/2)*energy^2 + (1/2)*Sqrt[energy^2 - 4*m1^2]*Sqrt[energy^2 - 4*m3^2]*CosTheta // Factor ;\n",
    "uMan = m1^2 + m3^2 - (1/2)*energy^2 - (1/2)*Sqrt[energy^2 - 4*m1^2]*Sqrt[energy^2 - 4*m3^2]*CosTheta //Factor ;"
   ]
  },
  {
   "cell_type": "code",
   "execution_count": 25,
   "id": "fd84e77b",
   "metadata": {
    "vscode": {
     "languageId": "wolfram"
    }
   },
   "outputs": [],
   "source": [
    "SP[p1, p1] = m1^2;\n",
    "SP[p1, p2] = (sMan - m1^2 - m2^2)/2;\n",
    "SP[p1, p3] = (m1^2 + m3^2 - tMan)/2;\n",
    "SP[p1, p4] = (m1^2 + m4^2 - uMan)/2;\n",
    "\n",
    "SP[p2, p2] = m2^2;\n",
    "SP[p2, p3] = (m2^2 + m3^2 - uMan)/2;\n",
    "SP[p2, p4] = (m2^2 + m4^2 - tMan)/2;\n",
    "\n",
    "SP[p3, p3] = m3^2;\n",
    "SP[p3, p4] = (sMan - m3^2 - m4^2)/2;\n",
    "\n",
    "SP[p4, p4] = m4^2;\n"
   ]
  },
  {
   "cell_type": "markdown",
   "id": "2ec642c5",
   "metadata": {},
   "source": [
    "Teh external legs of the Feynman diagram are given by the spinors, $u(p)$ and $\\bar v(p)$ for each of the incoming particles, and $v(p)$ and $\\bar u(p)$ for each of the outgoing particles:"
   ]
  },
  {
   "cell_type": "code",
   "execution_count": 35,
   "id": "663e047a",
   "metadata": {
    "vscode": {
     "languageId": "wolfram"
    }
   },
   "outputs": [],
   "source": [
    "PR = DiracMatrix[6];\n",
    "PL = DiracMatrix[7];\n",
    "\n",
    "\n",
    "b = SpinorU[p1, mq];\n",
    "tau = SpinorUBar[p3, ml];\n",
    "\n",
    "antiB = SpinorVBar[p2, mq];\n",
    "antiTau = SpinorV[p4, ml];\n"
   ]
  },
  {
   "cell_type": "markdown",
   "id": "4f1d230b",
   "metadata": {},
   "source": [
    "# Scalar Leptoquark \n",
    "\n",
    "The $\\tilde S_1$ leptoquark is a scalar particle that couples to the right-handed down-type quarks and the right-handed leptons and transform in the $(3, 1, -4/3)$ representation of the Standard Model gauge group. \n",
    "$$\n",
    "\\mathcal{L}_{\\tilde S_1} = \\big(\\mathcal{D}^\\mu \\tilde S_1\\big)^\\dagger \\big(\\mathcal{D}_\\mu \\tilde S_1\\big) - m_{\\tilde S_1}^2 \\tilde S_1^\\dagger \\tilde S_1 + y_{R}^{ij} \\bar {d^C}_{R}^{i} \\tilde S_1 l_{R}^j + h.c.\n",
    "$$\n",
    "**(¿ can we have couplings $Z^{ij}  \\bar {u^C}_{R}^{i} \\tilde S_1^\\dagger u_{R}^j$ also ? the QCD charges doesn't fit)** which has been implemented in feynrules ([arXiv: abs/1801.07641](https://arxiv.org/abs/1801.07641))\n",
    " as:\n",
    "\n",
    "```mathematica\n",
    "(* The Lagrangian for the scalar leptoquark S1 *)\n",
    "LS1tKin := Module[ {mu,c},\n",
    "DC[S1tm43bar[c],mu] DC[S1tm43[c],mu] - MS1t^2 S1tm43bar[c] S1tm43[c]\n",
    "];\n",
    "\n",
    "LS1tYuk :=  Module[ {sp,i,j,cc},\n",
    " ExpandIndices[yRR[i,j] dRbar[sp,i,cc].CC[lR][sp,j] S1tm43[cc], FlavorExpand-> Generation]\n",
    "];\n",
    "```\n",
    "The propagator for the leptoquark is given by:\n",
    "$$\n",
    "\\mathcal{P}_{\\tilde S_1}(p) = \\frac{-i}{p^2 - m_{\\tilde S_1}^2 + i m_{\\tilde S_1} \\Gamma_{\\tilde S_1}} \n",
    "$$\n",
    "with the decay width given by:\n",
    "$$\n",
    "\\Gamma_{\\tilde S_1} = \\frac{m_{\\tilde S_1}}{8 \\pi} \\left( \\frac{1}{2} \\sum_{i,j} |y_{R}^{ij}|^2  \\right)\n",
    "$$\n",
    "where ([arXiv: abs/1801.07641](https://arxiv.org/abs/1801.07641)) have implemented the decay width in feynrules as:\n",
    "```mathematica\n",
    "(* The decay width for the leptoquark S1 *)\n",
    "WS1t == {\n",
    "   ParameterType -> Internal,\n",
    "   Value         -> (MS1t*(Abs[yRR[1,1]]^2 + Abs[yRR[1,2]]^2 + Abs[yRR[1,3]]^2 \n",
    "\t\t\t + Abs[yRR[2,1]]^2 + Abs[yRR[2,2]]^2 + Abs[yRR[2,3]]^2 \n",
    "                         + Abs[yRR[3,1]]^2 + Abs[yRR[3,2]]^2 + Abs[yRR[3,3]]^2))/(16*Pi)\n",
    "}\n",
    "```\n",
    "\n",
    "So, assuming preferential couplings to the third generation, we have a vertex $b \\tilde S_1^* \\tau^-$ with coupling $i y_{R}^{33} P_L$ and $\\bar{b} \\tilde S_1\\tau^+$ with coupling $i y_{R}^{33} P_R$  that feynrules implements as:\n",
    "```python\n",
    "V_84 = Vertex(name = 'V_84',\n",
    "              particles = [ P.ta__minus__, P.b, P.S1tm43__star__ ],\n",
    "              color = [ 'Identity(2,3)' ],\n",
    "              lorentz = [ L.FFS1 ],\n",
    "              couplings = {(0,0):C.GC_69})\n",
    "\n",
    "V_85 = Vertex(name = 'V_85',\n",
    "              particles = [ P.ta__plus__, P.b__tilde__, P.S1tm43 ],\n",
    "              color = [ 'Identity(2,3)' ],\n",
    "              lorentz = [ L.FFS3 ],\n",
    "              couplings = {(0,0):C.GC_69})\n",
    "```\n",
    "where the coupling C.GC_69 is given by:\n",
    "```python\n",
    "GC_69 = Coupling(name = 'GC_69',\n",
    "                 value = 'complex(0,1)*yRR3x3',\n",
    "                 order = {'NP':1})\n",
    "```\n",
    "and the Lorentz structures are given by:\n",
    "```python\n",
    "FFS1 = Lorentz(name = 'FFS1',\n",
    "               spins = [ 2, 2, 1 ],\n",
    "               structure = 'ProjM(2,1)')\n",
    "FFS3 = Lorentz(name = 'FFS3',\n",
    "               spins = [ 2, 2, 1 ],\n",
    "               structure = 'ProjP(2,1)')\n",
    "```\n",
    "\n",
    "where 'ProjP(2,1)' and 'ProjM(2,1)' are the projectors for the left and right handed particles, respectively.\n"
   ]
  },
  {
   "cell_type": "code",
   "execution_count": 41,
   "id": "bf53bb34",
   "metadata": {
    "vscode": {
     "languageId": "wolfram"
    }
   },
   "outputs": [],
   "source": [
    "ms = Subscript[M, \"S\"];\n",
    "ws = Subscript[\\[CapitalGamma], \"S\"];\n",
    "\n",
    "yR = Subscript[y, R];\n",
    "\n",
    "sLQTildevertex = I *yR*PR;\n",
    "sLQvertex =  I *yR*PL;\n",
    "\n",
    "PropagatorS[p_] := -I/(ExpandScalarProduct[SP[p,p]] - ms^2 + I ms  ws )"
   ]
  },
  {
   "cell_type": "markdown",
   "id": "1aec64c9",
   "metadata": {},
   "source": [
    "## 'Unpolarized' Amplitude\n",
    "\n",
    "So there, the 'unpolarized' amplitude for the process \n",
    "\n",
    "<div style=\"text-align: center;\">\n",
    "  <img src=\"https://raw.githubusercontent.com/cfrc2694/Pheno_Phd_Thesis/refs/heads/main/Slides/2024_silafae/non-res_scalar.svg\" alt=\"Mandelstam Diagram\" width=\"350\"/>\n",
    "  <p><em>Figure 3: Feynman diagram for the process $b \\bar b \\to \\tau^+ \\tau^-$ mediated by a scalar leptoquark $\\tilde S_1$</em></p>\n",
    "</div>\n",
    "\n",
    "\n"
   ]
  },
  {
   "cell_type": "code",
   "execution_count": 51,
   "id": "f5916c12",
   "metadata": {
    "vscode": {
     "languageId": "wolfram"
    }
   },
   "outputs": [
    {
     "data": {
      "text/html": [
       "<div><img alt=\"Output\" src=\"data:image/png;base64,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\"></div>"
      ],
      "text/plain": [
       "    4   4               2\n",
       "(E    y   (-1 + Tanh[η]) ) / \n",
       "  CM   R\n",
       " \n",
       "        4        2   2       4       2   2        4                2   2\n",
       ">   (E    + 4 E    M   + 4 M   + 4 M   Γ   - 2 E    Tanh[η] - 4 E    M   Tanh[η] + \n",
       "      CM       CM   S       S       S   S       CM               CM   S\n",
       " \n",
       "         4        2\n",
       ">     E    Tanh[η] )\n",
       "       CM"
      ]
     },
     "execution_count": 51,
     "metadata": {
      "text/html": [],
      "text/plain": []
     },
     "output_type": "execute_result"
    }
   ],
   "source": [
    "(** Unpolarized Amplitude **)\n",
    "\n",
    "line1 = b.sLQTildevertex.tau ;\n",
    "line2 = antiB.sLQvertex.antiTau ;\n",
    "\n",
    "Amplitude = line1 * line2 * PropagatorS[p1-p3] ;\n",
    "\n",
    "AmplitudeSquared = ExpandAll[ Amplitude (ComplexConjugate[Amplitude]) // FermionSpinSum[#] & // DiracSimplify ] // Factor"
   ]
  },
  {
   "cell_type": "markdown",
   "id": "1363d573",
   "metadata": {},
   "source": [
    "## Polarization of the $\\tau$ lepton\n",
    "The Polarization of the tau lepton is defined as:\n",
    "$$\n",
    "P_\\tau = \\frac{|\\mathcal{M}_R|^2 - |\\mathcal{M}_L|^2}{|\\mathcal{M}_R|^2 + |\\mathcal{M}_L|^2}\n",
    "$$\n",
    "where the polarized amplitudes for the $\\tau^-$ lepton are given by:\n"
   ]
  },
  {
   "cell_type": "code",
   "execution_count": 52,
   "id": "ab15db47",
   "metadata": {
    "vscode": {
     "languageId": "wolfram"
    }
   },
   "outputs": [
    {
     "name": "stdout",
     "output_type": "stream",
     "text": [
      "Polarization: 1\n"
     ]
    }
   ],
   "source": [
    "(* tau Left Polarized Amplitude *)\n",
    "\n",
    "leftPolarizedLine1 = b.sLQTildevertex.PL.tau ;\n",
    "unpolarizedLine2 = antiB.sLQvertex.antiTau ;\n",
    "\n",
    "MtauL = leftPolarizedLine1 * unpolarizedLine2 * PropagatorS[p1-p3] ;\n",
    "MtauLSquared = ExpandAll[ MtauL (ComplexConjugate[MtauL]) // FermionSpinSum[#] & // DiracSimplify ] // Factor ;\n",
    "\n",
    "(* tau Right Polarized Amplitude *)\n",
    "rightPolarizedLine1 = b.sLQTildevertex.PR.tau ;\n",
    "unpolarizedLine2 = antiB.sLQvertex.antiTau ;\n",
    "\n",
    "MtauR = rightPolarizedLine1 * unpolarizedLine2 * PropagatorS[p1-p3] ;\n",
    "MtauRSquared = ExpandAll[ MtauR (ComplexConjugate[MtauR]) // FermionSpinSum[#] & // DiracSimplify ] // Factor ;\n",
    "\n",
    "(* tau polarization *)\n",
    "Polarization = (MtauRSquared - MtauLSquared) / (MtauRSquared + MtauLSquared) // Factor ;\n",
    "\n",
    "Print[\"Polarization: \", Polarization]"
   ]
  },
  {
   "cell_type": "markdown",
   "id": "34327bea",
   "metadata": {},
   "source": [
    "and the polarized amplitudes for the $\\tau^+$ lepton are given by:"
   ]
  },
  {
   "cell_type": "code",
   "execution_count": 65,
   "id": "552f658d",
   "metadata": {
    "vscode": {
     "languageId": "wolfram"
    }
   },
   "outputs": [
    {
     "name": "stdout",
     "output_type": "stream",
     "text": [
      "Antitau Polarization: -1\n"
     ]
    }
   ],
   "source": [
    "(* antitau Left Polarized Amplitude *)\n",
    "unpolarizedLine1 = b.sLQTildevertex.tau ;\n",
    "leftPolarizedLine2 = antiB.sLQvertex.PL.antiTau ;\n",
    "MAntiTauL = unpolarizedLine1 * leftPolarizedLine2 * PropagatorS[p1-p3] ;\n",
    "MAntiTauLSquared = ExpandAll[ MAntiTauL (ComplexConjugate[MAntiTauL]) // FermionSpinSum[#] & // DiracSimplify ] // Factor ;\n",
    "\n",
    "(* antitau Right Polarized Amplitude *)\n",
    "unpolarizedLine1 = b.sLQTildevertex.tau ;\n",
    "rightPolarizedLine2 = antiB.sLQvertex.PR.antiTau ;\n",
    "MAntiTauR = unpolarizedLine1 * rightPolarizedLine2 * PropagatorS[p1-p3] ;\n",
    "MAntiTauRSquared = ExpandAll[ MAntiTauR (ComplexConjugate[MAntiTauR]) // FermionSpinSum[#] & // DiracSimplify ] // Factor ;\n",
    "\n",
    "(* antitau polarization *)\n",
    "MAntiTauPolarization = (MAntiTauRSquared - MAntiTauLSquared) / (MAntiTauRSquared + MAntiTauLSquared) // Factor ;\n",
    "Print[\"Antitau Polarization: \", MAntiTauPolarization]"
   ]
  },
  {
   "cell_type": "markdown",
   "id": "fa4fc938",
   "metadata": {},
   "source": [
    "For the Scalar leptoquark we have that the polarization of the $\\tau^-$ will be always Left-handed and the polarization of the $\\tau^+$ will be always Right-handed, they are strongly correlated. "
   ]
  },
  {
   "cell_type": "markdown",
   "id": "9166491e",
   "metadata": {},
   "source": [
    "In madgraph, with $Y_R^{33}= 1$, and a leptoquark mass of $M_{\\tilde S_1} = 650 \\text{GeV}$, We have evaluated the cross-section for different processes:\n",
    "\n",
    "\n",
    "---\n",
    "```\n",
    "import model <path_to_model>\n",
    "generate p p > ta+ ta-{R} QED=0\n",
    "```\n",
    "we got the output:\n",
    "```\n",
    "- Current estimate of cross-section: 0.019482 +- 0.00042827\n",
    "    P1_qq_taptamR \n",
    "    P1_qbx_taptamR \n",
    "    P1_bbx_taptamR \n",
    "```\n",
    "---\n",
    "```\n",
    "import model <path_to_model>\n",
    "generate p p > ta+ ta-{L} QED=0\n",
    "```\n",
    "we got the output:\n",
    "```\n",
    "- Current estimate of cross-section: 2.4629e-06 +- 4.6684e-08\n",
    "    P1_qq_taptamL \n",
    "    P1_qbx_taptamL \n",
    "    P1_bbx_taptamL \n",
    "```\n",
    "\n",
    "---\n",
    "```\n",
    "import model <path_to_model>\n",
    "generate p p > ta+{R} ta- QED=0\n",
    "```\n",
    "we got the output:\n",
    "```\n",
    "- Current estimate of cross-section: 2.4629e-06 +- 4.6684e-08\n",
    "    P1_qq_tapRtam \n",
    "    P1_qbx_tapRtam \n",
    "    P1_bbx_tapRtam \n",
    "```\n",
    "\n",
    "---\n",
    "```\n",
    "import model <path_to_model>\n",
    "generate p p > ta+{L} ta- QED=0\n",
    "```\n",
    "we got the output:\n",
    "```\n",
    "- Current estimate of cross-section: 0.019482 +- 0.00042827\n",
    "    P1_qq_tapLtam \n",
    "    P1_qbx_tapLtam \n",
    "    P1_bbx_tapLtam \n",
    "```\n",
    "---\n"
   ]
  },
  {
   "cell_type": "markdown",
   "id": "0adb7c8a",
   "metadata": {},
   "source": [
    "# Vectorial Leptoquark\n",
    "We shall restrict ourselves to a simplified non-renormalizable lagrangian, understood to be embedded into a more complete model. The SM is thus extended by adding the following terms featuring the $U_1$ leptoquark:\n",
    "$$\n",
    "\\begin{aligned}\n",
    "  \\mathcal{L}_{U_1}&=&-\\frac{1}{2}U^\\dagger_{\\mu\\nu}U^{\\mu\\nu}+M_U^2\\, U_{1\\mu}^\\dagger U_1^\\mu \n",
    " -ig_s\\,U_{1\\mu}^\\dagger\\, T^a\\, U_{1\\nu}\\, G^{a\\mu\\nu}\\!\\!-i\\frac{2}{3}g'\\,U^\\dagger_{1\\mu}U_{1\\nu}B^{\\mu\\nu} \n",
    " +\\frac{g_U}{\\sqrt 2}[U_{1\\mu}(\\bar Q_3\\,\\gamma^\\mu L_3+\\beta_L^{s\\tau}\\,\\bar Q_2\\,\\gamma^\\mu L_3  +\\beta_{R}\\,\\bar b_{R}\\,\\gamma^\\mu \\tau_{R}) +{\\rm h.c.}] \n",
    "\\end{aligned}d\n",
    "$$\n",
    "where $U_{1\\mu}$ is the vector leptoquark field, $M_U$ is its mass, $g_s$ is the strong coupling constant, $g'$ is the hypercharge coupling constant, and $g_U$ is the coupling of the leptoquark to the quarks and leptons. The term $T^a$ is the generator of the SU(3) color group, and $B^{\\mu\\nu}$ is the field strength tensor for hypercharge. The term $\\beta_L^{s\\tau}$ is a parameter that determines the strength of the coupling between the leptoquark and the left-handed quarks and leptons.\n",
    "\n",
    "```python\n",
    "V_142 = Vertex(name = 'V_142',\n",
    "               particles = [ P.b__tilde__, P.ta__minus__, P.VLQ ],\n",
    "               color = [ 'Identity(1,3)' ],\n",
    "               lorentz = [ L.FFV2, L.FFV3 ],\n",
    "               couplings = {(0,0):C.GC_18,(0,1):C.GC_19})\n",
    "V_152 = Vertex(name = 'V_152',\n",
    "               particles = [ P.ta__plus__, P.b, P.VLQ__tilde__ ],\n",
    "               color = [ 'Identity(2,3)' ],\n",
    "               lorentz = [ L.FFV2, L.FFV3 ],\n",
    "               couplings = {(0,0):C.GC_18,(0,1):C.GC_19})\n",
    "```\n",
    "with the couplings given by:\n",
    "```python\n",
    "GC_18 = Coupling(name = 'GC_18',\n",
    "                 value = '(betaL3x3*complex(0,1)*gU)/cmath.sqrt(2)',\n",
    "                 order = {'NP':1})\n",
    "\n",
    "GC_19 = Coupling(name = 'GC_19',\n",
    "                 value = '(betaRd3x3*complex(0,1)*gU)/cmath.sqrt(2)',\n",
    "                 order = {'NP':1})\n",
    "```\n",
    "and the Lorentz structures are given by:\n",
    "```python\n",
    "FFV2 = Lorentz(name = 'FFV2',\n",
    "               spins = [ 2, 2, 3 ],\n",
    "               structure = 'Gamma(3,2,-1)*ProjM(-1,1)')\n",
    "\n",
    "FFV3 = Lorentz(name = 'FFV3',\n",
    "               spins = [ 2, 2, 3 ],\n",
    "               structure = 'Gamma(3,2,-1)*ProjP(-1,1)')\n",
    "```\n"
   ]
  },
  {
   "cell_type": "code",
   "execution_count": 84,
   "id": "65c40fa0",
   "metadata": {
    "vscode": {
     "languageId": "wolfram"
    }
   },
   "outputs": [
    {
     "data": {
      "text/html": [
       "<style>\n",
       "\t\t\t\t\t\t\t\t\t\t\t\t\t.grid-container {\n",
       "\t\t\t\t\t\t\t\t\t\t\t\t\t\tdisplay: inline-grid;\n",
       "\t\t\t\t\t\t\t\t\t\t\t\t\t\tgrid-template-columns: auto;\n",
       "\t\t\t\t\t\t\t\t\t\t\t\t\t}\n",
       "\t\t\t\t\t\t\t\t\t\t\t\t</style>\n",
       "\n",
       "\t\t\t\t\t\t\t\t\t\t\t\t<div><div class=\"grid-container\"><div class=\"grid-item\"><img alt=\"Output\" src=\"data:image/png;base64,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\"></div><div class=\"grid-item\"><img alt=\"Output\" src=\"data:image/png;base64,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\"></div></div></div>"
      ],
      "text/plain": [
       "(-I (MT[mm, nn] - \n",
       " \n",
       "         Pair[LorentzIndex[mm], Momentum[p]] . Pair[LorentzIndex[nn], Momentum[p]]\n",
       ">        -------------------------------------------------------------------------)) / \n",
       "                                              2\n",
       "                                            M\n",
       "                                             V\n",
       " \n",
       "                                        2\n",
       ">   (Pair[Momentum[p], Momentum[p]] - M   + I M  Γ )\n",
       "                                       V       V  V\n",
       "(-I (MT[μ, ν] - Pair[LorentzIndex[μ], Momentum[p  - p  ]] . \n",
       "                                                b    l-\n",
       " \n",
       "                                                        2\n",
       ">         Pair[LorentzIndex[ν], Momentum[p  - p  ]] / M  )) / \n",
       "                                          b    l-      V\n",
       " \n",
       "                                                      2\n",
       ">   (Pair[Momentum[p  - p  ], Momentum[p  - p  ]] - M   + I M  Γ )\n",
       "                    b    l-             b    l-      V       V  V"
      ]
     },
     "execution_count": 84,
     "metadata": {
      "text/html": [],
      "text/plain": []
     },
     "output_type": "execute_result"
    }
   ],
   "source": [
    "mv = Subscript[M, \"V\"];\n",
    "wv = Subscript[\\[CapitalGamma], \"V\"];\n",
    "\n",
    "gu = Subscript[\"g\", \"U\"];\n",
    "betaL = Subscript[\\[Beta], \"L\"];\n",
    "betaR = Subscript[\\[Beta], \"R\"];\n",
    "\n",
    "vLQvertex[mm_] := I gu GA[mm].(betaL PL + betaR PR)/Sqrt[2];\n",
    "\n",
    "PropagatorV[p_,mm_,nn_] = -I(MT[mm,nn] - Pair[LorentzIndex[mm],Momentum[p]].Pair[LorentzIndex[nn],Momentum[p]]/mv^2 )/(ExpandScalarProduct[SP[p,p]] - mv^2 + I mv  wv )\n",
    "PropagatorV[p1-p3, \\[Mu] , \\[Nu]]"
   ]
  },
  {
   "cell_type": "markdown",
   "id": "65dd257d",
   "metadata": {},
   "source": [
    "## 'Unpolarized' Amplitude\n",
    "The amplitude for the process $b \\bar b \\to \\tau^+ \\tau^-$ mediated by a vector leptoquark $U_1$ is given by:"
   ]
  },
  {
   "cell_type": "code",
   "execution_count": 89,
   "id": "19d38639",
   "metadata": {
    "vscode": {
     "languageId": "wolfram"
    }
   },
   "outputs": [
    {
     "data": {
      "text/html": [
       "<div><img alt=\"Output\" src=\"data:image/png;base64,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\"></div>"
      ],
      "text/plain": [
       "             4   4      4       4     2   2              2\n",
       "        2 E    g   (2 β   + 2 β   + β   β   (1 + Tanh[η]) )\n",
       "           CM   U      L       R     L   R\n",
       "--------------------------------------------------------------------\n",
       "    2    2     2         2   2                     4               2\n",
       "4 M   (M   + Γ  ) - 4 E    M   (-1 + Tanh[η]) + E    (-1 + Tanh[η])\n",
       "   V    V     V        CM   V                    CM"
      ]
     },
     "execution_count": 89,
     "metadata": {
      "text/html": [],
      "text/plain": []
     },
     "output_type": "execute_result"
    }
   ],
   "source": [
    "unpolarizedVectorialLine1[mm_] = b.vLQvertex[mm].tau ;\n",
    "unpolarizedVectorialLine2[mm_] = antiB.vLQvertex[mm].antiTau ;\n",
    "\n",
    "MVectorial = Contract[unpolarizedVectorialLine1[\\[Mu]].PropagatorV[p1-p3, \\[Mu] , \\[Nu]]].unpolarizedVectorialLine2[\\[Nu]] // DiracSimplify // Factor ;\n",
    "\n",
    "ExpandAll[ MVectorial (ComplexConjugate[MVectorial]) // FermionSpinSum[#] & // DiracSimplify ]// Factor // Simplify"
   ]
  },
  {
   "cell_type": "markdown",
   "id": "217c80da",
   "metadata": {},
   "source": [
    "## Polarization of the $\\tau$ lepton"
   ]
  },
  {
   "cell_type": "code",
   "execution_count": 93,
   "id": "8203e95f",
   "metadata": {
    "vscode": {
     "languageId": "wolfram"
    }
   },
   "outputs": [
    {
     "data": {
      "text/html": [
       "<style>\n",
       "\t\t\t\t\t\t\t\t\t\t\t\t\t.grid-container {\n",
       "\t\t\t\t\t\t\t\t\t\t\t\t\t\tdisplay: inline-grid;\n",
       "\t\t\t\t\t\t\t\t\t\t\t\t\t\tgrid-template-columns: auto;\n",
       "\t\t\t\t\t\t\t\t\t\t\t\t\t}\n",
       "\t\t\t\t\t\t\t\t\t\t\t\t</style>\n",
       "\n",
       "\t\t\t\t\t\t\t\t\t\t\t\t<div><div class=\"grid-container\"><div class=\"grid-item\"><img alt=\"Output\" src=\"data:image/png;base64,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\"></div><div class=\"grid-item\"><img alt=\"Output\" src=\"data:image/png;base64,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\"></div><div class=\"grid-item\"><img alt=\"Output\" src=\"data:image/png;base64,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\"></div></div></div>"
      ],
      "text/plain": [
       "    4   4   2      2     2       2             2        2\n",
       "(E    g   β   (4 β   + β   + 2 β   Tanh[η] + β   Tanh[η] )) / \n",
       "  CM   U   L      L     R       R             R\n",
       " \n",
       "        4        2   2       4       2   2        4                2   2\n",
       ">   (E    + 4 E    M   + 4 M   + 4 M   Γ   - 2 E    Tanh[η] - 4 E    M   Tanh[η] + \n",
       "      CM       CM   V       V       V   V       CM               CM   V\n",
       " \n",
       "         4        2\n",
       ">     E    Tanh[η] )\n",
       "       CM\n",
       "    4   4   2    2       2       2             2        2\n",
       "(E    g   β   (β   + 4 β   + 2 β   Tanh[η] + β   Tanh[η] )) / \n",
       "  CM   U   R    L       R       L             L\n",
       " \n",
       "        4        2   2       4       2   2        4                2   2\n",
       ">   (E    + 4 E    M   + 4 M   + 4 M   Γ   - 2 E    Tanh[η] - 4 E    M   Tanh[η] + \n",
       "      CM       CM   V       V       V   V       CM               CM   V\n",
       " \n",
       "         4        2\n",
       ">     E    Tanh[η] )\n",
       "       CM\n",
       "                                        2     2\n",
       "              -2 (β  - β ) (β  + β ) (β   + β  )\n",
       "                   L    R    L    R    L     R\n",
       "--------------------------------------------------------------\n",
       "    4     2   2       4       2   2             2   2        2\n",
       "2 β   + β   β   + 2 β   + 2 β   β   Tanh[η] + β   β   Tanh[η]\n",
       "   L     L   R       R       L   R             L   R"
      ]
     },
     "execution_count": 93,
     "metadata": {
      "text/html": [],
      "text/plain": []
     },
     "output_type": "execute_result"
    }
   ],
   "source": [
    "leftPolarizedVectorialLine1[mm_] = b.vLQvertex[mm].PL.tau ;\n",
    "unpolarizedVectorialLine2[mm_] = antiB.vLQvertex[mm].antiTau ;\n",
    "\n",
    "MVectorialL = Contract[leftPolarizedVectorialLine1[\\[Mu]].PropagatorV[p1-p3, \\[Mu] , \\[Nu]]].unpolarizedVectorialLine2[\\[Nu]] // DiracSimplify // Factor ;\n",
    "MVectorialLSquared = ExpandAll[ MVectorialL (ComplexConjugate[MVectorialL]) // FermionSpinSum[#] & // DiracSimplify ] // Factor \n",
    "\n",
    "rightPolarizedVectorialLine1[mm_] = b.vLQvertex[mm].PR.tau ;\n",
    "unpolarizedVectorialLine2[mm_] = antiB.vLQvertex[mm].antiTau ;\n",
    "\n",
    "MVectorialR = Contract[rightPolarizedVectorialLine1[\\[Mu]].PropagatorV[p1-p3, \\[Mu] , \\[Nu]]].unpolarizedVectorialLine2[\\[Nu]] // DiracSimplify // Factor ;\n",
    "MVectorialRSquared = ExpandAll[ MVectorialR (ComplexConjugate[MVectorialR]) // FermionSpinSum[#] & // DiracSimplify ] // Factor \n",
    "\n",
    "(* tau polarization *)\n",
    "MVectorialPolarization = (MVectorialRSquared - MVectorialLSquared) / (MVectorialRSquared + MVectorialLSquared) // Factor ;\n",
    "MVectorialPolarization\n"
   ]
  },
  {
   "cell_type": "code",
   "execution_count": 102,
   "id": "81c3dbb3",
   "metadata": {
    "vscode": {
     "languageId": "wolfram"
    }
   },
   "outputs": [
    {
     "data": {
      "text/html": [
       "<style>\n",
       "\t\t\t\t\t\t\t\t\t\t\t\t\t.grid-container {\n",
       "\t\t\t\t\t\t\t\t\t\t\t\t\t\tdisplay: inline-grid;\n",
       "\t\t\t\t\t\t\t\t\t\t\t\t\t\tgrid-template-columns: auto;\n",
       "\t\t\t\t\t\t\t\t\t\t\t\t\t}\n",
       "\t\t\t\t\t\t\t\t\t\t\t\t</style>\n",
       "\n",
       "\t\t\t\t\t\t\t\t\t\t\t\t<div><div class=\"grid-container\"><div class=\"grid-item\"><img alt=\"Output\" src=\"data:image/png;base64,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\"></div><div class=\"grid-item\"><img alt=\"Output\" src=\"data:image/png;base64,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\"></div><div class=\"grid-item\"><img alt=\"Output\" src=\"data:image/png;base64,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\"></div><div class=\"grid-item\"><img alt=\"Output\" src=\"data:image/png;base64,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\"></div></div></div>"
      ],
      "text/plain": [
       "               -1.9838\n",
       "-------------------------------------\n",
       "                                    2\n",
       "2.1062 + 0.18 Tanh[η] + 0.09 Tanh[η]\n",
       "              -1.875\n",
       "-----------------------------------\n",
       "                                  2\n",
       "2.375 + 0.5 Tanh[η] + 0.25 Tanh[η]\n",
       "               -1.7408\n",
       "-------------------------------------\n",
       "                                    2\n",
       "2.6192 + 0.72 Tanh[η] + 0.36 Tanh[η]\n",
       "Legended[-Graphics-, Placed[LineLegend[{Directive[Opacity[1.], \n",
       " \n",
       ">       RGBColor[0.368417, 0.506779, 0.709798], AbsoluteThickness[2], Thickness[Large]], \n",
       " \n",
       ">      Directive[Opacity[1.], AbsoluteThickness[2], RGBColor[0, 0, 1]], \n",
       " \n",
       ">      Directive[Opacity[1.], AbsoluteThickness[2], RGBColor[1, 0, 0]]}, \n",
       " \n",
       ">     {β  = 0.1, β  = 0.5, β  = 0.9}, LegendMarkers -> None, LabelStyle -> {}, \n",
       "        R         R         R\n",
       " \n",
       ">     LegendLayout -> Column], After, Identity]]"
      ]
     },
     "execution_count": 102,
     "metadata": {
      "text/html": [],
      "text/plain": []
     },
     "output_type": "execute_result"
    }
   ],
   "source": [
    "(* Plot MVectorialPolarization as function of eta for different values of Subscript[\\[Beta], \"L\"] and Subscript[\\[Beta], \"R\"] *)\n",
    "\n",
    "f1 = MVectorialPolarization /. {betaL -> 1, betaR -> 0.3}\n",
    "f2 = MVectorialPolarization /. {betaL -> 1, betaR -> 0.5}\n",
    "f3 = MVectorialPolarization /. {betaL -> 1, betaR -> 0.6}\n",
    "\n",
    "Plot[{f1, f2, f3}, {\\[Eta], -5, 5}, \n",
    " PlotRange -> All, AxesOrigin -> {0, 0}, \n",
    " PlotLabel -> \"MVectorialPolarization\", \n",
    " Frame -> True, \n",
    " FrameLabel -> {\"eta\", \"MVectorialPolarization\"}, \n",
    " FrameTicks -> {{Automatic, Automatic}, {Automatic, Automatic}}, \n",
    " PlotStyle -> {Thick, Blue, Red, Green}, \n",
    " ImageSize -> Large,\n",
    " PlotLegends -> {\"\\!\\(\\*SubscriptBox[\\(\\[Beta]\\), \\(R\\)]\\) = 0.1\", \n",
    "  \"\\!\\(\\*SubscriptBox[\\(\\[Beta]\\), \\(R\\)]\\) = 0.5\", \n",
    "  \"\\!\\(\\*SubscriptBox[\\(\\[Beta]\\), \\(R\\)]\\) = 0.9\"}\n",
    "  ]\n",
    "\n",
    "\n"
   ]
  },
  {
   "cell_type": "markdown",
   "id": "a6cb4ef9",
   "metadata": {},
   "source": [
    "Since the quark and antiquark are not comming from a predetermined beam, we must to make the avergage over $\\eta$ and $-\\eta$ to get the cross-section. \n",
    "\n",
    "Tau Polarization will be given by:"
   ]
  },
  {
   "cell_type": "code",
   "execution_count": 107,
   "id": "d8928061",
   "metadata": {
    "vscode": {
     "languageId": "wolfram"
    }
   },
   "outputs": [
    {
     "data": {
      "text/html": [
       "<style>\n",
       "\t\t\t\t\t\t\t\t\t\t\t\t\t.grid-container {\n",
       "\t\t\t\t\t\t\t\t\t\t\t\t\t\tdisplay: inline-grid;\n",
       "\t\t\t\t\t\t\t\t\t\t\t\t\t\tgrid-template-columns: auto;\n",
       "\t\t\t\t\t\t\t\t\t\t\t\t\t}\n",
       "\t\t\t\t\t\t\t\t\t\t\t\t</style>\n",
       "\n",
       "\t\t\t\t\t\t\t\t\t\t\t\t<div><div class=\"grid-container\"><div class=\"grid-item\"><img alt=\"Output\" src=\"data:image/png;base64,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\"></div><div class=\"grid-item\"><img alt=\"Output\" src=\"data:image/png;base64,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\"></div></div></div>"
      ],
      "text/plain": [
       "                           2     2       4     2   2       4     2   2        2\n",
       "(-2 (β  - β ) (β  + β ) (β   + β  ) (2 β   + β   β   + 2 β   + β   β   Tanh[η] )) / \n",
       "      L    R    L    R    L     R       L     L   R       R     L   R\n",
       " \n",
       "          4     2   2       4       2   2             2   2        2\n",
       ">   ((2 β   + β   β   + 2 β   - 2 β   β   Tanh[η] + β   β   Tanh[η] ) \n",
       "         L     L   R       R       L   R             L   R\n",
       " \n",
       "           4     2   2       4       2   2             2   2        2\n",
       ">     (2 β   + β   β   + 2 β   + 2 β   β   Tanh[η] + β   β   Tanh[η] ))\n",
       "          L     L   R       R       L   R             L   R\n",
       "Legended[-Graphics-, Placed[LineLegend[{Directive[Opacity[1.], \n",
       " \n",
       ">       RGBColor[0.368417, 0.506779, 0.709798], AbsoluteThickness[2], Thickness[Large]], \n",
       " \n",
       ">      Directive[Opacity[1.], AbsoluteThickness[2], RGBColor[0, 0, 1]], \n",
       " \n",
       ">      Directive[Opacity[1.], AbsoluteThickness[2], RGBColor[1, 0, 0]], \n",
       " \n",
       ">      Directive[Opacity[1.], AbsoluteThickness[2], RGBColor[0, 1, 0]], \n",
       " \n",
       ">      Directive[Opacity[1.], RGBColor[0.528488, 0.470624, 0.701351], \n",
       " \n",
       ">       AbsoluteThickness[2], Thickness[Large]]}, \n",
       " \n",
       ">     {β  = -1.0, β  = -0.8, β  = -0.5, β  = -0.3, β  = -0.1}, LegendMarkers -> None, \n",
       "        R          R          R          R          R\n",
       " \n",
       ">     LabelStyle -> {}, LegendLayout -> Column], After, Identity]]"
      ]
     },
     "execution_count": 107,
     "metadata": {
      "text/html": [],
      "text/plain": []
     },
     "output_type": "execute_result"
    }
   ],
   "source": [
    "PolTau = (MVectorialPolarization + (MVectorialPolarization /. \\[Eta] -> (-\\[Eta]))) / 2 // Factor ;\n",
    "PolTau\n",
    "\n",
    "(* Plot PolTau as function of eta for different values of Subscript[\\[Beta], \"L\"] and Subscript[\\[Beta], \"R\"] *)\n",
    "\n",
    "f0 = PolTau /. {betaL -> 1, betaR -> -1.0};\n",
    "f1 = PolTau /. {betaL -> 1, betaR -> -0.8};\n",
    "f2 = PolTau /. {betaL -> 1, betaR -> -0.6};\n",
    "f3 = PolTau /. {betaL -> 1, betaR -> -0.4};\n",
    "f4 = PolTau /. {betaL -> 1, betaR -> -0.1};\n",
    "\n",
    "Plot[{f0, f1, f2, f3, f4}, {\\[Eta], -5, 5}, \n",
    " PlotRange -> All, AxesOrigin -> {0, 0}, \n",
    " PlotLabel -> \"PolTau\", \n",
    " Frame -> True, \n",
    " FrameLabel -> {\"eta\", \"PolTau\"}, \n",
    " FrameTicks -> {{Automatic, Automatic}, {Automatic, Automatic}}, \n",
    " PlotStyle -> {Thick, Blue, Red, Green}, \n",
    " ImageSize -> Large,\n",
    " PlotLegends -> {\"\\!\\(\\*SubscriptBox[\\(\\[Beta]\\), \\(R\\)]\\) = -1.0\", \n",
    "  \"\\!\\(\\*SubscriptBox[\\(\\[Beta]\\), \\(R\\)]\\) = -0.8\", \n",
    "  \"\\!\\(\\*SubscriptBox[\\(\\[Beta]\\), \\(R\\)]\\) = -0.5\", \n",
    "  \"\\!\\(\\*SubscriptBox[\\(\\[Beta]\\), \\(R\\)]\\) = -0.3\", \n",
    "  \"\\!\\(\\*SubscriptBox[\\(\\[Beta]\\), \\(R\\)]\\) = -0.1\"}]\n",
    "\n",
    "\n"
   ]
  },
  {
   "cell_type": "markdown",
   "id": "025c6654",
   "metadata": {},
   "source": [
    "# Neutral Vector\n",
    "\n",
    "$$\n",
    "\\mathcal{L}_{Z^{\\prime}}= -\\frac{1}{4} Z_{\\mu \\nu}^{\\prime} Z^{\\prime \\mu \\nu}+\\frac{1}{2} M_{Z^{\\prime}}^2 Z_\\mu^{\\prime} Z^{\\prime \\mu} \n",
    "         + \\frac{g_{Z^{\\prime}}}{2 \\sqrt{6}} Z^{\\prime \\mu} (\\zeta_q \\bar{Q}_3 \\gamma_\\mu Q_3 +\\zeta_t \\bar{t}_R \\gamma_\\mu t_R \n",
    "          +\\zeta_b \\bar{b}_R \\gamma_\\mu b_R-3 \\zeta_{\\ell} \\bar{L}_3 \\gamma_\\mu L_3-3 \\zeta_\\tau \\bar{\\tau}_R \\gamma_\\mu \\tau_R)\n",
    "$$\n",
    "\n",
    "\n",
    "The vertex $Z' b \\bar b$ is $i \\frac{g_{Z^{\\prime}}}{2 \\sqrt{6}} \\gamma_\\mu (\\zeta_q \\gamma^\\mu P_L + \\zeta_b \\gamma^\\mu P_R)$, and the vertex $Z' \\tau^+ \\tau^-$ is $-i \\frac{3 g_{Z^{\\prime}}}{2 \\sqrt{6}} \\gamma_\\mu (\\zeta_{\\ell} \\gamma^\\mu P_L \\zeta_\\tau \\gamma^\\mu P_R)$, so we have:\n",
    "```python\n"
   ]
  },
  {
   "cell_type": "code",
   "execution_count": 125,
   "id": "4cdcc1ae",
   "metadata": {
    "vscode": {
     "languageId": "wolfram"
    }
   },
   "outputs": [
    {
     "data": {
      "text/html": [
       "<div><img alt=\"Output\" src=\"data:image/png;base64,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\"></div>"
      ],
      "text/plain": [
       "(-I (MT[μ, ν] - Pair[LorentzIndex[μ], Momentum[p  + p ]] . \n",
       "                                                b    _\n",
       "                                                     b\n",
       " \n",
       "                                                       2\n",
       ">         Pair[LorentzIndex[ν], Momentum[p  + p ]] / M  )) / \n",
       "                                          b    _      V\n",
       "                                               b\n",
       " \n",
       "                                                    2\n",
       ">   (Pair[Momentum[p  + p ], Momentum[p  + p ]] - M   + I M  Γ )\n",
       "                    b    _             b    _      V       V  V\n",
       "                         b                  b"
      ]
     },
     "execution_count": 125,
     "metadata": {
      "text/html": [],
      "text/plain": []
     },
     "output_type": "execute_result"
    }
   ],
   "source": [
    "mv = Subscript[M, \"V\"];\n",
    "wv = Subscript[\\[CapitalGamma], \"V\"];\n",
    "\n",
    "gzp = Subscript[\"g\", \"Zp\"];\n",
    "zetaLb = Subscript[\\[Zeta], \"bL\"];\n",
    "zetaRb = Subscript[\\[Zeta], \"bR\"];\n",
    "zLQvertexb[mm_] := I gzp GA[mm].(zetaLb PL + zetaRb PR)/Sqrt[2];\n",
    "\n",
    "zetaLtau = Subscript[\\[Zeta], \"tauL\"];\n",
    "zetaRtau = Subscript[\\[Zeta], \"tauR\"];\n",
    "zLQvertextau[mm_] := I gzp GA[mm].(zetaLtau PL + zetaRtau PR)/Sqrt[2];\n",
    "\n",
    "\n",
    "PropagatorV[p_,mm_,nn_] = -I(MT[mm,nn] - Pair[LorentzIndex[mm],Momentum[p]].Pair[LorentzIndex[nn],Momentum[p]]/mv^2 )/(ExpandScalarProduct[SP[p,p]] - mv^2 + I mv  wv );\n",
    "PropagatorV[p1+p2, \\[Mu] , \\[Nu]]"
   ]
  },
  {
   "cell_type": "markdown",
   "id": "6aa0b97c",
   "metadata": {},
   "source": [
    "## 'Unpolarized' Amplitude\n"
   ]
  },
  {
   "cell_type": "code",
   "execution_count": 129,
   "id": "f912814d",
   "metadata": {
    "vscode": {
     "languageId": "wolfram"
    }
   },
   "outputs": [
    {
     "data": {
      "text/html": [
       "<div><img alt=\"Output\" src=\"data:image/png;base64,iVBORw0KGgoAAAANSUhEUgAAA8UAAABOCAIAAACGzyO9AAAA0npUWHRSYXcgcHJvZmlsZSB0eXBlIGV4aWYAAHjabVBbDsMgDPvnFDtCXjhwHNpSaTfY8RcK09RplrAdk6Siqb+eZ3oMCFOy7AUVoIBVq9LCFJqYylQvvrBn0pXe8mR9Gm4R5e8FPvl2zx1TpfwsIplGxxfCq62BtUhl5txmva1+aaXcFp3beWE9hvAx/L82dUEGuwWbkDtq+JLChiALZceJHYhGxiFke2iHe4zBR4e2MTgg3e/dPUEjOMYTdJysLXSwKMcoR9WCOVg1y7Furz+e3u88XI3pIpBqAAAACXBIWXMAAA7EAAAOxAGVKw4bAAAAPHRFWHRTb2Z0d2FyZQBDcmVhdGVkIHdpdGggdGhlIFdvbGZyYW0gTGFuZ3VhZ2UgOiB3d3cud29sZnJhbS5jb21coqaFAAAAIXRFWHRDcmVhdGlvbiBUaW1lADIwMjU6MDU6MjEgMTA6MTE6MzWn9n94AAAgAElEQVR4nO2deVgUV7rwDzsmAoIgix24uEW8YQBFEBeurGrgSdSBKCOIBBEzUTFRzAiNGsyIQ4hgLjKik0QkFxfEBcUEEiRojCwKJh+LRB0QAiKL2izSNN1d3x8nU9PTG71Ud1e37+8PnqpTp855l1NvnS7OokcQBAI0AZ/Pf/DgwZUrV3bs2JGVlZWQkKBpiQAAAAAAAAC50de0AC8v+vr6s2bNWrZsmaYFAQAAAAAAABQH+tMAAAAAAAAAoDjQnwYAAAAAAAAAxYH+NAAAAAAAAAAoDvSnAQAAAAAAAEBxoD8NAAAAAAAAAIoD/WkAAAAAAAAAUBzoTwMAAAAAAACA4hhqWoCXndHRUYQQh8PRtCCArCQlJd2/f7+wsFCLquDz+bt37x4cHBwdHeXz+cePHzc0pNezrzYJ6W8KUbRRZuWhm9ZUyUM3vegpkiAQHADtgAA0RF9fX2Ji4uLFixFCzs7OCQkJ1dXVmhYKGIe7d+8uXLgwLCxMu6ooKytzd3fHx/b29qdPn6awcEpQm4T0N4Uo2iiz8tBNa6rkoZteBC1FEgSCA6AVwG8vjTF58uT09HRNSwHIAY/Hy83NjYyMvHbtGj2r4HA4L168mDRpklB6QEDADz/8gBAiCILP5/f19SkvKrWoTUL6m0IUbZRZeeimNVXy0E0vREuRBIHgAGgFMH4aAGTl6NGj69ev19dX4VOjTBV8Pj85OXnChAmil/T19S0sLBBCP/zwA5/PX716tbKCyklLS0t4ePi0adOys7PFZlCbhBo3hQJoXOZx3acKNK61iuShm14aFwmCA6AbQH8aAH6npqYmOjpaT0/vlVde2bBhQ1xcXGRkpJubm56eXmNj45MnT+7fv79gwQLVCaBkFVlZWW+//baJiYmkDM3NzQcPHrx9+7a9vb3sxXI4nKGhIcVEInn99deTkpJaW1t5PJ6UbIpJqABqq0iIgYGBxMTEN998MzIycv78+cePH5f9Xvq7TxVoylOSoEoeuumFFBIJggMA/BtNDTQBAHpib28/d+5cwZTg4OCGhoZNmzZFRERs377d399/xowZKSkplFetTBWDg4OhoaFSMtTX18fFxQ0PD8sr1cGDBykZR/jgwQOEUFZWlqQMCksoL2qrSBQ/Pz8Gg4GrPnnyJELowoULstxIf/epAg16SixUyUM3vQhFRYLgAAAk0J8GgP+AwWB4enoKphQUFDx48IA8PXr0qCrmIw4ODipTxYkTJ44cOSKUmJub29PT8/nnn9va2vr7+3O5XJxeUlIiY7EvXryYMmWKGl6ZfX19ISEhYiXkcrmZmZkdHR2SSq6rq8vPz5dSNWkHe3v7uro6SRWpmpGRkVdffTUzMxOftre3I4QiIyMl5dci92F0xlOqkEd5b1KL8qpBcAAAQWC8BwBIg8vlvv3229OnT8en1dXVV69ebWxsrK2tVbjMoaGhHTt2rFixIiYmxtvbe/v27X5+fm+99ZYyVVy5cmXevHlCiU+fPg0LCzt9+nRwcHBNTQ2DwbC3t7eysrp+/bosZRYWFgYHB/f09GRkZKxatSo/Px8h1NbWtmHDhsDAwJCQEA8Pj+LiYpz5/Pnzfn5+Dg4Og4ODqampXl5ekyZNioyMfPHihWCZBEFgeczNzX18fJqbm3F6dnZ2ZWWlWAnj4uL8/f0ZDIYkOT08PAwNDT/99FNJGUg75OXlFRcXS6pI1ZiamjY2NiYkJOBTc3NzhNCTJ08k5dci92F0xlOqkEdJb1KOkqpBcAAAYTTcnwcAmiH0ffrUqVNff/01tVWsXr3a1tZ2YGCAIIiffvoJIbRjx45nz54pU6aTk1NXV5dQYmFhYXZ2tjLF4tnu5CcoDofDYDCWLFnC4/EIgnj33XfNzMxGR0fx1T179iCEvL29a2pq+Hz+0aNHEUIHDx7EV/EnKHt7+7y8vNHR0YaGBnNz88WLF0sXoKCgIDY2VhZRFyxYUF9fL/aS8nZQBeXl5QihXbt2ScqgXe7TOk/l5uY2NDRIz0OhPLqnGgQHBZDFNYCWAv1pAPgPGAyGlZVVZGRkZGRkWFjY5MmTqe1PDw0N6enprV69mkwxNzd/++23lSnz2bNnCCHy1YVpampSslhC5JXJ5XLDw8PLy8vx6eHDhxFCnZ2d+DQrKwshdPnyZXzK5/PNzc1XrlyJT/Erc/PmzWThERERJiYm+O0rifnz51+9epUgiObm5vj4eBcXl76+vv3798+ePdvV1ZXNZpM5Dxw4sHHjRtESKLED5fD5/MDAQEdHx97eXrEZtM59Wuep+Pj4iooKKRkolEcnVaNPcCDGa3U0aXKEDK4BtJff159W/6xtAKAJ+vr6enp6ginTpk3D/74cGRlhMpnUVmdsbGxkZDQ4OIhPx8bG2Gy2g4ODMmU+efLEyMjI2NiYTOFyuZs2bfryyy+VklUEAwODs2fPIoRGRkauXLmCZ9QRBCGYZ8aMGfhAT0/PxsZGaPo/OXIGITRlypTR0dGxsTFJa5L09vbW1tZ6eXkhhIyNjZlM5muvvZaTk5OYmLhy5UpXV9e+vr6pU6fizF5eXqLrbanIDsqTnJzMYrGqq6utra1Fr2qd+3TPUxTKo8OqCaLB4IDGa3Va0eQAbccQIfT8+XO8Sx8AvIR8+umnK1asEHtpwoQJW7ZswV9/MSUlJd98882MGTMIgmhoaEhJSeno6Ni2bVtLS0tXV5fgRiorVqy4ceNGTk7O+vXrBcs0MjJiMpmpqakXL14MCAg4cODAxIkTt2zZghBqaWkJCAiIi4ubPHmynp7ekSNHTExM6uvrx1WBxWIJ7YubkZExf/78mTNn4tPCwsIPP/zw0qVLc+fOJfPcvHkzISGhu7s7MzMzPDx8fEshhBCqrq7OyMgYHByMi4uLioq6c+eOUAbBHydCP1TGvSpER0eHgYGBlZUVQmjatGnnz5+3s7NjMpl6enqdnZ22trZkFw0hZG1t3d3dzeVyBU0hZAcFYLPZ6enpe/fujYuLS05OdnJyEs1DEERpaaloup2dnbu7u2g6k8lsamqqrKwUu1i4qNj0d582eqqjo6OmpobNZiNxnqLQBTqsmhCaCg5ovFanuib3t7/9bd++fevXr589e/b3338fFxe3du1aoWyyuwbQagwRQpMmTWpoaNC0JABAR5ydnZ2dnXEgPnz4cGFhYVlZ2SuvvIIQ+uc//5mVlZWVlRUcHMxms/Pz87du3YrvevToUUdHx/Tp04U605idO3fev3+/pKTk+++/nzFjxr1792xsbPClv/71r9HR0QihW7duPXjwAI+uHhculyu4BUxPT09aWprgXLHw8HD8v1TBuxYtWrRs2bJ79+7J/r5sa2vz9fWNjo4uLCxECB05ckTGGxWDy+UaGRmRb9aKioqAgAB8WlZWFhQUJJjZxMSEz+fz+XwyRdQOCCEWi9Xe3u7q6iqjDKamprt37967d+/WrVvF9mMQQgRBfPvtt6Lp7u7uou/L5OTkjo6Oc+fOCf0EkiI2/d2njZ7CPZuuri4k4ikKXaDDqgmh2eCApLY61TW5pKSkffv2JSYmvvHGG56enqGhoQEBAWQ8x8joGkDbgf3GAUAYoVcLQmjTpk0ZGRkpKSkXLlzAnWmE0LRp02JiYhBC+vr68fHxubm5ZH86Pz8/Ojq6oKBAbPmbNm1qb28vKSmZOHGiYLqTkxPeQYDD4cTFxW3ZssXT01MWgS0sLASHbB0/fnzq1KlCY0jE7rmor68vy16Mo6Oj+ODGjRscDofccQaPWhF8S1GLjY0Nm83mcDh4KMu1a9cSExPxpbKyso8++kgw88DAgIWFheCgF7F2OHLkiJOTk5RXJo/HMzAwEDzGJpJiKH19fTw8dFzy8vJ++eWX4uJish/Q0dFhbm6Od2WTIjbN3aeNntq8efPatWuXLl0qmo1CF+iwahiaBAcktdWpusnhx9nd3Z3D4XR2dgr1p2V0DaDtwHp5APAf8Hg8FoslmHLlypX+/v47d+4MDQ35+voKXnJzc8MHUVFRra2tN2/eRAhxuVwWizVlyhRJVSxatKi6utrMzExPT8/Y2HjWrFmfffYZQsjU1BSvoXbw4MGhoaH9+/cjhB4+fBgUFPT+++9/8sknq1at8vX1bW1tFSrQ0tKSfKshhKqrq7u7u8vLy0UVSUpK8vLy+uCDD0R/M4jFzs4OIVReXs7n89ls9uzZsxFChYWFXC63s7Pz1KlTCCE8lwj9690p+Abl8XjkKT4Q7PfjYymTNxwdHa2srLC+jx8/bm5uDgwMRAh1dXU1NjYKffVsa2sj3SHJDpcuXcrNzb148SJe6TY1NZXJZG7fvj0sLAwh1Nzc7OXltW/fPoRQfX29i4sLtdtr9/f3JyQkLF++vKysrLS0tLS09Pz585GRkUK9Fm10n455ikIX6LBq9AkOaLxWp54m19TUZGdnh+0AvIyobeYjANCc2tra2NhY/FwEBgbGxcXFxMQEBAQYGBhER0fn5uZaWlqKvfEvf/kLl8uNiYmJiooiCKKoqOj69esnTpxwd3cXm//HH38MCgo6dOjQhQsX0tLSfHx8EEJnz57FV5ubm01MTMh56wRBJCQk+Pj44F0G1q1b9+abb4qWOWnSpKGhIXx86tQpsjdPzqC3trbOzc0lCKK/v9/CwqKoqIggCCaTKX3jGD6f/95771laWi5evDgvL48giPT0dDs7uzlz5iQkJFRUVNjb2/v6+hYXF584cWLOnDkIoZCQkFu3bj19+nTr1q0GBgZmZmY7d+6sqakJCQlBCM2aNeuLL74gCCIjIwN/HFq7du29e/ckCRATE/OPf/yDIIisrKzp06fjxK+++krUttu2bTt8+LBgilg7LF68GC/Y0tPTs2zZMjabPTY2ZmFhgbfsiY2NZTKZOGdISAh+s3K5XISQ8qtcif0P+IIFC4Syaan7tM5TUlZaoNAFOqwafYIDMV6rU3WTS0lJSUtL27Bhw6NHj6RYjID1PXQa6E8DgExcvnzZwMCA3DpLENyfrqqqMjEx6evr27ZtG0EQkvrTv/32m6mp6WeffUamjI6OWlpaJiQkEATB5/OXLFkSEREheMv27dvxVYIgTp48OXnyZNFi/fz87t+/L5jC5XJ7enpWrVo1NjZGEIS1tXVtbS2+5O/vv3PnTkKGV6bGaWtr8/f3F1o2KyIiQmjZ5v7+fl9f35GREdEShOxAvjIJgmCz2d98883hw4ctLCzu3r1LEMTGjRvJV2ZoaCi1/Wm50Dr36Z6nKHSBDqumQcQ2OUKk1amnybW1tbm4uBQUFKhAUUA7gPEeACATeOKI0I5ZeOYNj8fj8Xje3t4uLi67d++WPmG8vb2dzWbjcR0YY2NjMzOzWbNmIYSOHTvW2NhIDrbr7e3FAznI4baGhoZiV1gLDAysq6sjT8fGxgwMDGxsbJYuXUrOeyMLMTIyIufFC9LR0SHVBhrAyclp//79hw4dEkysqKjw9vYmTzkcTnp6+smTJ01NTYVuF2sHTGtrq4eHh4mJybZt28zMzESrljT0k81m9/X1KaiPbGij+3TMUxS6QIdV0yximxz6z1antibn5OQUFxeH96kBXk4UnI/I4XBevHghuDqYiuDz+bt37x4cHBwdHeXz+cePH5c0KV7bq05KSrp//z7un9ENhU2hQfeJImjh3t5eoSkj48JgMP785z+npKSUl5fjJVGbmprOnDkTHh4+PDw8MDBgbW0dHx+/Y8cOvLct/sEqWo6Hh8fUqVO/+uqryMhIHOIvXrxIEMQf//jHx48ff/TRR5mZmeQ/InNzc99//32EUE9PD06pqqry9/cXLTYiImLv3r3vvPMOqayDg4Ozs3NkZCSZB29tPTY29vPPP3/88cdYSPx9BZOTk5OWliaXWdTAwoULp06d2t7e7ujoiBDq7u7u7u5+/fXXyQz37t1LSkoS/IlCImoHAwMDbMy6urpnz54tXbq0v7+/r69vZGQEITRx4sSmpiaE0PDwcHNzMx6Cif1IGuq7776bPHmy2F81VKGl7tMlT1HoAh1WTeMINTkk0urU0+TwX3d39127dg0MDIitDtB5FOnc8Pn85OTkTz75hHJpRCkvLy8rK8NL8Do4OBQVFa1Zs0YN9aq56p9//rmyslLJTT1Uh8Km0KD7hBCycFdX1+XLl9999125Cjl06NDRo0djY2Pd3Nz09fWvX78eFRX1448/4rHOe/fuXbdu3aNHjywsLJqamoqKih4+fFhQUPCnP/1JsBBTU9OKioo9e/b4+vq6urriSfQVFRW2trbvvPOOoaHh6Ohobm7u2NhYa2vr3//+dzxLvaKiIjU11cDAYHBwMDMzU1Q2Z2dnU1PT3377jcFgIIRwn14QT0/P3NzclpaWlpaWTz75xNvbu6qq6rvvvmttbc3IyODz+Tdu3BD9hEMTBNcIs7OzE/qh8oc//EHSjaJ2WL16dU5Ojp6eXmxsrLOz8/LlywMDA728vI4dOzZjxoz169fHxsZGRUXNnTt35syZ33zzzZtvvllUVIQQSktLW7JkycOHD8+cOVNWVkapfuOLrS3u0xlPUegCHVaNDggtICjU6lTd5C5cuIAQOnbsWFJS0pIlS3x8fNasWXP27FmxX7UBHUd0CMjg4CCDwdiwYYOkMSKfffbZjRs3ZBlNwmKxdu7cuWLFinXr1nl6eh47dkw0T3V1NV6jd8KECdHR0Rs3bly3bh1+BhoaGng83vPnzwmC4PP5tra22dnZstQrCT6fv3PnTjwrOT09XTRDd3c3/ui+bt26kpISSqqWriBBEFwu97333svJyVHbYDW57HD16lWFvUCt+xQTnpBg4T179qh5RKzCbN++ffv27eNm6+3tFRqrCgAAAACAGhDTn96xY4ehoaGk/vTg4GBoaKiMpfv5+TEYjOHhYYIg8O6jFy5cEJvT3t5+7ty5ginBwcGC3Z1r167Z2Nh0dXXJWLUUQkJCrKysxHZe161bZ21tjXe/o7ZqKQpmZ2ffunXr6NGjap78Ia8dCCVMQaH7MHIJL9bC3d3da9eupUoelZKQkEDOR5TOr7/+2t3drWp5AAAAAAAQRHg+4s8//9zb2ytlVFZRUZGkzZmFYLPZNTU1O3bswPtf4AXM8T+tRCHXRSfZsGED+Q+m5ubmgwcP3r59G+92oSRPnz718/Orra0VSv/+++9fffVVhNCSJUvIRKqqlqTgkydP7t+/T66Br07ksgOSbIrm5ubIyEg9Pb0FCxbgL6nx8fE2NjYnTpyQfqN6hJdkYVtb26GhIVVPLFOe//f//t8PP/xw7dq1H3/8cdzMM2fOtLW1VYNUAAAAAAD8G8HONZ/P9/Pza29vt7Ozk/R9OiwsrKqqSsbeeltbG5/Px8fPnz9HCAUFBYnNyWAwPD09ydOxsTH8VZsgiPr6+ri4OPJUSR4+fPinP/3pwIEDCKEnT56Q6Ww2+3/+53+qqqoQQuS4FAqrlqTgpk2bIiIitm/f7u/vP2PGjJSUFOXrkgW57ECMZ4qamhqEUFlZGZnyyy+/nDhxYtwb1SC8FAsnJydjIQEAAAAAABTmP76YfvHFF4sWLXrttdek9L9ra2vJibTj4uTkRK7Cc+fOHYSQh4eHLDeeO3cOD/Pv7+9nMpl///vf8Ufuq1evyli1JG7duuXj4zN37lyEEO4FYtLS0hISEhobGxFCCxculLdqvMyZ7GKQCubm5hYUFGRmZr7zzjvu7u6pqakKqSW3MLLbAclgCuxl0tcIIVdX1/DwcAXcR7nwUizs5OR0+/btcUUCAAAAAACQwr/70ywWKzs7W3DLe1GeP3/+6NGjyZMny1sNQRBpaWmOjo6JiYmS8vzzn/+MioqKiooKDw/fsmULTszOzq6srGQwGPb29lZWVkKr/yrATz/9tGDBgnnz5iGEyPV6m5ubf/3111WrVt28edPCwsLFxUXequvq6np7e6VXLVZBTHV19dWrVxsbG0UHMCiALMLIbgekqBdeeeUVBW6kXHiMWAtbWlrevXtXFl0AAAAAAAAk8e/18lJTUxMSEiZOnCgl95MnT4yMjIyNjeWtJjk5mcViVVdXSxmZPW3atPz8fITQyMgIk8nEiXv37t27d6+81Unh7t27bm5uRkZGjo6O+JM5QRCJiYnHjx9HCN28edPb2xsPdKa8arEKYry9vS9dukRhXeMiux2QEqag3IYYuYTHiLWwmZkZXnUVAAAAAABAYX7vT7e0tPz444+iyzEKwWKxyP04CIIoLS0VzWNnZ4d3kiNhMplNTU2VlZUTJkyQRaYJEyZs2bLl2bNnsmSWi+HhYWNjYyMjI4TQvHnz8FCBo0ePrly50t7evr+/v6WlJSIiQsbSBC3Q0dFRU1PDZrOROAsIoQoF5RKGWjtor/CGhoYsFotKTQAAAAAAePn4/RvehQsXOBzOvHnzPDw8PDw8+vr6iouLPTw8Ll++LJiby+WSn/0IgvhWHEL/QE9OTm5vbz937pyMnWmMs7Pz3Llzyc2ZSkpKtmzZkpWVlZmZGRsb29bWduPGDQ8Pj1deeQVPcyRZsWLFxIkT8dp8otTU1Hh6euLjefPmdXZ21tXVlZaWxsbGIoR++uknhNCcOXPCw8P19PS+/vprnPPOnTve3t6bN28eHh4WLE3QArgXKNYC6lFQLmFksYOPj09vb6+MppCEjCVoSnh9fX3BDcAAAAAAAAAUQewsRUnrezQ0NJiamso+2/HEiROhoaHkEh8EQbS3t+MNPoRgMBjz5s0TSoyJiSEIIisra9GiReQCEQ8fPsRr8e7atWv27Nmff/45mb+tre2///u///CHP0iSZ9++fadOncLHeG7czJkzf/31V5zy0Ucf6enpPX/+/OnTp0ZGRrW1teSNb731Fo/Hk6JpfHx8RUWFlAzqUVBGYWS0A0EQMpoCD0r+7rvvROuS15jqFL60tNTZ2VlKXQAAAAAAAOMivP40hsvl8ng80XRLS8vR0VEZe+r9/f0JCQnLly8vKysrLS0tLS09f/58ZGSk0MBWDI/HE/rP+5UrV/r7+58+fZqSkvLxxx/jBSIQQtOmTYuJiUEI6evrx8fH5+bmkrfk5+dHR0eLLR9z6dIlZ2dnfIxns8XGxs6cOROnVFZWzpo1y8LCwtLSMigo6Pz58zi9s7PzjTfekFKsLKhHQRmR0Q4IIeVNQbkxKRR+ZGTE0tJSYUkAAAAAAACQ4PoemOLi4ujo6L6+vrKysr/+9a9CVx0cHCwsLGT8X/+ZM2dYLNaWLVuW/4s//vGPHA5HaF/727dvb9y48fHjxw8ePAgKCtq0adO7774bGBi4cuVKS0vLO3fuDA0N+fr6Ct7i5uaGD6KiolpbW2/evIkQ4nK5LBZrypQpYoWpqqpavXp1fX19UlIS/qg5ZcqUDRs27NixAyF0/fr19evXV1VVdXZ2JiQkPHv2bM2aNWQ/7OLFi8oMJlaPgjIirx0QQuOaoqWlJScnByF09OhRcrUNQagyJuXCs1isOXPmKCYMAAAAAADA78j7QdvPz+/+/fuq+FQultzcXEtLS7GX/vKXv3C53JiYmKioKIIgioqKrl+/fuLECXd3d+Xrff78ubGxMd4P/P3331e+QEloSkHZUd4UajOmvFUfOHDg0KFD6pQHAAAAAADdQ+5/uwcGBor9BqkiHBwcBgYGxA4+wcTHx589e7a/v7+yslJof2xlsLCwCAoKOnfuXHd3N4PBoKpYUTSloOwobwq1GVPeqpuamgIDA9UpDwAAAAAAuofc/emIiIgrV66oQhSx4OXShPYBKSwsRAjxeDwej+ft7e3i4rJ7925yBC1VhIWFFRYWFhUVhYeHU1uyIBpUUHaUN4V6jClX1RwO5/Hjx66urmqWBwAAAAAAHUPu/rSzs7Opqelvv/2mCmlEYTAYf/7zn1NSUsh5kE1NTWfOnEEIDQ8PDwwMIITi4+P/7//+LyoqCv1r+AolVb/11lstLS3Xr1+fPn06JQWKRYMKyo7yplCPMeWq+uzZs5s3b1azMAAAAAAA6B4G+/btk/ceHx+fzMzMoKAgFcgjhqCgIDabnZOT8/Dhw6qqqi+//HLdunVPnz5NT0//7bffPD09582bx+FwQkJCmpqaPv/88/r6+v/6r/9S/rvjhAkTbt686evru3DhQkoUkYSmFJQd5U2hNmPKWPXz588LCgo+/PBDNQsDAAAAAIDuoafYx8779++bm5vb2tpSLhAAqIHbt2+7urqamJhoWhAAAAAAALQeBfvTAAAAAAAAAAAgBcZPAwAAAAAAAABAAv1pAAAAAAAAAFAc6E8DAAAAAAAAgOJAfxoAAAAAAAAAFAf60wAAAAAAAACgONCfBgAAAAAAAADFgf40AAAAAAAAACgO9KcBAAAAAAAAQHEMNS0AlfD5/N27dw8ODo6OjvL5/OPHjxsa6pSCotBQZQpF0m3tVITaJKS/KcSipWIrCd20plYe3dZOFUCUGBftlVwZaKi1NsUKQocoKytzd3fHx/b29qdPn9asPGqAhipTKJJua6ci1CYh/U0hFi0VW0nopjW18ui2dqoAosS4aK/kykBDrbUoVujUeI+AgIAffvgBIUQQBJ/P7+vr07REKoeGKlMokm5rpyLUJiH9TSEWLRVbSeimNbXy6LZ2qgCixLhor+TKQEOtaRsrent7hZMo7JvTh2vXrtnY2HR1dam53nv37oWFhTk7O//v//6vmqvWlMpSoFAk3dZOXmRsZmqTkIbekQX6e1AV0M1Z1Mqj29rJBUQJqngJuxMELf1Ft1hx9+7dL774QjCFpv1pFou1c+fOFStWrFu3ztPT89ixY7Lf29TUFBwc/OjRI7lqHB0dHRwclFNMMdTV1SGEsrKylC9KdhRTWaVQKJIuaae2ZqY2o2nQO+qPEgQECkqhVh6d0Q6iBLVAd0Je6PYoEXSNFXv27GloaCBPadqf9saKSIcAAA1WSURBVPPzYzAYw8PDBEGcPHkSIXThwgVZbqyvr4+Li8M3ysXBgwcpGUnz4MEDNT8ACqusOigUSce0U08zU5vRNOsd9UcJAgIFdVArjy5pB1GCWqA7IRca95cotI0V3d3da9euJU/p2J8eGRl59dVXMzMz8Wl7eztCKDIyUmzm3Nzcnp6ezz//3N7evq6uLiQkhMvl4kslJSUy1vjixYspU6ao5wHgcrmZmZkdHR2SMtTV1eXn50upghKVKYeUytbW1t/fX2GRaKgdVSKpp5n19fVJklCX2p76owQBgUJpqIoSBP2006429pJECULXuxOEzvlLFSKpVMHQ0NDe3l58TMf5iKampo2NjQkJCfjU3NwcIfTkyROxmZ8+fRoWFnb69Om8vLzi4uLKykoGg2Fvb29lZXX9+nVZqissLAwODu7p6cnIyFi1alV+fj5CqK2tbcOGDYGBgSEhIR4eHsXFxTjz+fPn/fz8HBwcBgcHU1NTvby8Jk2aFBkZ+eLFC8EyCYI4ffp0cHCwubm5j49Pc3MzeSkuLs7f35/BYEiSx8PDw9DQ8NNPP5WUQXmVVQEpVXBwcE1NjcIi0VA7SkRSWzPLzs6WJKEutT01RwkEgYIKqIoSiH7aaVcbe0miBNL17gTSOX+pQiSVKujm5lZSUvL7iZJ9czVQXl6OENq1a5fYq4WFhdnZ2UpWged7kj8oORwOg8FYsmQJj8cjCOLdd981MzMbHR3FV/fs2YMQ8vb2rqmp4fP5R48eRQgdPHgQX8U/KO3t7fPy8kZHRxsaGszNzRcvXoyvFhQUxMbGyiLSggUL6uvrxV6iRGXZyc3NFRwhJAmqpKKhdlSJpLZmJhata3syNjyMGqIEAYFCMmqOEtQWNS4QJUShScOTF13qThDa6S91Pk2qKE2IY8eObdmyBR/TvT/N5/MDAwMdHR3JL+qCNDU1vf3228rXIvQAcLnc8PDw8vJyfHr48GGEUGdnJz7NyspCCF2+fJmU0NzcfOXKlfgUPwCbN28mC4+IiDAxMcHP0vz5869evYrTm5ub4+PjXVxc+vr69u/fP3v2bFdXVzabja8eOHBg48aNqlNZduLj4ysqKqTnoUoqGmpHoUhqa2Zi0bq2J0vDw6gnShAQKCSjzihBbVGyAFGCtg1PLnSsO0Fop7/U+TRRXpoohYWF5C8cuu/3k5yczGKxqqurra2thS5xudxNmzZ9+eWXlFdqYGBw9uxZhNDIyMiVK1fwDAaCIATzzJgxAx/o6enZ2NgMDQ0JXp0+fTp5PGXKlNHR0bGxsYGBgdraWi8vL5xubGzMZDJfe+21nJycxMTElStXurq69vX1TZ06FSHk5eWVnZ0tJJjqVFYGqqSioXYqFUlFzczExES0rt7eXp1sexiNRAkEgUIeKBSJbtppYxt7CaME0q3uhImJiU76i1qR1KCgmZkZOXyIjuOnSZhMZlNTU2VlpZ2dnejVjIyM+fPnz5w5E58WFha+9tpreH0Zkps3b3p6ejIYjMLCQrmqrq6uDg8PX7Vqlb6+flRUlGgGPT09scdSrnZ0dBgYGFhZWeHTadOm1dTU2NnZMZlMU1PTzs5OW1tb3PQRQtbW1t3d3VwuV4rKisFmsz/++GM9Pb3o6Oi0tLSAgIDTp08L5SEI4tt/0dHRUVNTg4/v3r0rWiBVjlBeO1lUk0s7uVRLT0/fvHnzmjVr+vv7ZRRYFc1MLPRpe6mpqXp6eps2bXr06JFoBrkaHobCKEETD+qksyh0BCWBQrpqcmknKg+1zewljBJyvaEEoWegUJEHtdRf6nya1NCpMDQ0ZLFYvx8rXI2qSU5O7ujoOHfunNjd1Xt6etLS0gQH5oeHh+N/iwhmW7Ro0bJly+7duxceHi571W1tbb6+vtHR0bjzd+TIEUWV+A+4XK6RkZHg81BRUREQEIBTysrKgoKCyEsmJiZ8Pp/P55MpoipjWCxWe3u7q6urjGKYmpomJSXt27cvMTHxjTfe8PT0DA0NDQgIsLGxIfPg1o+Pcevv6upCCLm7u7u7uwuWRpUjxGqnCtVk104u1VpaWnbt2oUQWrx48SeffJKZmTmutCpqZmKhT9vbvXv33r17t27d6uTkJJpB9oaHoTBK0MeDuucsCh1BVaCQrprs2omVh8Jm9nJGCbneUILQMFCozoNa6i+1PU3q6VTo6+uTv1Jo2p/Oy8v75ZdfiouLBb/ZmJubW1hY4NPjx49PnTrVwcFB8C59fTGf2/X19cWmizI6OooPbty4weFwFixYgE8HBwcRQoINUTFsbGzYbDaHwzE2NsYp165dS0xMxMdlZWUfffQRmXlgYMDCwoLMiSSojBA6cuSIk5OTlPbB4/EMDAwEj7FBsG3d3d05HE5nZ6dg69fX18fjuhBCmzdvXrt27dKlS8UWTpUjxJajCtVk104u1ciG6ubm1traKklgpPpmJha6tT1JLUH2hoeojhL08aDuOYtCR1AbKKREJGWihMLakUCUQDK/ocZFI4FCDR7UUn+p7WlST6dibGyMbEh0HO/R39+fkJCwfPnysrKy0tLS0tLS8+fPR0ZGCtq0urq6u7u7vLyc/NKOuXLlSlJSkpeX1wcffCD0g0YK+B9A5eXlfD6fzWbPnj0bIVRYWMjlcjs7O0+dOoUQwjMD0L+eBMHngcfjkaf4gMfjCV7Ffx0dHa2srEivP378uLm5OTAwECHU1dXV2Ngo+Guyra3Nzc1NUEixKl+6dCk3N/fixYt4icrU1FQmk7l9+/awsDCEUHNzs5eX1759+xBC9fX1Li4uoiOompqa7OzssMoKQJUjRMvRUtWampr8/PzEFqieZia2anq2PWVQXZTQuAd1z1kUOkIVgUIVqimmHYIoQXUYV3+gUJsHdc9f1D5N6ulUjIyMWFpa/n6igvmOyiL2HyILFiwQzHPq1KkpU6bgS+RkWGtr69zcXIIg+vv7LSwsioqKCIJgMplhYWHSa+Tz+e+9956lpeXixYvz8vIIgkhPT7ezs5szZ05CQkJFRYW9vb2vr29xcfGJEyfmzJmDEAoJCbl169bTp0+3bt1qYGBgZma2c+fOmpqakJAQhNCsWbPwxu4ZGRn459HatWvv3bsXExPzj3/8A1ealZU1ffp0fPzVV1+5u7sLirRt27bDhw+PqzJBEIsXL/76668Jgujp6Vm2bBmbzcY/mB48eEAQRGxsLJPJxDlDQkJwM8L/nkhJSUlLS9uwYYP0XTelz8alyhFiy1G1atK1k0s1Dw+PI0eOxMbGfvHFF3w+X2yBamtmYmunVduTZW016Q2P8ihBKw/qmLModAS1gULGBRnljRIKa0dAlFAojEtB/YFCnR7URn+p7WlST6ciLy+P3B6Ijv1p2eFyuT09PatWrRobGyMIwtraura2Fl/y9/ffuXMnIVt/Wm20tbX5+/uLLlcUEREhuCJmf3+/r6/vyMiIaAlCKhMC7YMgCDab/c033xw+fNjCwuLu3bsEQWzcuJFsH6GhoULvkra2NhcXl4KCAiX1osoRQuVol2psNvuzzz5zd3cn1xalFXRre1TrJxFt9KBOOotCR1AYKFShmpLaaRC6NTyqwrgsQKDAKRr3F7VPk6o7FQcOHDh06BA+puN4DxkZGxszMDCwsbFZunQpOcmAHE9jZGREznsVpKOjQ30iiuDk5LR///5Dhw4JpVdUVHh7e+NjDoeTnp5+8uRJU1NToWxiVSZpbW318PAwMTHZtm2bmZmZaO2iY7acnJzi4uLwGvIKQ5UjpGinFaqZmJh8+OGHra2tN2/eVKZSFUG3todhs9l9fX2K6CMbWupB3XMWhY6gNlCoSDWkDc1MFLo1PErCuCxAoKCJv6h9mtTQqWhqasJjbBBt5yPKQlJSkoODg7Ozc2RkJJmIFwIcGxv7+eefP/74Y4QQ+fMCk5OTk5aWpn5pSRYuXDh16tT29nZHR0ec0t3d3d3d/frrr+PTe/fuJSUl4W1RhRCrsoGBQU9PD0Korq7u2bNnS5cu7e/v7+vrGxkZQQhNnDixqakJITQ8PNzc3IwHVBEEQf51d3fftWvXwMCA2BplgSpHiJajRaoR/xrR5ebm9u2330oagKtZ6NP2yJbw3XffTZ48WXQ5WKrQXg/qmLModASFgUJ1qimsncahT8OjKozLAgQKMlGz/qL2aVJ1p4LD4Tx+/Pjfsxtl+wCvHSxfvvytt946dOhQfHw8HlR069YtLy8vGxubTz/99G9/+1toaCh9xn5QxeHDh19//fXMzMyBgQEfH5/g4OD09HRfX9+YmJje3t66ujoPD4/IyMhDhw4FBwcHBwe3tLQcPHgQIbR169bHjx+PjY0tWbJk+fLlAwMDVIlElSO0QrWqqipvb28nJ6eSkhKCIM6ePevo6HjmzBmqaqQzCjjowIEDCKE1a9ZkZ2d/8MEHDg4O6hz7QbzEHqSbsyh0BN1Uo1Y7bYeGYVwWXloP0tBfmo0VUrTLz88vLCwkC9cjZF4EAwAAAAAAAABecp4/f75v3z7BdRuhPw0AAAAAAAAAsnL79m1XV1cTExMy5f8DfcTveI01vwgAAAAASUVORK5CYII=\"></div>"
      ],
      "text/plain": [
       "    4    4     2      2      2      2      2      2      2      2\n",
       "(E    g    (ζ    ζ      + ζ    ζ      + ζ    ζ      + ζ    ζ      - \n",
       "  CM   Zp    bL   tauL     bR   tauL     bL   tauR     bR   tauR\n",
       " \n",
       "             2      2                2      2                2      2\n",
       ">       2 ζ    ζ      Tanh[η] + 2 ζ    ζ      Tanh[η] + 2 ζ    ζ      Tanh[η] - \n",
       "           bL   tauL               bR   tauL               bL   tauR\n",
       " \n",
       "             2      2              2      2        2      2      2        2\n",
       ">       2 ζ    ζ      Tanh[η] + ζ    ζ      Tanh[η]  + ζ    ζ      Tanh[η]  + \n",
       "           bR   tauR             bL   tauL              bR   tauL\n",
       " \n",
       "           2      2        2      2      2        2\n",
       ">       ζ    ζ      Tanh[η]  + ζ    ζ      Tanh[η] )) / \n",
       "         bL   tauR              bR   tauR\n",
       " \n",
       "           4        2   2     4     2   2\n",
       ">   (4 (E    - 2 E    M   + M   + M   Γ  ))\n",
       "         CM       CM   V     V     V   V"
      ]
     },
     "execution_count": 129,
     "metadata": {
      "text/html": [],
      "text/plain": []
     },
     "output_type": "execute_result"
    }
   ],
   "source": [
    "unpolarizedBottomLine1[mm_] = antiB.zLQvertexb[mm].b ;\n",
    "unpolarizedTauLine2[mm_] = antiTau.zLQvertextau[mm].tau ;\n",
    "\n",
    "MZp = Contract[unpolarizedBottomLine1[\\[Mu]].PropagatorV[p1+p2, \\[Mu] , \\[Nu]]].unpolarizedTauLine2[\\[Nu]] // DiracSimplify // Factor ;\n",
    "MZpSquared = ExpandAll[ MZp (ComplexConjugate[MZp]) // FermionSpinSum[#] & // DiracSimplify ] // Factor \n"
   ]
  },
  {
   "cell_type": "markdown",
   "id": "1e6b3e1f",
   "metadata": {},
   "source": [
    "## Polarization of the $\\tau$ lepton\n"
   ]
  },
  {
   "cell_type": "code",
   "execution_count": 133,
   "id": "beec810f",
   "metadata": {
    "vscode": {
     "languageId": "wolfram"
    }
   },
   "outputs": [
    {
     "data": {
      "text/html": [
       "<style>\n",
       "\t\t\t\t\t\t\t\t\t\t\t\t\t.grid-container {\n",
       "\t\t\t\t\t\t\t\t\t\t\t\t\t\tdisplay: inline-grid;\n",
       "\t\t\t\t\t\t\t\t\t\t\t\t\t\tgrid-template-columns: auto;\n",
       "\t\t\t\t\t\t\t\t\t\t\t\t\t}\n",
       "\t\t\t\t\t\t\t\t\t\t\t\t</style>\n",
       "\n",
       "\t\t\t\t\t\t\t\t\t\t\t\t<div><div class=\"grid-container\"><div class=\"grid-item\"><img alt=\"Output\" src=\"data:image/png;base64,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\"></div><div class=\"grid-item\"><img alt=\"Output\" src=\"data:image/png;base64,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\"></div><div class=\"grid-item\"><img alt=\"Output\" src=\"data:image/png;base64,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\"></div></div></div>"
      ],
      "text/plain": [
       "        4    4    2      2\n",
       "     E    g    ζ    ζ      (-1 + Tanh[η])\n",
       "  1   CM   Zp   bR   tauL\n",
       "-(-) ------------------------------------\n",
       "  2      4        2   2     4     2   2\n",
       "      E    - 2 E    M   + M   + M   Γ\n",
       "       CM       CM   V     V     V   V\n",
       "        4    4    2      2\n",
       "     E    g    ζ    ζ      (-1 + Tanh[η])\n",
       "  1   CM   Zp   bL   tauR\n",
       "-(-) ------------------------------------\n",
       "  2      4        2   2     4     2   2\n",
       "      E    - 2 E    M   + M   + M   Γ\n",
       "       CM       CM   V     V     V   V\n",
       "  (ζ   ζ     - ζ   ζ    ) (ζ   ζ     + ζ   ζ    )\n",
       "    bR  tauL    bL  tauR    bR  tauL    bL  tauR\n",
       "-(-----------------------------------------------)\n",
       "                2      2      2      2\n",
       "             ζ    ζ      + ζ    ζ\n",
       "              bR   tauL     bL   tauR"
      ]
     },
     "execution_count": 133,
     "metadata": {
      "text/html": [],
      "text/plain": []
     },
     "output_type": "execute_result"
    }
   ],
   "source": [
    "unpolarizedBottomLine1[mm_] = b.zLQvertexb[mm].tau ;\n",
    "leftPolarizedTauLine2[mm_] = antiTau.zLQvertextau[mm].PL.tau ;\n",
    "\n",
    "MZpL = Contract[unpolarizedBottomLine1[\\[Mu]].PropagatorV[p1+p2, \\[Mu] , \\[Nu]]].leftPolarizedTauLine2[\\[Nu]] // DiracSimplify // Factor ;\n",
    "MZpLSquared = ExpandAll[ MZpL (ComplexConjugate[MZpL]) // FermionSpinSum[#] & // DiracSimplify ] // Factor \n",
    "\n",
    "rightPolarizedTauLine2[mm_] = antiTau.zLQvertextau[mm].PR.tau ;\n",
    "MZpR = Contract[unpolarizedBottomLine1[\\[Mu]].PropagatorV[p1+p2, \\[Mu] , \\[Nu]]].rightPolarizedTauLine2[\\[Nu]] // DiracSimplify // Factor ;\n",
    "MZpRSquared = ExpandAll[ MZpR (ComplexConjugate[MZpR]) // FermionSpinSum[#] & // DiracSimplify ] // Factor \n",
    "\n",
    "(* tau polarization *)\n",
    "MZpPolarization = (MZpRSquared - MZpLSquared) / (MZpRSquared + MZpLSquared) // Factor ;\n",
    "MZpPolarization"
   ]
  },
  {
   "cell_type": "markdown",
   "id": "70daedb7",
   "metadata": {},
   "source": [
    "# Neutral Scalar\n",
    "\n",
    "It will be zero, i don't want to do all the math for this, but it will be zero."
   ]
  }
 ],
 "metadata": {
  "kernelspec": {
   "display_name": "Wolfram Language 14.1",
   "language": "Wolfram Language",
   "name": "wolframlanguage14.1"
  },
  "language_info": {
   "codemirror_mode": "mathematica",
   "file_extension": ".m",
   "mimetype": "application/vnd.wolfram.m",
   "name": "Wolfram Language",
   "pygments_lexer": "mathematica",
   "version": "12.0"
  }
 },
 "nbformat": 4,
 "nbformat_minor": 5
}
