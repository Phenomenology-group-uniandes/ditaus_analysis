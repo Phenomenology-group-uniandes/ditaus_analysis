{
 "cells": [
  {
   "cell_type": "code",
   "execution_count": 1,
   "id": "e7143584",
   "metadata": {
    "vscode": {
     "languageId": "wolfram"
    }
   },
   "outputs": [
    {
     "name": "stdout",
     "output_type": "stream",
     "text": [
      "The current Mathematica version is: \n",
      " \n",
      ">   14.1.0 for Linux x86 (64-bit) (July 16, 2024)\n"
     ]
    }
   ],
   "source": [
    "Print[\"The current Mathematica version is: \", $Version]"
   ]
  },
  {
   "cell_type": "code",
   "execution_count": 2,
   "id": "7835f57f",
   "metadata": {
    "vscode": {
     "languageId": "wolfram"
    }
   },
   "outputs": [
    {
     "name": "stdout",
     "output_type": "stream",
     "text": [
      "FeynCalc 10.1.0 (stable version). For help, use the online documentation,\n",
      " \n",
      ">    visit the forum and have a look at the supplied examples.\n",
      " \n",
      ">    The PDF-version of the manual can be downloaded here.\n",
      "If you use FeynCalc in your research, please evaluate FeynCalcHowToCite[] to\\\n",
      " \n",
      ">   learn how to cite this software.\n",
      "Please keep in mind that the proper academic attribution of our work is\\\n",
      " \n",
      ">   crucial to ensure the future development of this package!\n"
     ]
    }
   ],
   "source": [
    "<< FeynCalc`FeynCalc`;"
   ]
  },
  {
   "cell_type": "code",
   "execution_count": 3,
   "id": "b147eb51",
   "metadata": {
    "vscode": {
     "languageId": "wolfram"
    }
   },
   "outputs": [
    {
     "name": "stdout",
     "output_type": "stream",
     "text": [
      " \\[Bullet] V. Shtabovenko, R. Mertig and F. Orellana, arXiv:2312.14089.\n",
      " \\[Bullet] V. Shtabovenko, R. Mertig and F. Orellana, Comput.Phys.Commun. 256\\\n",
      " \n",
      ">   (2020) 107478, arXiv:2001.04407.\n",
      " \\[Bullet] V. Shtabovenko, R. Mertig and F. Orellana, Comput.Phys.Commun. 207\\\n",
      " \n",
      ">   (2016) 432-444, arXiv:1601.01167.\n",
      " \\[Bullet] R. Mertig, M. Bo\"hm, and A. Denner, Comput. Phys. Commun. 64\\\n",
      " \n",
      ">   (1991) 345-359.\n"
     ]
    }
   ],
   "source": [
    "FeynCalcHowToCite[]"
   ]
  },
  {
   "cell_type": "markdown",
   "id": "4a3df80b",
   "metadata": {},
   "source": [
    "# Scalar Products in 2-body Scattering\n",
    "\n",
    "<div style=\"text-align: center;\">\n",
    "  <img src=\"https://upload.wikimedia.org/wikipedia/commons/thumb/7/75/Mandelstam.svg/1024px-Mandelstam.svg.png\" alt=\"Mandelstam Diagram\" width=\"200\"/>\n",
    "  <p><em>Figure 1: 2-body scattering process</em></p>\n",
    "</div>\n",
    "\n",
    "## Maldelstam Variables\n",
    "The Mandelstam variables are a set of three variables used in high-energy particle physics to describe the kinematics of scattering processes. They are defined in terms of the four-momenta of the particles involved in the scattering. The Mandelstam variables are denoted by $\\hat s$, $\\hat t$, and $\\hat u$.\n",
    "- $\\hat s$ is the square of the total energy in the center-of-momentum frame, defined as:\n",
    "$$\n",
    "\\hat s = (p_1 + p_2)^2 = m_1^2 + m_2^2 + 2 p_1 \\cdot p_2\n",
    "$$\n",
    "- $\\hat t$ is the square of the momentum transfer, defined as:\n",
    "$$\n",
    "\\hat t = (p_1 - p_3)^2 = m_1^2 + m_3^2 - 2 p_1 \\cdot p_3\n",
    "$$\n",
    "- $\\hat u$ is the square of the other momentum transfer, defined as:\n",
    "$$\n",
    "\\hat u = (p_1 - p_4)^2 = m_1^2 + m_4^2 - 2 p_1 \\cdot p_4\n",
    "$$\n",
    "\n",
    "\n"
   ]
  },
  {
   "cell_type": "markdown",
   "id": "fa72cff9",
   "metadata": {},
   "source": [
    "## Simplification of Scalar Products using Mandelstam Variables\n",
    "\n",
    "When evaluating a Feynman amplitude, one often finds scalar products of the external four-momenta. One can use the Mandelstam variables $(\\hat s, \\hat t, \\hat u)$ to simplify these:\n",
    "\n",
    "$$\n",
    "\\begin{aligned}\n",
    "& p_1 \\cdot p_2 = \\frac{\\hat s  - m_1^2 - m_2^2}{2} \\\\\n",
    "& p_1 \\cdot p_3 = \\frac{m_1^2 + m_3^2 - \\hat t }{2} \\\\\n",
    "& p_1 \\cdot p_4 = \\frac{m_1^2 + m_4^2 - \\hat u }{2}\n",
    "\\end{aligned}\n",
    "$$\n",
    "Where $m_i$ is the mass of the particle with corresponding momentum $p_i$."
   ]
  },
  {
   "cell_type": "markdown",
   "id": "bb8492cc",
   "metadata": {},
   "source": [
    "## Anhilation/Conversion in center of mass frame\n",
    "If the two incoming particles are identical, we can set $m_1 = m_2 = m_{\\text{in}}$ and $\\vec{p}_1 = -\\vec{p}_2 = \\vec{p}_{\\text{in}}$, which gives us:\n",
    "$$\n",
    "\\begin{aligned}\n",
    "\\hat s &= (p_1 + p_2)^2 = (p_1^0 + p_2^0)^2 - (\\vec{p}_1 + \\vec{p}_2)^2\n",
    "\\\\&= (E_{1} + E_{1})^2 - (\\vec{p}_{1} - \\vec{p}_{1})^2\n",
    "\\\\&= 4 E_{\\text{1}}^2\n",
    "\\end{aligned}\n",
    "$$\n",
    "We define the center of mass energy as $E_{\\text{CM}} = 2 E_{\\text{in}}$, so we have:\n",
    "$$\n",
    "\\hat s = E_{\\text{CM}}^2\n",
    "$$\n",
    "\n",
    "Similarly if the two outgoing particles are identical, we can set $m_3 = m_4 = m_{\\text{out}}$ and $\\vec{p}_3 = -\\vec{p}_4$, so $E_{1} = E_{2} = E_{\\text{out}}=E_{\\text{CM}}/2=E_{\\text{in}}=E_{1}=E_{2}$, which gives us:\n",
    "$$\n",
    "\\begin{aligned}\n",
    "\\hat t &= (p_1 - p_3)^2 = (p_1^0 - p_3^0)^2 - (\\vec{p}_1 - \\vec{p}_3)^2\n",
    "\\\\&= (E_{1} - E_{3})^2 - (\\vec{p}_{1} - \\vec{p}_{3})^2\n",
    "\\\\&= (E_{\\text{in}} - E_{\\text{out}})^2 - (\\vec{p}_{\\text{in}} - \\vec{p}_{\\text{out}})^2\n",
    "\\\\&= (E_{\\text{CM}}/2 - E_{\\text{CM}}/2)^2 - (\\vec{p}_{\\text{in}} - \\vec{p}_{\\text{out}})^2\n",
    "\\\\&= 0 - (\\vec{p}_{\\text{in}} - \\vec{p}_{\\text{out}})^2\n",
    "\\\\&= -\\vec{p}_{\\text{in}}^2 - \\vec{p}_{\\text{out}}^2 + 2 \\vec{p}_{\\text{in}} \\cdot \\vec{p}_{\\text{out}}\n",
    "\\end{aligned}\n",
    "$$\n",
    "We can change $\\vec{p}_{\\text{in}}^2 = E_{\\text{in}}^2 - m_{\\text{in}}^2$ and $\\vec{p}_{\\text{out}}^2 = E_{\\text{out}}^2 - m_{\\text{out}}^2$, so we have:\n",
    "$$\n",
    "\\begin{aligned}\n",
    "\\hat t &= - E_{\\text{in}}^2 - E_{\\text{out}}^2 + m_{\\text{in}}^2 + m_{\\text{out}}^2 + 2 \\sqrt{E_{\\text{in}}^2 - m_{\\text{in}}^2} \\sqrt{E_{\\text{out}}^2 - m_{\\text{out}}^2} \\cos \\theta\\\\\n",
    "\\\\&= m_{\\text{in}}^2 + m_{\\text{out}}^2 -\\frac{1}{2} E_{\\text{CM}}^2  + \\frac{1}{2} \\sqrt{E_{\\text{CM}}^2 - 4 m_{\\text{in}}^2} \\sqrt{E_{\\text{CM}}^2 - 4 m_{\\text{out}}^2} \\cos \\theta\n",
    "\\end{aligned}\n",
    "$$\n",
    "Where $\\theta$ is the angle between the incoming and outgoing particles, see Figure 2.\n",
    "\n",
    "\n",
    "<div style=\"text-align: center;\">\n",
    "  <img src=\"https://raw.githubusercontent.com/cfrc2694/Pheno_Phd_Thesis/refs/heads/main/Slides/Two_Body_Interference/scatter.png\" alt=\"Mandelstam Diagram\" width=\"600\"/>\n",
    "  <p><em>Figure 2: ingoing and outgoing particles in the center of mass frame</em></p>\n",
    "</div>\n",
    "\n",
    "Similarly we can find $\\hat u$:\n",
    "$$\n",
    "\\hat u =  m_{\\text{in}}^2 + m_{\\text{out}}^2 -\\frac{1}{2} E_{\\text{CM}}^2 - \\frac{1}{2} \\sqrt{E_{\\text{CM}}^2 - 4 m_{\\text{in}}^2} \\sqrt{E_{\\text{CM}}^2 - 4 m_{\\text{out}}^2} \\cos \\theta.\n",
    "$$\n"
   ]
  },
  {
   "cell_type": "markdown",
   "id": "70c73347",
   "metadata": {},
   "source": [
    "## Using the Pseudo-Rapidity\n",
    "The pseudo-rapidity of a outgoing particle is defined as:\n",
    "$$\n",
    "\\eta = -\\ln \\left( \\tan \\frac{\\theta}{2} \\right)\n",
    "$$\n",
    "with $\\theta$ being the angle between the incoming axis and the outgoing particle, see Figure 2. \n",
    "\n",
    "Then, we have\n",
    "$$\n",
    "\\tan \\frac{\\theta}{2} = e^{-\\eta} \n",
    "$$ \n",
    "and using the identity:\n",
    "$$\n",
    "\\cos \\theta = \\frac{1 - \\tan^2 \\frac{\\theta}{2}}{1 + \\tan^2 \\frac{\\theta}{2}} = \\frac{1 - e^{-2\\eta}}{1 + e^{-2\\eta}} = \\frac{e^{\\eta} - e^{-\\eta}}{e^{\\eta} + e^{-\\eta}} = \\tanh(\\eta)\n",
    "$$\n",
    "we can rewrite the Mandelstam variables as:\n",
    "$$\n",
    "\\begin{aligned}\n",
    "\\hat s &= E_{\\text{CM}}^2 \\\\\n",
    "\\hat t &= m_{\\text{in}}^2 + m_{\\text{out}}^2 -\\frac{1}{2} E_{\\text{CM}}^2  + \\frac{1}{2} \\sqrt{E_{\\text{CM}}^2 - 4 m_{\\text{in}}^2} \\sqrt{E_{\\text{CM}}^2 - 4 m_{\\text{out}}^2} \\tanh(\\eta)\\\\\n",
    "\\hat u &=  m_{\\text{in}}^2 + m_{\\text{out}}^2 -\\frac{1}{2} E_{\\text{CM}}^2 - \\frac{1}{2} \\sqrt{E_{\\text{CM}}^2 - 4 m_{\\text{in}}^2} \\sqrt{E_{\\text{CM}}^2 - 4 m_{\\text{out}}^2} \\tanh(\\eta)\n",
    "\\end{aligned}\n",
    "$$"
   ]
  },
  {
   "cell_type": "markdown",
   "id": "d1d1945b",
   "metadata": {},
   "source": [
    "# $b \\bar b \\to \\tau^+\\tau^-$\n",
    "\n",
    "The bottom quark and the tau lepton have masses of $M_Q \\approx 4.18$ GeV and $M_l \\approx 1.78$ GeV, respectively. However, in the ultrarelativistic limit, we have center-of-mass energies of $E_{cm} \\gg M_Q, M_l$, so we can neglect the masses of the particles and define"
   ]
  },
  {
   "cell_type": "code",
   "execution_count": 4,
   "id": "5124482d",
   "metadata": {
    "vscode": {
     "languageId": "wolfram"
    }
   },
   "outputs": [],
   "source": [
    "(* Masses *)\n",
    "\n",
    "ml = Subscript[M, l]*0;\n",
    "mq = Subscript[M, Q]*0;"
   ]
  },
  {
   "cell_type": "code",
   "execution_count": 7,
   "id": "9e85d9dc",
   "metadata": {
    "vscode": {
     "languageId": "wolfram"
    }
   },
   "outputs": [],
   "source": [
    "\n",
    "(* p1 = momentum of incoming quark *)\n",
    "(* p2 = momentum of incoming anti-quark *)\n",
    "(* p3 = momentum of outgoing lepton *)\n",
    "(* p4 = momentum of outgoing anti-lepton *)\n",
    "\n",
    "m1 = mq;\n",
    "m2 = mq;\n",
    "\n",
    "m3 = ml;\n",
    "m4 = ml;\n",
    "\n",
    "p1 = Subscript[\"p\", \"b\"];\n",
    "p2 = Subscript[\"p\", Overscript[\"b\", \"_\"]];\n",
    "\n",
    "p3 = Subscript[\"p\", \"l-\"];\n",
    "p4 = Subscript[\"p\", \"l+\"];"
   ]
  },
  {
   "cell_type": "code",
   "execution_count": 22,
   "id": "fd9b42c0",
   "metadata": {
    "vscode": {
     "languageId": "wolfram"
    }
   },
   "outputs": [
    {
     "data": {
      "text/html": [
       "<div><img alt=\"Output\" src=\"data:image/png;base64,iVBORw0KGgoAAAANSUhEUgAAAB8AAAAVCAIAAAAxV6IIAAAA0npUWHRSYXcgcHJvZmlsZSB0eXBlIGV4aWYAAHjabU9ZrgMhDPvnFD1CNhw4DtMB6d3gHb9hQK2mqiVix1mA1P//RnpMCFOy7AUVoIBVq9JCFFpYzFSvuJKxa3z3E+ftt7Dyp4C+/ePuOxZL+VpEsoTOG0Kr7YG9SGX53FZ+7H5ppdwWjWNc2A8m0PvpP3NTF2SwW0QTckcNXVLIIGSh7Bh4AtHIOIXsGdzhHmPw2aFtDk5I93t3T9AwzvkFnSdrC55RlGOU1EOb4vJZzl2NSnznBaPvXF23ulKsAAAACXBIWXMAAA7EAAAOxAGVKw4bAAAAPHRFWHRTb2Z0d2FyZQBDcmVhdGVkIHdpdGggdGhlIFdvbGZyYW0gTGFuZ3VhZ2UgOiB3d3cud29sZnJhbS5jb21coqaFAAAAIXRFWHRDcmVhdGlvbiBUaW1lADIwMjU6MDU6MjEgMDc6NDY6MDHXjGF7AAAC9klEQVQ4jaVVS0gqYRQ+3YwwDCQoGJhFD4JEMHuAC6FNJERhyxZmERVRSO1ihFy1E0F7LJI2UVmKu8pNRFkSFBS1KFel1qJajJCWlPg7p8XIONdrdq1v9c95fPPNefxTgojwNTiOM5vNr6+vyWSS47iVlRWJRFIgPhdYEHt7e2q1mj9TFOV2uwvH5+BP4Xd3dnb6/X5eBMdxLMsWIfxb7QIODg6qq6sfHx+L0g5nZ2eDg4MAIJVKh4aGRkdHDQaDSqUCgOvraz4oGAzqdLr7+/uiqBExo52iqNbWVrFDp9Px7JeXl2NjY4lEoljqLDtN0+3t7WLH5ubm7e0ty7I9PT2EEN7o8/mKYs/fVUJIX19fQ0PD0tLS0dERTdMURVVVVR0fH/+kqznat7a2NjY2flCKHGRXIxQKGY1GAPj4+Dg8PJyfny9OZj5k2evr69fX1wHg/f19dnb299QAkKfuUqnUZDIpFArB4vP5TCaTw+Gw2+0jIyORSCQQCLS0tFRUVLy8vIhzu7u7ZTLZ2tpa5jlv3XmkUilEdDgcWq1WmMi7u7vp6WlEnJmZaWpqWlhYEOIjkYhSqVSpVIIly97W1pbDPjw8HI1GKysr9/f3xfarqytEZBjGbrcrlUrBPjc3Z7VahXsJhYlMp9OxWEz8jbu7u9Fo9OLi4u3traOjQ+xqbm7mD0ajMRwOn5ycAAAhJBaL1dTUiCMl5+fny8vLT09PANDV1VVXV0cIeXh48Pv9AwMD4XBYLpeXlZXlbZpcLu/v73c6nVqtdnt7W6/Xh0KhvyIKD+zOzk5paamwq2IwDEMIOT09LS8vZ1l2amoKEVdXV/NU5iuo1WoAyFlRr9fLFzOdTms0GoVCYTabGxsb/03/hp2m6cnJSYvFkkwmeUswGPR4PACQSCTi8TgAjI+Pu1wufhMzo/KflUHEVCq1uLhoMBisVqvNZtPr9V6vNxAI1NbWTkxMPD8/x+NxhmEQ8ebmpre3VyaTuVwuPrcEC/5Xf4lPlZbGKhPJq3kAAAAASUVORK5CYII=\"></div>"
      ],
      "text/plain": [
       "   2\n",
       "E\n",
       " CM"
      ]
     },
     "execution_count": 22,
     "metadata": {
      "text/html": [],
      "text/plain": []
     },
     "output_type": "execute_result"
    }
   ],
   "source": [
    "energy = Subscript[\"E\", \"CM\"];\n",
    "\n",
    "CosTheta = Tanh[\\[Eta]];\n",
    "\n",
    "sMan = energy^2\n",
    "tMan = m1^2 + m3^2 - (1/2)*energy^2 + (1/2)*Sqrt[energy^2 - 4*m1^2]*Sqrt[energy^2 - 4*m3^2]*CosTheta // Factor ;\n",
    "uMan = m1^2 + m3^2 - (1/2)*energy^2 - (1/2)*Sqrt[energy^2 - 4*m1^2]*Sqrt[energy^2 - 4*m3^2]*CosTheta //Factor ;"
   ]
  },
  {
   "cell_type": "code",
   "execution_count": 25,
   "id": "fd84e77b",
   "metadata": {
    "vscode": {
     "languageId": "wolfram"
    }
   },
   "outputs": [],
   "source": [
    "SP[p1, p1] = m1^2;\n",
    "SP[p1, p2] = (sMan - m1^2 - m2^2)/2;\n",
    "SP[p1, p3] = (m1^2 + m3^2 - tMan)/2;\n",
    "SP[p1, p4] = (m1^2 + m4^2 - uMan)/2;\n",
    "\n",
    "SP[p2, p2] = m2^2;\n",
    "SP[p2, p3] = (m2^2 + m3^2 - uMan)/2;\n",
    "SP[p2, p4] = (m2^2 + m4^2 - tMan)/2;\n",
    "\n",
    "SP[p3, p3] = m3^2;\n",
    "SP[p3, p4] = (sMan - m3^2 - m4^2)/2;\n",
    "\n",
    "SP[p4, p4] = m4^2;\n"
   ]
  },
  {
   "cell_type": "markdown",
   "id": "2ec642c5",
   "metadata": {},
   "source": [
    "Teh external legs of the Feynman diagram are given by the spinors, $u(p)$ and $\\bar v(p)$ for each of the incoming particles, and $v(p)$ and $\\bar u(p)$ for each of the outgoing particles:"
   ]
  },
  {
   "cell_type": "code",
   "execution_count": 35,
   "id": "663e047a",
   "metadata": {
    "vscode": {
     "languageId": "wolfram"
    }
   },
   "outputs": [],
   "source": [
    "PR = DiracMatrix[6];\n",
    "PL = DiracMatrix[7];\n",
    "\n",
    "\n",
    "b = SpinorU[p1, mq];\n",
    "tau = SpinorUBar[p3, ml];\n",
    "\n",
    "antiB = SpinorVBar[p2, mq];\n",
    "antiTau = SpinorV[p4, ml];\n"
   ]
  },
  {
   "cell_type": "markdown",
   "id": "4f1d230b",
   "metadata": {},
   "source": [
    "# Scalar Leptoquark \n",
    "\n",
    "The $\\tilde S_1$ leptoquark is a scalar particle that couples to the right-handed down-type quarks and the right-handed leptons and transform in the $(3, 1, -4/3)$ representation of the Standard Model gauge group. \n",
    "$$\n",
    "\\mathcal{L}_{\\tilde S_1} = \\big(\\mathcal{D}^\\mu \\tilde S_1\\big)^\\dagger \\big(\\mathcal{D}_\\mu \\tilde S_1\\big) - m_{\\tilde S_1}^2 \\tilde S_1^\\dagger \\tilde S_1 + y_{R}^{ij} \\bar {d^C}_{R}^{i} \\tilde S_1 l_{R}^j + h.c.\n",
    "$$\n",
    "**(¿ can we have couplings $Z^{ij}  \\bar {u^C}_{R}^{i} \\tilde S_1^\\dagger u_{R}^j$ also ? the QCD charges doesn't fit)** which has been implemented in feynrules ([arXiv: abs/1801.07641](https://arxiv.org/abs/1801.07641))\n",
    " as:\n",
    "\n",
    "```mathematica\n",
    "(* The Lagrangian for the scalar leptoquark S1 *)\n",
    "LS1tKin := Module[ {mu,c},\n",
    "DC[S1tm43bar[c],mu] DC[S1tm43[c],mu] - MS1t^2 S1tm43bar[c] S1tm43[c]\n",
    "];\n",
    "\n",
    "LS1tYuk :=  Module[ {sp,i,j,cc},\n",
    " ExpandIndices[yRR[i,j] dRbar[sp,i,cc].CC[lR][sp,j] S1tm43[cc], FlavorExpand-> Generation]\n",
    "];\n",
    "```\n",
    "The propagator for the leptoquark is given by:\n",
    "$$\n",
    "\\mathcal{P}_{\\tilde S_1}(p) = \\frac{-i}{p^2 - m_{\\tilde S_1}^2 + i m_{\\tilde S_1} \\Gamma_{\\tilde S_1}} \n",
    "$$\n",
    "with the decay width given by:\n",
    "$$\n",
    "\\Gamma_{\\tilde S_1} = \\frac{m_{\\tilde S_1}}{8 \\pi} \\left( \\frac{1}{2} \\sum_{i,j} |y_{R}^{ij}|^2  \\right)\n",
    "$$\n",
    "where ([arXiv: abs/1801.07641](https://arxiv.org/abs/1801.07641)) have implemented the decay width in feynrules as:\n",
    "```mathematica\n",
    "(* The decay width for the leptoquark S1 *)\n",
    "WS1t == {\n",
    "   ParameterType -> Internal,\n",
    "   Value         -> (MS1t*(Abs[yRR[1,1]]^2 + Abs[yRR[1,2]]^2 + Abs[yRR[1,3]]^2 \n",
    "\t\t\t + Abs[yRR[2,1]]^2 + Abs[yRR[2,2]]^2 + Abs[yRR[2,3]]^2 \n",
    "                         + Abs[yRR[3,1]]^2 + Abs[yRR[3,2]]^2 + Abs[yRR[3,3]]^2))/(16*Pi)\n",
    "}\n",
    "```\n",
    "\n",
    "So, assuming preferential couplings to the third generation, we have a vertex $b \\tilde S_1^* \\tau^-$ with coupling $i y_{R}^{33} P_L$ and $\\bar{b} \\tilde S_1\\tau^+$ with coupling $i y_{R}^{33} P_R$  that feynrules implements as:\n",
    "```python\n",
    "V_84 = Vertex(name = 'V_84',\n",
    "              particles = [ P.ta__minus__, P.b, P.S1tm43__star__ ],\n",
    "              color = [ 'Identity(2,3)' ],\n",
    "              lorentz = [ L.FFS1 ],\n",
    "              couplings = {(0,0):C.GC_69})\n",
    "\n",
    "V_85 = Vertex(name = 'V_85',\n",
    "              particles = [ P.ta__plus__, P.b__tilde__, P.S1tm43 ],\n",
    "              color = [ 'Identity(2,3)' ],\n",
    "              lorentz = [ L.FFS3 ],\n",
    "              couplings = {(0,0):C.GC_69})\n",
    "```\n",
    "where the coupling C.GC_69 is given by:\n",
    "```python\n",
    "GC_69 = Coupling(name = 'GC_69',\n",
    "                 value = 'complex(0,1)*yRR3x3',\n",
    "                 order = {'NP':1})\n",
    "```\n",
    "and the Lorentz structures are given by:\n",
    "```python\n",
    "FFS1 = Lorentz(name = 'FFS1',\n",
    "               spins = [ 2, 2, 1 ],\n",
    "               structure = 'ProjM(2,1)')\n",
    "FFS3 = Lorentz(name = 'FFS3',\n",
    "               spins = [ 2, 2, 1 ],\n",
    "               structure = 'ProjP(2,1)')\n",
    "```\n",
    "\n",
    "where 'ProjP(2,1)' and 'ProjM(2,1)' are the projectors for the left and right handed particles, respectively.\n"
   ]
  },
  {
   "cell_type": "code",
   "execution_count": 41,
   "id": "bf53bb34",
   "metadata": {
    "vscode": {
     "languageId": "wolfram"
    }
   },
   "outputs": [],
   "source": [
    "ms = Subscript[M, \"S\"];\n",
    "ws = Subscript[\\[CapitalGamma], \"S\"];\n",
    "\n",
    "yR = Subscript[y, R];\n",
    "\n",
    "sLQTildevertex = I *yR*PR;\n",
    "sLQvertex =  I *yR*PL;\n",
    "\n",
    "PropagatorS[p_] := -I/(ExpandScalarProduct[SP[p,p]] - ms^2 + I ms  ws )"
   ]
  },
  {
   "cell_type": "markdown",
   "id": "1aec64c9",
   "metadata": {},
   "source": [
    "## 'Unpolarized' Amplitude\n",
    "\n",
    "So there, the 'unpolarized' amplitude for the process \n",
    "\n",
    "<div style=\"text-align: center;\">\n",
    "  <img src=\"https://raw.githubusercontent.com/cfrc2694/Pheno_Phd_Thesis/refs/heads/main/Slides/2024_silafae/non-res_scalar.svg\" alt=\"Mandelstam Diagram\" width=\"350\"/>\n",
    "  <p><em>Figure 3: Feynman diagram for the process $b \\bar b \\to \\tau^+ \\tau^-$ mediated by a scalar leptoquark $\\tilde S_1$</em></p>\n",
    "</div>\n",
    "\n",
    "\n"
   ]
  },
  {
   "cell_type": "code",
   "execution_count": 51,
   "id": "f5916c12",
   "metadata": {
    "vscode": {
     "languageId": "wolfram"
    }
   },
   "outputs": [
    {
     "data": {
      "text/html": [
       "<div><img alt=\"Output\" src=\"data:image/png;base64,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\"></div>"
      ],
      "text/plain": [
       "    4   4               2\n",
       "(E    y   (-1 + Tanh[η]) ) / \n",
       "  CM   R\n",
       " \n",
       "        4        2   2       4       2   2        4                2   2\n",
       ">   (E    + 4 E    M   + 4 M   + 4 M   Γ   - 2 E    Tanh[η] - 4 E    M   Tanh[η] + \n",
       "      CM       CM   S       S       S   S       CM               CM   S\n",
       " \n",
       "         4        2\n",
       ">     E    Tanh[η] )\n",
       "       CM"
      ]
     },
     "execution_count": 51,
     "metadata": {
      "text/html": [],
      "text/plain": []
     },
     "output_type": "execute_result"
    }
   ],
   "source": [
    "(** Unpolarized Amplitude **)\n",
    "\n",
    "line1 = b.sLQTildevertex.tau ;\n",
    "line2 = antiB.sLQvertex.antiTau ;\n",
    "\n",
    "Amplitude = line1 * line2 * PropagatorS[p1-p3] ;\n",
    "\n",
    "AmplitudeSquared = ExpandAll[ Amplitude (ComplexConjugate[Amplitude]) // FermionSpinSum[#] & // DiracSimplify ] // Factor"
   ]
  },
  {
   "cell_type": "markdown",
   "id": "1363d573",
   "metadata": {},
   "source": [
    "## Polarization of the $\\tau$ lepton\n",
    "The Polarization of the tau lepton is defined as:\n",
    "$$\n",
    "P_\\tau = \\frac{|\\mathcal{M}_R|^2 - |\\mathcal{M}_L|^2}{|\\mathcal{M}_R|^2 + |\\mathcal{M}_L|^2}\n",
    "$$\n",
    "where the polarized amplitudes for the $\\tau^-$ lepton are given by:\n"
   ]
  },
  {
   "cell_type": "code",
   "execution_count": 52,
   "id": "ab15db47",
   "metadata": {
    "vscode": {
     "languageId": "wolfram"
    }
   },
   "outputs": [
    {
     "name": "stdout",
     "output_type": "stream",
     "text": [
      "Polarization: 1\n"
     ]
    }
   ],
   "source": [
    "(* tau Left Polarized Amplitude *)\n",
    "\n",
    "leftPolarizedLine1 = b.sLQTildevertex.PL.tau ;\n",
    "unpolarizedLine2 = antiB.sLQvertex.antiTau ;\n",
    "\n",
    "MtauL = leftPolarizedLine1 * unpolarizedLine2 * PropagatorS[p1-p3] ;\n",
    "MtauLSquared = ExpandAll[ MtauL (ComplexConjugate[MtauL]) // FermionSpinSum[#] & // DiracSimplify ] // Factor ;\n",
    "\n",
    "(* tau Right Polarized Amplitude *)\n",
    "rightPolarizedLine1 = b.sLQTildevertex.PR.tau ;\n",
    "unpolarizedLine2 = antiB.sLQvertex.antiTau ;\n",
    "\n",
    "MtauR = rightPolarizedLine1 * unpolarizedLine2 * PropagatorS[p1-p3] ;\n",
    "MtauRSquared = ExpandAll[ MtauR (ComplexConjugate[MtauR]) // FermionSpinSum[#] & // DiracSimplify ] // Factor ;\n",
    "\n",
    "(* tau polarization *)\n",
    "Polarization = (MtauRSquared - MtauLSquared) / (MtauRSquared + MtauLSquared) // Factor ;\n",
    "\n",
    "Print[\"Polarization: \", Polarization]"
   ]
  },
  {
   "cell_type": "markdown",
   "id": "34327bea",
   "metadata": {},
   "source": [
    "and the polarized amplitudes for the $\\tau^+$ lepton are given by:"
   ]
  },
  {
   "cell_type": "code",
   "execution_count": 65,
   "id": "552f658d",
   "metadata": {
    "vscode": {
     "languageId": "wolfram"
    }
   },
   "outputs": [
    {
     "name": "stdout",
     "output_type": "stream",
     "text": [
      "Antitau Polarization: -1\n"
     ]
    }
   ],
   "source": [
    "(* antitau Left Polarized Amplitude *)\n",
    "unpolarizedLine1 = b.sLQTildevertex.tau ;\n",
    "leftPolarizedLine2 = antiB.sLQvertex.PL.antiTau ;\n",
    "MAntiTauL = unpolarizedLine1 * leftPolarizedLine2 * PropagatorS[p1-p3] ;\n",
    "MAntiTauLSquared = ExpandAll[ MAntiTauL (ComplexConjugate[MAntiTauL]) // FermionSpinSum[#] & // DiracSimplify ] // Factor ;\n",
    "\n",
    "(* antitau Right Polarized Amplitude *)\n",
    "unpolarizedLine1 = b.sLQTildevertex.tau ;\n",
    "rightPolarizedLine2 = antiB.sLQvertex.PR.antiTau ;\n",
    "MAntiTauR = unpolarizedLine1 * rightPolarizedLine2 * PropagatorS[p1-p3] ;\n",
    "MAntiTauRSquared = ExpandAll[ MAntiTauR (ComplexConjugate[MAntiTauR]) // FermionSpinSum[#] & // DiracSimplify ] // Factor ;\n",
    "\n",
    "(* antitau polarization *)\n",
    "MAntiTauPolarization = (MAntiTauRSquared - MAntiTauLSquared) / (MAntiTauRSquared + MAntiTauLSquared) // Factor ;\n",
    "Print[\"Antitau Polarization: \", MAntiTauPolarization]"
   ]
  },
  {
   "cell_type": "markdown",
   "id": "fa4fc938",
   "metadata": {},
   "source": [
    "For the Scalar leptoquark we have that the polarization of the $\\tau^-$ will be always Left-handed and the polarization of the $\\tau^+$ will be always Right-handed, they are strongly correlated. "
   ]
  },
  {
   "cell_type": "markdown",
   "id": "9166491e",
   "metadata": {},
   "source": [
    "In madgraph, with $Y_R^{33}= 1$, and a leptoquark mass of $M_{\\tilde S_1} = 650 \\text{GeV}$, We have evaluated the cross-section for different processes:\n",
    "\n",
    "\n",
    "---\n",
    "```\n",
    "import model <path_to_model>\n",
    "generate p p > ta+ ta-{R} QED=0\n",
    "```\n",
    "we got the output:\n",
    "```\n",
    "- Current estimate of cross-section: 0.019482 +- 0.00042827\n",
    "    P1_qq_taptamR \n",
    "    P1_qbx_taptamR \n",
    "    P1_bbx_taptamR \n",
    "```\n",
    "---\n",
    "```\n",
    "import model <path_to_model>\n",
    "generate p p > ta+ ta-{L} QED=0\n",
    "```\n",
    "we got the output:\n",
    "```\n",
    "- Current estimate of cross-section: 2.4629e-06 +- 4.6684e-08\n",
    "    P1_qq_taptamL \n",
    "    P1_qbx_taptamL \n",
    "    P1_bbx_taptamL \n",
    "```\n",
    "\n",
    "---\n",
    "```\n",
    "import model <path_to_model>\n",
    "generate p p > ta+{R} ta- QED=0\n",
    "```\n",
    "we got the output:\n",
    "```\n",
    "- Current estimate of cross-section: 2.4629e-06 +- 4.6684e-08\n",
    "    P1_qq_tapRtam \n",
    "    P1_qbx_tapRtam \n",
    "    P1_bbx_tapRtam \n",
    "```\n",
    "\n",
    "---\n",
    "```\n",
    "import model <path_to_model>\n",
    "generate p p > ta+{L} ta- QED=0\n",
    "```\n",
    "we got the output:\n",
    "```\n",
    "- Current estimate of cross-section: 0.019482 +- 0.00042827\n",
    "    P1_qq_tapLtam \n",
    "    P1_qbx_tapLtam \n",
    "    P1_bbx_tapLtam \n",
    "```\n",
    "---\n"
   ]
  },
  {
   "cell_type": "markdown",
   "id": "0adb7c8a",
   "metadata": {},
   "source": [
    "# Vectorial Leptoquark\n",
    "We shall restrict ourselves to a simplified non-renormalizable lagrangian, understood to be embedded into a more complete model. The SM is thus extended by adding the following terms featuring the $U_1$ leptoquark:\n",
    "$$\n",
    "\\begin{aligned}\n",
    "  \\mathcal{L}_{U_1}&=&-\\frac{1}{2}U^\\dagger_{\\mu\\nu}U^{\\mu\\nu}+M_U^2\\, U_{1\\mu}^\\dagger U_1^\\mu \n",
    " -ig_s\\,U_{1\\mu}^\\dagger\\, T^a\\, U_{1\\nu}\\, G^{a\\mu\\nu}\\!\\!-i\\frac{2}{3}g'\\,U^\\dagger_{1\\mu}U_{1\\nu}B^{\\mu\\nu} \n",
    " +\\frac{g_U}{\\sqrt 2}[U_{1\\mu}(\\bar Q_3\\,\\gamma^\\mu L_3+\\beta_L^{s\\tau}\\,\\bar Q_2\\,\\gamma^\\mu L_3  +\\beta_{R}\\,\\bar b_{R}\\,\\gamma^\\mu \\tau_{R}) +{\\rm h.c.}] \n",
    "\\end{aligned}d\n",
    "$$\n",
    "where $U_{1\\mu}$ is the vector leptoquark field, $M_U$ is its mass, $g_s$ is the strong coupling constant, $g'$ is the hypercharge coupling constant, and $g_U$ is the coupling of the leptoquark to the quarks and leptons. The term $T^a$ is the generator of the SU(3) color group, and $B^{\\mu\\nu}$ is the field strength tensor for hypercharge. The term $\\beta_L^{s\\tau}$ is a parameter that determines the strength of the coupling between the leptoquark and the left-handed quarks and leptons.\n",
    "\n",
    "```python\n",
    "V_142 = Vertex(name = 'V_142',\n",
    "               particles = [ P.b__tilde__, P.ta__minus__, P.VLQ ],\n",
    "               color = [ 'Identity(1,3)' ],\n",
    "               lorentz = [ L.FFV2, L.FFV3 ],\n",
    "               couplings = {(0,0):C.GC_18,(0,1):C.GC_19})\n",
    "V_152 = Vertex(name = 'V_152',\n",
    "               particles = [ P.ta__plus__, P.b, P.VLQ__tilde__ ],\n",
    "               color = [ 'Identity(2,3)' ],\n",
    "               lorentz = [ L.FFV2, L.FFV3 ],\n",
    "               couplings = {(0,0):C.GC_18,(0,1):C.GC_19})\n",
    "```\n",
    "with the couplings given by:\n",
    "```python\n",
    "GC_18 = Coupling(name = 'GC_18',\n",
    "                 value = '(betaL3x3*complex(0,1)*gU)/cmath.sqrt(2)',\n",
    "                 order = {'NP':1})\n",
    "\n",
    "GC_19 = Coupling(name = 'GC_19',\n",
    "                 value = '(betaRd3x3*complex(0,1)*gU)/cmath.sqrt(2)',\n",
    "                 order = {'NP':1})\n",
    "```\n",
    "and the Lorentz structures are given by:\n",
    "```python\n",
    "FFV2 = Lorentz(name = 'FFV2',\n",
    "               spins = [ 2, 2, 3 ],\n",
    "               structure = 'Gamma(3,2,-1)*ProjM(-1,1)')\n",
    "\n",
    "FFV3 = Lorentz(name = 'FFV3',\n",
    "               spins = [ 2, 2, 3 ],\n",
    "               structure = 'Gamma(3,2,-1)*ProjP(-1,1)')\n",
    "```\n"
   ]
  },
  {
   "cell_type": "code",
   "execution_count": 84,
   "id": "65c40fa0",
   "metadata": {
    "vscode": {
     "languageId": "wolfram"
    }
   },
   "outputs": [
    {
     "data": {
      "text/html": [
       "<style>\n",
       "\t\t\t\t\t\t\t\t\t\t\t\t\t.grid-container {\n",
       "\t\t\t\t\t\t\t\t\t\t\t\t\t\tdisplay: inline-grid;\n",
       "\t\t\t\t\t\t\t\t\t\t\t\t\t\tgrid-template-columns: auto;\n",
       "\t\t\t\t\t\t\t\t\t\t\t\t\t}\n",
       "\t\t\t\t\t\t\t\t\t\t\t\t</style>\n",
       "\n",
       "\t\t\t\t\t\t\t\t\t\t\t\t<div><div class=\"grid-container\"><div class=\"grid-item\"><img alt=\"Output\" src=\"data:image/png;base64,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\"></div><div class=\"grid-item\"><img alt=\"Output\" src=\"data:image/png;base64,iVBORw0KGgoAAAANSUhEUgAAANAAAABFCAIAAAC0bf/TAAAA0npUWHRSYXcgcHJvZmlsZSB0eXBlIGV4aWYAAHjabU9bbgQhDPvnFD1CSIIDx2F2GGlv0OPXDFSrqWqJ2HEeQBrf7yt9TWiW5CUqGiCEN2/aKaosLM7S7njj3CXmD5+Ltt9plU8BY/vH0w8s1vpnkegSNm+gNt8De5Hp8nNf+bH7tdf6WHQd143fF+Pz9H9zt1AU5HBGV4lAo66JkoSiUgIXXgAbM04Vf5EHIjiGmB3W5+CEjnh2jwSjcc4v2DzFOnlGtcxRsaB2w+2rnrvKCr/zA6PqXF4FPIp7AAAACXBIWXMAAA7EAAAOxAGVKw4bAAAAPHRFWHRTb2Z0d2FyZQBDcmVhdGVkIHdpdGggdGhlIFdvbGZyYW0gTGFuZ3VhZ2UgOiB3d3cud29sZnJhbS5jb21coqaFAAAAIXRFWHRDcmVhdGlvbiBUaW1lADIwMjU6MDU6MjEgMDc6NDY6MDJOhTDBAAASkklEQVR4nO2de1AT19vHTwhJRCKRCJoIoiJYqVqw4SJ4qYbqoLQgKgKtjlLCpXhrVabWasXRUmsr1YGiICqI14KoI1FB5CbIXURFQFEYgUKUKASQxJDs74+dyZs3m2w2ISyxzecPZnPyPPt82X12c87Zs+cQIAgC+HL8+HFfX18mk4lzXAM6ITk52cvLy9raWjt3I92qUcumTZsmTZpkyDYF8L/stWbdunWbN2+ur6/Xzh3XhLt48eKYMWO8vb3xDKq3SKXS8PBwAEBsbOzNmzdHWs7/4969e99++y0AIDAwUCAQyH9FoVDi4uIiIyMlEokWezbWjUAMdHd3b9u2raqqCreI6DQ0NFCp1PHjx//zzz/Ib0eNGsVgMNTuZGBggMfjIcupVKqFhYVSl7q6OjqdzmQyHz58+PHHHwMAsrOzQ0NDlcqDIEjpeZ08eTKBQFArr6WlBVlIJBInTZqkygWW5+HhcerUqZ6eHi8vLzMzMwUba2trGxubuLi47777Tq0GBfBLuIyMDAcHh4kTJ+IWEZ2ioqKwsLC+vr62tjbktzQaDUvCCYVCpe7jx49XlXAzZ85MSkoKCwsrKiry8PAQCAQikWjMmDFK5ZWXl4vFYuROJk+erFYbAECpNhKJhJJwMnkkEiknJ2fDhg1Kzb7++uvIyEi9TribN2+uWbMGt3Do3L17d9asWQCAioqKiIgIDofT39+fm5s7ZcqUU6dOUSgUjPupqanRwt3U1LStre3hw4d1dXUsFotKpba1tclXw2Xy+vv7tZaXl5ennS8sDwCwfPlyVTaenp7d3d3Pnj2zt7fHIub/gHBBLBbTaLTi4mJ8wqklOjqax+PB246OjlFRURAECYVCW1vbQ4cOQRD0999/W1tbV1dXq90V0j0rK2vq1Kl37txR5VJcXJyamhocHKydvKFogyAIi7y0tDS1O583b96RI0fUmimAU6Ohtra2p6fHzs4On3Bqefr0qbm5ObxNIBA8PDwAABQKZdGiReXl5QAAf3//d+/eQRgaj0h3b29viUSC4jt27NicnJzp06drJ28o2gAAWOQ1Njaq3bmdnV1hYaFaMwVw+knl8XgkEmnChAn4hFOLQCAgkUiyj7IKuLGxsazuZWSkeDVWVVVlZWXJPoaFhcFVUqQ70lceMplsbm6+c+dOreUp3T9SHvZ/TUFed3c3igHMpEmT8vPz1ZopgFPCdXV1jR49Gp9YWKBQKBAEyU7Gq1ev4I2ysrKffvpJZpaVlXX58uXc3Nx58+bFxsY6Ozs7Ozsj96bKXRUSiWTUqFHIcqlUmpCQsHbtWizyFLQRCASl8jTVhiJPgdGjR/P5fCw7lAe/hDMxMdHOV/7Q64qJEye+e/fO1NQU/piYmNjT09Pa2urv7y/fsmEymWFhYTt27LC1tV2wYMHKlSuV7k2VuyrevXtnZWWFLO/u7o6JiXFzc8Mib5i0ochTwMTERC8S7u3bt0uXLr1+/bp8twKfz1dIuNLS0tTUVKS7VCqVSqVEIvHZs2d5eXmxsbEzZsyQNZfu3buXlpZ27NixwMDApKQkZBcRRlxcXNrb22W1qD179vj6+iLNPv30UwAAnU5nsVilpaWqTqoqd1W0t7e7ubkhy+l0Otwp2NDQoFbeMGlDkaeAiYnJmzdvNL0d6D7hTE1Nv/zySxqNJl8oEokU6g3u7u7u7u6pqakpKSkTJkzg8Xh2dnZ8Pr+0tPT+/fs8Hg+ukCp0iqJ3SGLHz8/v0qVL8BmFW09KzWSHkkQi0el0pTYo7kBFta+jo+OLL74Yorxh0gYAUCsPhkgkSiQSiURibKxBFuk+4chk8s8//4zFMjExMSIiIi8vb/HixX19fZaWlhwOp7q6mslkpqenq+oURe+QxAiVSh0zZkx/f39BQcHz58/Pnz8/e/bsadOmKZjBTxHEYnFtbe2+ffuQ++FyuUrdZWcaWa/i8Xj29vbodwUs8rTWJpOntM6HRd5Q0GXCiUSi9PT02tpaW1vbZcuWTZkyBd3+zz//dHV1Xbx4MQCASqWamJi8ffsWvshQOkUBaockdtasWcPn8729vXt7e5UaODs7JyYmNjY2NjY2HjhwQOmvjFL3rKyszs7OS5cuubm5IR8hkEgk+F8eijyttelKnvZo2nGHTl5eHpVKvXjxolgsli/fvn37tGnTFIzHjx/v5+cHb8OjD/bv3w9B0ODgIEqnqAE94cSJEwAAhROtFh3/pN6/f3/RokUAACy/6xwO56+//iovL2cwGKGhobNnz966dSsAoKCgAKVTVBUQBGVnZyPLGQyGk5OTQmFDQ4OqG5sBJFZWVrp6CK7jhONyuT4+PhiN169fX1lZefbsWRMTk/Dw8ICAALi309PT09PTU9PQEATdunULWe7k5IRMuIyMjKdPn2oa4j+Ln5+fn5+fTnaly4Tr7e0tLi4ODg52dnaWSCREIhHFWCwWOzs7r1+//siRI+iWGDEyMjpy5AhG4927dw89ogEt0OWz1IKCgokTJ/b29r58+bKurg7dmEQiBQcHx8fHM5nMdevWKb05Gfj3ocs7HJlMHj16dHFxsZOT0yeffIJuXFJSIhAI9u7dK5VKuVzusmXLAgICLly4MHwN8g8IqVT6448/9vb2ikQiqVR64sQJjfq69JphacAgUGilVldXk0ik69evy0r27NkDAMjNzcVHj56Tk5Pj5OQEbzOZzIsXL46sHqVo10rFaXiSQi3t7t27YrEYHmMIExwcDKvHR4+e4+npWVBQAACAIEgqlXZ1dY20IiVAEATUDTxBglPCjR07VigUyj6y2WwKhZKQkCAruXr16owZMxYuXIiPnhEnJSWFTCZv2rRJvrCsrMzIyIjD4bx48QJ+NlhQUCCVSlU9Jx1ZhEKhmZmZnibcuHHjBgYGZB9nz559586dx48fL1myJDQ0dPny5W1tbYWFhXo1hGlYWbVqlYODQ3V1tawEgqCTJ08SicQDBw7AI1Xr6+sPHjxYVVWln29VDgwMjBs3TlMvnKqiFhYW8gkHAJg3b96NGzfwia6HVFVVhYSE7Ny5U9Z/dObMGUdHRyaTCY+yefDgQUJCwpUrV/T2ItQu4XC6w8EJ19/fj084/aeysnLNmjUkEunJkycAAIFA8Pz5cwiCXFxcAAB8Pn/37t3Hjh2Ds00/r8yuri5Vo1RQwCnhZs2aZWRk9OLFC3zC6T+dnZ0MBsPR0bG2thYAcPTo0a1bt5aVlbm6ugIA4uPjCwsLra2tmUwmnU4vKioaab1KaGpqUtv5hQSnhKPT6S4uLs+ePcMnnP4DN/HghHv06JGVldW4cePKy8vt7e39/f2jo6OPHTvW0dHR0dFx+/bt/Pz8iIgIfft9aGpq0mLYDn5TPXh5eenbhAYjRUdHh6WlJQDA0dHxwYMHKSkpGzZs6Orqam5u9vT0TEpKIpFIM2bMgI1ZLBaDwUhISJCNONcHmpqaXr16NX/+fE0d8Uu4VatWZWZmikQi3CLqLfn5+Q4ODgAAJyengoKCgIAAIyOj8vLy6dOn02g0c3PzJUuWZGZmwsbt7e1whWREJSty7tw5Hx8f+VfLsKL7HmjVREZGpqen4xlRDykpKZkzZ05ERERXV9fAwMD27dshCCorK2Oz2bL3k1NTUz/66CPYPj4+/tGjRyOpGIFEImGxWO3t7Vr44ppwPT098+fP7+zsxDPoh0h3dzeZTH78+DEEQRs3bhxpOYrs2rXrxIkT2vnieqM2MzNLT0//7bffBgcH8Yz7wUGj0ZYsWZKRkdHZ2an11H/DBJfLnT59OofD0c6dGB0drVM9aqBSqfPnz+/r69Pb/kw94f3798nJyaampr6+vlp0dw0fJiYmQ3kCSYA+nLkX/1O8efNmwoQJK1euvHTp0khr0SX61fYxIINOp7PZbLgf+N+E4Q5nAFcMdzgDuGJIOAO4Ykg4A7hiDGF4f/jGjRt37tzBV5iBfw9RUVGyqbSMIQzvDyNneTFgADvyww4MrVQDuGKowxnAFUPCGcAVQ8IZwBVDwhnAlX/LjBVa8W+ewmOEUH9IdTYq7wPkg5jC48NC7SH9T/+kfhBTeHxYqD2k/+mEMzIywmcKDwiCoqKimEwmgUD4/fffkQY8Hs/c3JxAIKxdu1bf3m3TSHx2djb6IR1qlaW1tRV9ITAbGxstJuxF0tLS0tTUhGIwdepU7Z6I4DCFB3yq6uvrS0tLKyoqkAbbt283Nja2s7M7e/bsMGnQGi3EoxxSzRJOIpHExcWtXr1aNtBeJBKhLwQGv4A5dIRCIXog+dmZUKipqamrq1u7di38UYdTeChdgkeeN2/eLF68uLKyUqE8NzcXfvizYMECLIHq6+t/+eWXc+fOubm5zZ07FwAwMDCQmZn5+++/D3H5ChSwi1dzSDWqEgYHB9fW1sqXFBQUeHl5MZnMR48eHTx40N3dHZ5CVbt3yFDQYaALFy7AK4d2dXV5e3sPDg7C5VwudygKRSLRvn374IUlkTx//vyrr76KiYkBAMjWQoUgSCgUfvbZZ2VlZQCApKQkjLHgO01OTo6s5OHDhykpKUPRjwJ28WoPqQYJd/78+ZCQEGT56dOnAQC2trZ3796VSqU3b940NjZmsViyqLpCh4Hmzp1bU1MTHR1NpVIZDAaDwTA3N//hhx9QXBITE+H39rTj7NmzcXFx8DgJ+ak/9+7dm5mZefLkSQAA9v3Dd5rbt2/LF/b392stDx3s4tUeUg0SzsXF5caNG8jyq1evAgAOHz4sKwkJCQEA6Hz9Zx0GiomJ4XA4GrmEh4fn5+cr/UooFKalpe3YsSMhIaG5uVmpTWRkZGVl5evXrwEA+/btgwufPHkSFBQEQdA333xDo9HgdXOxoDThhg8disfaSn39+nVlZSXKOx3yLQN4zink771O0EkgV1dXHc6BRaFQrKysjh8/TqfTVb1G+uDBA0dHRwsLCxsbG3geQgiCoqKiDh8+DAAoKSlxc3Pj8/n+/v4EAkFW+66urnZzc8M4k83r16+H4o4CFvEYJ6PA2mhobW0lEokoL0jKzz4O15rFYnF6evq2bduuXbsGr7WoFEiTFWRUBeJyuZs3b05OTmaz2Vj+HQsLi87OzsHBQfRHC/LaWltbKyoq4KYJUhv6Ejz9/f1kMhmeiYPFYsE1sOPHj69YsYLJZPL5/MbGxqCgIEtLy6SkpGvXriFnssFyOjG6a3rAsYj38fHx9/fPyMhIS0uDG2TV1dWRkZFz5sw5fPiw/Hg4rAk3ODhIIpEwzmn/9u1bAIC9vf2KFSsiIiIg1CF3kCYryKgK5O3tHRkZiR5IHgqFAi/Mim4mrw1OOHg9U6Q29CV4KioqZOv2sVisK1eu3L9/Pzs7+8qVKwCAe/fuAQDc3d0BALKZbGB7TWeyweKu6QHHIv7zzz93cXHBcqlgTThLS0uhUPj+/XsymazUoK+vT7ZdU1NDJBIdHR0BhlmuNVpBZiiB5BEIBDQaTdX/olRbREREYGAgfBtTQO0SPEVFRSwWC96Gb/aBgYFcLhe+gEtKSggEgmxFwICAgJiYGLhJePXq1aCgIOz/FxZ3TQ84RvHw9BRqLxWsJ8nGxoZOpzc3N6sykL0g3tLScu7cua1bt06dOhUuycrK2rVrl6ur6/fff4/9JqRFIOy0tLTAaaoT1C7Bc+3aNZlI+OSFhITY29vDJYWFhfBEXfBHX1/f5uZmeD/19fXyiwtgYYjuQxEfEBAgm2VM5aWCvakSHBycnJyMLIcbj05OTmw2e/369YsWLYqPj5etF2FhYZGYmAhBEJ/Pp9Foly9fxh5Ro0BTpkzBvq7Ili1bjh49qlF0lFbqrVu3HBwcgoKCSkpKFL4qLS2Fl0Vjs9myTqkNGzbAsgsLC9etWwcAoFKpW7ZsgVf0hiDI29s7Ojq6o6Pj119/RYZraGiAl7VYtWpVdXU10gDdHTuaiscy6ZMGCdfS0sJms5GtXzgPsrKylHpZWFhUVlbC22w2e8eOHdgjahQIe8Lx+fyFCxcODAxorWS4OX369MyZM+Pj45uamvB3Hwpqc12Des/kyZP3798fGxur6T0Zy+rsOqSqqipaDriaL+P9+/eHDh06c+bMqFGjhluJ1vj4+DQ2NhYVFWn3dHiI7kNh9erV6enply9f9vf3V2qg2bNUDw8PKyurly9f2tjYyAolEonsr1LUrs6OEfRA8AUElC0zL09DQ8OuXbvMzMy0loEDQ5zJZgQnwvHx8QkNDS0qKtq4caNyiyHeQrOysuDnxy4uLvHx8UgDLy8vHx+f2NjY8PBwpVVAnQS6fv06hULhcDgCgUDrEAZ0wtKlS//44w9V3xreSzWAK//pAZgG8Od/50e9lUj9OakAAAAASUVORK5CYII=\"></div></div></div>"
      ],
      "text/plain": [
       "(-I (MT[mm, nn] - \n",
       " \n",
       "         Pair[LorentzIndex[mm], Momentum[p]] . Pair[LorentzIndex[nn], Momentum[p]]\n",
       ">        -------------------------------------------------------------------------)) / \n",
       "                                              2\n",
       "                                            M\n",
       "                                             V\n",
       " \n",
       "                                        2\n",
       ">   (Pair[Momentum[p], Momentum[p]] - M   + I M  Γ )\n",
       "                                       V       V  V\n",
       "(-I (MT[μ, ν] - Pair[LorentzIndex[μ], Momentum[p  - p  ]] . \n",
       "                                                b    l-\n",
       " \n",
       "                                                        2\n",
       ">         Pair[LorentzIndex[ν], Momentum[p  - p  ]] / M  )) / \n",
       "                                          b    l-      V\n",
       " \n",
       "                                                      2\n",
       ">   (Pair[Momentum[p  - p  ], Momentum[p  - p  ]] - M   + I M  Γ )\n",
       "                    b    l-             b    l-      V       V  V"
      ]
     },
     "execution_count": 84,
     "metadata": {
      "text/html": [],
      "text/plain": []
     },
     "output_type": "execute_result"
    }
   ],
   "source": [
    "mv = Subscript[M, \"V\"];\n",
    "wv = Subscript[\\[CapitalGamma], \"V\"];\n",
    "\n",
    "gu = Subscript[\"g\", \"U\"];\n",
    "betaL = Subscript[\\[Beta], \"L\"];\n",
    "betaR = Subscript[\\[Beta], \"R\"];\n",
    "\n",
    "vLQvertex[mm_] := I gu GA[mm].(betaL PL + betaR PR)/Sqrt[2];\n",
    "\n",
    "PropagatorV[p_,mm_,nn_] = -I(MT[mm,nn] - Pair[LorentzIndex[mm],Momentum[p]].Pair[LorentzIndex[nn],Momentum[p]]/mv^2 )/(ExpandScalarProduct[SP[p,p]] - mv^2 + I mv  wv )\n",
    "PropagatorV[p1-p3, \\[Mu] , \\[Nu]]"
   ]
  },
  {
   "cell_type": "markdown",
   "id": "65dd257d",
   "metadata": {},
   "source": [
    "## 'Unpolarized' Amplitude\n",
    "The amplitude for the process $b \\bar b \\to \\tau^+ \\tau^-$ mediated by a vector leptoquark $U_1$ is given by:"
   ]
  },
  {
   "cell_type": "code",
   "execution_count": 89,
   "id": "19d38639",
   "metadata": {
    "vscode": {
     "languageId": "wolfram"
    }
   },
   "outputs": [
    {
     "data": {
      "text/html": [
       "<div><img alt=\"Output\" src=\"data:image/png;base64,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\"></div>"
      ],
      "text/plain": [
       "             4   4      4       4     2   2              2\n",
       "        2 E    g   (2 β   + 2 β   + β   β   (1 + Tanh[η]) )\n",
       "           CM   U      L       R     L   R\n",
       "--------------------------------------------------------------------\n",
       "    2    2     2         2   2                     4               2\n",
       "4 M   (M   + Γ  ) - 4 E    M   (-1 + Tanh[η]) + E    (-1 + Tanh[η])\n",
       "   V    V     V        CM   V                    CM"
      ]
     },
     "execution_count": 89,
     "metadata": {
      "text/html": [],
      "text/plain": []
     },
     "output_type": "execute_result"
    }
   ],
   "source": [
    "unpolarizedVectorialLine1[mm_] = b.vLQvertex[mm].tau ;\n",
    "unpolarizedVectorialLine2[mm_] = antiB.vLQvertex[mm].antiTau ;\n",
    "\n",
    "MVectorial = Contract[unpolarizedVectorialLine1[\\[Mu]].PropagatorV[p1-p3, \\[Mu] , \\[Nu]]].unpolarizedVectorialLine2[\\[Nu]] // DiracSimplify // Factor ;\n",
    "\n",
    "ExpandAll[ MVectorial (ComplexConjugate[MVectorial]) // FermionSpinSum[#] & // DiracSimplify ]// Factor // Simplify"
   ]
  },
  {
   "cell_type": "markdown",
   "id": "217c80da",
   "metadata": {},
   "source": [
    "## Polarization of the $\\tau$ lepton"
   ]
  },
  {
   "cell_type": "code",
   "execution_count": 93,
   "id": "8203e95f",
   "metadata": {
    "vscode": {
     "languageId": "wolfram"
    }
   },
   "outputs": [
    {
     "data": {
      "text/html": [
       "<style>\n",
       "\t\t\t\t\t\t\t\t\t\t\t\t\t.grid-container {\n",
       "\t\t\t\t\t\t\t\t\t\t\t\t\t\tdisplay: inline-grid;\n",
       "\t\t\t\t\t\t\t\t\t\t\t\t\t\tgrid-template-columns: auto;\n",
       "\t\t\t\t\t\t\t\t\t\t\t\t\t}\n",
       "\t\t\t\t\t\t\t\t\t\t\t\t</style>\n",
       "\n",
       "\t\t\t\t\t\t\t\t\t\t\t\t<div><div class=\"grid-container\"><div class=\"grid-item\"><img alt=\"Output\" src=\"data:image/png;base64,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\"></div><div class=\"grid-item\"><img alt=\"Output\" src=\"data:image/png;base64,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\"></div><div class=\"grid-item\"><img alt=\"Output\" src=\"data:image/png;base64,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\"></div></div></div>"
      ],
      "text/plain": [
       "    4   4   2      2     2       2             2        2\n",
       "(E    g   β   (4 β   + β   + 2 β   Tanh[η] + β   Tanh[η] )) / \n",
       "  CM   U   L      L     R       R             R\n",
       " \n",
       "        4        2   2       4       2   2        4                2   2\n",
       ">   (E    + 4 E    M   + 4 M   + 4 M   Γ   - 2 E    Tanh[η] - 4 E    M   Tanh[η] + \n",
       "      CM       CM   V       V       V   V       CM               CM   V\n",
       " \n",
       "         4        2\n",
       ">     E    Tanh[η] )\n",
       "       CM\n",
       "    4   4   2    2       2       2             2        2\n",
       "(E    g   β   (β   + 4 β   + 2 β   Tanh[η] + β   Tanh[η] )) / \n",
       "  CM   U   R    L       R       L             L\n",
       " \n",
       "        4        2   2       4       2   2        4                2   2\n",
       ">   (E    + 4 E    M   + 4 M   + 4 M   Γ   - 2 E    Tanh[η] - 4 E    M   Tanh[η] + \n",
       "      CM       CM   V       V       V   V       CM               CM   V\n",
       " \n",
       "         4        2\n",
       ">     E    Tanh[η] )\n",
       "       CM\n",
       "                                        2     2\n",
       "              -2 (β  - β ) (β  + β ) (β   + β  )\n",
       "                   L    R    L    R    L     R\n",
       "--------------------------------------------------------------\n",
       "    4     2   2       4       2   2             2   2        2\n",
       "2 β   + β   β   + 2 β   + 2 β   β   Tanh[η] + β   β   Tanh[η]\n",
       "   L     L   R       R       L   R             L   R"
      ]
     },
     "execution_count": 93,
     "metadata": {
      "text/html": [],
      "text/plain": []
     },
     "output_type": "execute_result"
    }
   ],
   "source": [
    "leftPolarizedVectorialLine1[mm_] = b.vLQvertex[mm].PL.tau ;\n",
    "unpolarizedVectorialLine2[mm_] = antiB.vLQvertex[mm].antiTau ;\n",
    "\n",
    "MVectorialL = Contract[leftPolarizedVectorialLine1[\\[Mu]].PropagatorV[p1-p3, \\[Mu] , \\[Nu]]].unpolarizedVectorialLine2[\\[Nu]] // DiracSimplify // Factor ;\n",
    "MVectorialLSquared = ExpandAll[ MVectorialL (ComplexConjugate[MVectorialL]) // FermionSpinSum[#] & // DiracSimplify ] // Factor \n",
    "\n",
    "rightPolarizedVectorialLine1[mm_] = b.vLQvertex[mm].PR.tau ;\n",
    "unpolarizedVectorialLine2[mm_] = antiB.vLQvertex[mm].antiTau ;\n",
    "\n",
    "MVectorialR = Contract[rightPolarizedVectorialLine1[\\[Mu]].PropagatorV[p1-p3, \\[Mu] , \\[Nu]]].unpolarizedVectorialLine2[\\[Nu]] // DiracSimplify // Factor ;\n",
    "MVectorialRSquared = ExpandAll[ MVectorialR (ComplexConjugate[MVectorialR]) // FermionSpinSum[#] & // DiracSimplify ] // Factor \n",
    "\n",
    "(* tau polarization *)\n",
    "MVectorialPolarization = (MVectorialRSquared - MVectorialLSquared) / (MVectorialRSquared + MVectorialLSquared) // Factor ;\n",
    "MVectorialPolarization\n"
   ]
  },
  {
   "cell_type": "code",
   "execution_count": 102,
   "id": "81c3dbb3",
   "metadata": {
    "vscode": {
     "languageId": "wolfram"
    }
   },
   "outputs": [
    {
     "data": {
      "text/html": [
       "<style>\n",
       "\t\t\t\t\t\t\t\t\t\t\t\t\t.grid-container {\n",
       "\t\t\t\t\t\t\t\t\t\t\t\t\t\tdisplay: inline-grid;\n",
       "\t\t\t\t\t\t\t\t\t\t\t\t\t\tgrid-template-columns: auto;\n",
       "\t\t\t\t\t\t\t\t\t\t\t\t\t}\n",
       "\t\t\t\t\t\t\t\t\t\t\t\t</style>\n",
       "\n",
       "\t\t\t\t\t\t\t\t\t\t\t\t<div><div class=\"grid-container\"><div class=\"grid-item\"><img alt=\"Output\" src=\"data:image/png;base64,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\"></div><div class=\"grid-item\"><img alt=\"Output\" src=\"data:image/png;base64,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\"></div><div class=\"grid-item\"><img alt=\"Output\" src=\"data:image/png;base64,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\"></div><div class=\"grid-item\"><img alt=\"Output\" src=\"data:image/png;base64,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\"></div></div></div>"
      ],
      "text/plain": [
       "               -1.9838\n",
       "-------------------------------------\n",
       "                                    2\n",
       "2.1062 + 0.18 Tanh[η] + 0.09 Tanh[η]\n",
       "              -1.875\n",
       "-----------------------------------\n",
       "                                  2\n",
       "2.375 + 0.5 Tanh[η] + 0.25 Tanh[η]\n",
       "               -1.7408\n",
       "-------------------------------------\n",
       "                                    2\n",
       "2.6192 + 0.72 Tanh[η] + 0.36 Tanh[η]\n",
       "Legended[-Graphics-, Placed[LineLegend[{Directive[Opacity[1.], \n",
       " \n",
       ">       RGBColor[0.368417, 0.506779, 0.709798], AbsoluteThickness[2], Thickness[Large]], \n",
       " \n",
       ">      Directive[Opacity[1.], AbsoluteThickness[2], RGBColor[0, 0, 1]], \n",
       " \n",
       ">      Directive[Opacity[1.], AbsoluteThickness[2], RGBColor[1, 0, 0]]}, \n",
       " \n",
       ">     {β  = 0.1, β  = 0.5, β  = 0.9}, LegendMarkers -> None, LabelStyle -> {}, \n",
       "        R         R         R\n",
       " \n",
       ">     LegendLayout -> Column], After, Identity]]"
      ]
     },
     "execution_count": 102,
     "metadata": {
      "text/html": [],
      "text/plain": []
     },
     "output_type": "execute_result"
    }
   ],
   "source": [
    "(* Plot MVectorialPolarization as function of eta for different values of Subscript[\\[Beta], \"L\"] and Subscript[\\[Beta], \"R\"] *)\n",
    "\n",
    "f1 = MVectorialPolarization /. {betaL -> 1, betaR -> 0.3}\n",
    "f2 = MVectorialPolarization /. {betaL -> 1, betaR -> 0.5}\n",
    "f3 = MVectorialPolarization /. {betaL -> 1, betaR -> 0.6}\n",
    "\n",
    "Plot[{f1, f2, f3}, {\\[Eta], -5, 5}, \n",
    " PlotRange -> All, AxesOrigin -> {0, 0}, \n",
    " PlotLabel -> \"MVectorialPolarization\", \n",
    " Frame -> True, \n",
    " FrameLabel -> {\"eta\", \"MVectorialPolarization\"}, \n",
    " FrameTicks -> {{Automatic, Automatic}, {Automatic, Automatic}}, \n",
    " PlotStyle -> {Thick, Blue, Red, Green}, \n",
    " ImageSize -> Large,\n",
    " PlotLegends -> {\"\\!\\(\\*SubscriptBox[\\(\\[Beta]\\), \\(R\\)]\\) = 0.1\", \n",
    "  \"\\!\\(\\*SubscriptBox[\\(\\[Beta]\\), \\(R\\)]\\) = 0.5\", \n",
    "  \"\\!\\(\\*SubscriptBox[\\(\\[Beta]\\), \\(R\\)]\\) = 0.9\"}\n",
    "  ]\n",
    "\n",
    "\n"
   ]
  },
  {
   "cell_type": "markdown",
   "id": "a6cb4ef9",
   "metadata": {},
   "source": [
    "Since the quark and antiquark are not comming from a predetermined beam, we must to make the avergage over $\\eta$ and $-\\eta$ to get the cross-section. \n",
    "\n",
    "Tau Polarization will be given by:"
   ]
  },
  {
   "cell_type": "code",
   "execution_count": 107,
   "id": "d8928061",
   "metadata": {
    "vscode": {
     "languageId": "wolfram"
    }
   },
   "outputs": [
    {
     "data": {
      "text/html": [
       "<style>\n",
       "\t\t\t\t\t\t\t\t\t\t\t\t\t.grid-container {\n",
       "\t\t\t\t\t\t\t\t\t\t\t\t\t\tdisplay: inline-grid;\n",
       "\t\t\t\t\t\t\t\t\t\t\t\t\t\tgrid-template-columns: auto;\n",
       "\t\t\t\t\t\t\t\t\t\t\t\t\t}\n",
       "\t\t\t\t\t\t\t\t\t\t\t\t</style>\n",
       "\n",
       "\t\t\t\t\t\t\t\t\t\t\t\t<div><div class=\"grid-container\"><div class=\"grid-item\"><img alt=\"Output\" src=\"data:image/png;base64,iVBORw0KGgoAAAANSUhEUgAAAv0AAAA1CAIAAABdgMOzAAAA0npUWHRSYXcgcHJvZmlsZSB0eXBlIGV4aWYAAHjabU/bDQMhDPtnio4QkuDAONwBUjfo+A0HVXVVLRE7zgMl9NdzhMcERwqaLKMA5NCihauLTAuLI5UrXhiNeLs3P0haIla30reAvv3j7hsWc/5ZtPeTzB9ci+6BvUh4+bGu/Nj9XHO+LRrHuLCPIXxE/J+rGCMhmnpUJjMU1zm4dEJiSoaBE/DGiMakp3OHmY/BZofUOTjB3e7dPUDcaPMEmS9JdZ6RJfooiblWweUbt131ip/zBvVPXJoINZu7AAAACXBIWXMAAA7EAAAOxAGVKw4bAAAAPHRFWHRTb2Z0d2FyZQBDcmVhdGVkIHdpdGggdGhlIFdvbGZyYW0gTGFuZ3VhZ2UgOiB3d3cud29sZnJhbS5jb21coqaFAAAAIXRFWHRDcmVhdGlvbiBUaW1lADIwMjU6MDU6MjEgMDc6NDY6MDc+78ROAAAb8UlEQVR4nO2de1BTZ/rHHyIIrQUWCwU0hSmugnZs2FEWVEpFQKei1RZQqUhXWCudZYbqiK6QHwW1LsWVSxEHa+lUnIqAjK3bOpiVi1amQB3BC5cW3SBRQQktVyGR5Pz+eKdnzuRycpJzckjk/fx1Lu/lm+/7nCdv3uSc2BAEARgMBoPBYDDTANupFoDBYAyjVqv3798/MjKiUCjUavXJkydtbbm8eM3dPkPS0tK6uroqKyv579ooeLbL5O540MmmCwuJOhJrCT8MWwgMBjPVKBSK33//naaARCLx9/dH256enmfPnuVWgM72nzx5YrCiQeXMaW1tXb58eXR0NCetmRVzDwdX3fGgk00XPNtIj0b4MQl+jJUimOp5FwYz3VGr1enp6S+88AJNmbCwsPr6egAgCEKtVsvlcm416Gz/0aNHX331FU0tJsoZolKpTpw4ERcXx74p9vzyyy8xMTE+Pj7Hjh3TWcDcw8FVdzzoZNMFzzbSoB1+BoMfY73gec80Ynh4ODU1de3atXFxcQEBASdPnpxqRRgAgPz8/A0bNtjb29OUEQgEzs7OAFBfX69Wq9977z1uNehsXyQS3b9/v62tzaBy9qFVXFwcHx8vELDNSEqlcnR0lGUjvr6+aWlpUqlUpVLpLGDu4eCqOx50sumCK3nmCD+DwY+xYqZwrQnDM6GhoUKhcGxsjCCI0tJSADh//vxUi5rujIyMrFu3jmHh9vb21atX379/30xitNvv6+vbsmWLzsJU5SxDq6+vLyUlhSCI4uJilt9zZWdnc/J1yd27dwEgPz+fpoy5h4Or7njQyaYL9vLMFH40wY+xavDvmqcLExMTzc3Nhw4devHFFwFg5cqVAFBVVbVx40btwiqVqrCwMDo6WigUAgBBEMXFxYODgwBQX19fUlKCjnMF8/ZbWlra2tr0fRtijbKrqqrefvttJs22trYeP378/PnzaAQ5l62zfXd399HRUblc7urqqk+5UaGls/eMjIyRkZFdu3bdunWrp6cnIyPjwIEDJry08fHx3Nzczz//3IS6xqJvODSCUBv6GGYz+jrrchU25tDGsC495gs/muDHWDdTM93CTAXd3d1qtRptoys/IiJCZ8nt27ffvHmT3N21axf5wXfz5s1isZhbYUa1X1ZWlpOTo/OUNcqOjo5ubGw02KxcLo+MjJycnETHf/jhB25l07Sfnp7+9ddf0ytnHlr0prFZ76moqAgODgaApUuXbty4sbS0lCAIqVT6wQcfhIWFrV271t/f/7vvvkOFq6qqVq5c6enpOTw8nJWVFRAQ4OzsvHXrVrRmQPyx3pOXl1dWVhYREeHo6BgUFNTe3o7O0tilEYQ6oYlhNqOvXZfDsOFcG/O6BjFf+OkLfoxVg+c905SamhoA2Lt3r/apM2fOJCYmkrtSqfSVV15RKBRoNyQkpKioiEMlJrQfFBTU0tKicZBb2SdOnLhz5w4Psr29vR89emSw2czMzJdeesnDw8PDw8PFxWXfvn2mKTeh/S+++CI5OVm7KQ3lJDShRW9aY2PjO++8s3DhwubmZtNeHfqRLPk9l1KpFAqFb775pkqlIggiISHB0dGR7D0jIwMAAgMDm5ub1Wp1cXExAGRnZ6OzaN7j6el56tQphUJx584dJyen4OBgdFafXRpBSIPOYGAz+jrrMg8bwgyRw0ldJtqocBt++oIfY9Xgec90RK1Wh4eHe3l59ff3a58NCAi4ePEiuVtQULB161a0XVtbu2LFitra2iVLlsydO7eiooK9GJr2P/vss507d27atEkul1OrHD58+O9//7tZZe/cubOurs7csn///XcAIBOxzmbHx8cNqmWu3IT2Kysryfd7GuUI+tAy96vTmPdMTk7GxMTU1NSQvQPAw4cP0W5+fj4A/Oc//yGVOzk5bdy4Ee2ieU9SUhLZeGxsrL29PZpC6YMahB0dHTt37ly4cKFcLj948KCfn9/ixYsnJibQWZ0xzMYfC4wc3rSRcB5+OoMfY+3gec90ZP/+/QEBAb29vdqnnjx5AgDUN+zIyMjTp09nZWUJhcL169ejxJ2Wlvbee+9xIkZf+1FRUajAihUrPv74Y2qVy5cvz5kzx6yyDeZZTmR3dnba2dkZbNYo6JWb0H51dfX8+fM1DmorR9CElmm9a2DUvIfk6dOnFRUVS5YsAYAHDx6gg2je09HRQRabN29eeHg42kbzniNHjpBnU1JSAIBGs0YQ3rt3TyaTAcCBAwfGx8dv375N7V07GAh2/lhg5PCmjYTz8NMZ/BhrB9/HPu0Qi8Xt7e1Xrlzx8PDQPiuTyWbMmDF79my0q1Qqr169umbNmoyMDJlM5ubmlpqaCgACgYDmlmOCIKp10draqlGSpn0bGxtURiQSSaVSai1XV9e+vr7JyUnzyZbJZM3NzeaWPTQ0RH1Arc5mGxoali5dKhQKaR4jy1C5PtlkFzk5OUlJSZs3bx4YGCBr2draDg0NafSooRxBH1rmfnU6aWpqiomJeffddwUCwbZt27QLkOOlsc3krAYaQejj49Pc3Ozh4SEWix0cHB4+fOju7j537lx0VjsYDI4OjUX03uocVgRXkTOF2khMCD8wKfgx1g6e90wv0tPTe3p6zp07p+9Zc5OTk3Z2dmSKb2ho8PPzc3NzQ7vBwcHffvutwV6Yz3uYtN/e3h4aGko9Ym9vr1ar1Wq1+WTT51kOZVPnYTqbXbFixZo1awIDA2NiYlgq1ycbdREUFLR3797i4uKHDx8eOnSIrCUQCKhvzzqVA4PQMver06a7uzskJMTFxaW6ujoqKsrc/4GgEYQAUFdXFxYWho5IJJKIiAjylHYw0I8OvUU03uobVgQnkTO12hCmhR+YFPwYawffxz6NOHXq1K1bty5cuECmZplM5uTkhB4dhnBzc5uYmFAqlTNnzgQAiURCffO+ffs2k1vBBQIB+hLBIDTt37t37/jx4zdu3Ni2bdv27duptYaHh52dnZFCM8lOSkrasmULuifWfLKdnZ2pT8bT1yz9MhVz5TSyaVaqnj17Ro0QncqZhJa5Xx2JQqFAGz/++KNSqQwKCkK7IyMjAECdanCLRhACQG1tLVpUAACJRLJv3z6ysHYw0I8OvUU03tIsQAJHkTO12oBd+NEr0Rn8GGsHz3umCwMDAykpKZ9++qlEIkFHxsbGCgoKvv/+e2oxLy+v2bNnS6VSX19fALh06ZKPjw9BEDY2Nk1NTSUlJefOneNQFU378+bNS0xMnJiYKCwsjIuLo75DdHd3i0Si50C2i4sL+SY9tbKptLe3U599Mj4+7uLiolGGqpxhaJn71QEA+oKjpqYmLi5OqVT6+fkBQGVlZXx8/OPHj8vKygDg7t27r776KvwxAaJOg1QqFbmLNqhzO7St7wnOoBWEvb29HR0d4eHhAPDo0aO2tjbqeo92MLDxh0ldjWE1CkvWxm34MQl+jLWD5z3ThfLy8qGhoeTkZOrBoKAgR0dH6pEZM2Zs2LDh2rVrvr6+/f39XV1de/bsCQsLIwjC1ta2urp62bJl2o3LZDL0XmIUBtu3t7ffvXv3gQMHGhoaqJ/VGhoaoqKingPZc+bMcXZ2HhsbmzVrFnPZpmGwfX0rVUNDQ4sWLdJojaqcSWiZ+9UhFixY8NFHH509e/att97asWNHfHx8Tk5Obm6uSCSKiIgoKCh4//33MzMzR0dHf/vtty+//BIAUlNTxWKxr6/vJ5980tPTI5fLU1NTN23alJWVBQAlJSWurq4JCQlHjx6tqqoCgMTExMzMTDSz0YAahABQUVHh4+ODFhUkEolIJHJ3dycLawQDG3/o69IsQDLEkrUBs8zGbfBjrB7z/mwaY4V0d3evWrVKpVJ98803q1ev1lkmPT2dvOOXIIh//vOfJnRE3z55Y1RISAj1aRwDAwMhISHaN6BaqezQ0NCuri76ZsViMft/Kadpn+xiYmLi6NGj/v7+1BvUDx8+nJubq12FVM6yd05enYVABqHG8djYWPpgYDI6+s4a9FbnsDLHkrUxhPPgx1g1+HfNGE28vb0PHjyYm5tbXl6OVuk1aGxs/O9//9vQ0PDvf/87Jydn/fr16KZfY9HXflNT0+XLl69fv37x4kUASE5OPnv2bEVFBQAolcqcnJzS0lIHB4fnQ3Z4ePiNGzdomtUG3R3NlWwqaKVKKpU2NDSQB9vb23VWJJVz1TvCtFdnIZBBqHG8rq4uMDAQbesMBub+gJZFBuvqHFbmWLI2hnAe/BjrZqonXhgLpaamxs7O7tdffzVT+x0dHTNnzjS2/Zs3bw4NDdEUsDrZ//vf/7Zt20bfLPtlKoOy9a1UKRQK9NWAPuXse+dkEc6i6O7upv7LZm9vLwCQjxvWDgYmo6PPIoPe6luAZIgla2OIOYIfY9XgeQ8GM8Xs2LFDJpPpO/vTTz/99a9/dXNzO3LkyGeffbZu3TrOvxVqbGwMDAz09vZGf5BUUVHh5eVVXl5OEMTp06crKytNU84EHl6dtWOyRTTDOh20McTk4MdYLzYEQUz1khMGM62Ry+XobWOqhWgyODiYmZlJ80gCi1WOwbDEYPBjrBc878Fgpp6uri4nJyfq/T6WwPXr1xcvXmxvb09TxjKVYzAsYRL8GCsFz3swGAwGg8FMF/D9XBgMBoPBYKYLeN6DwWAwGAxmumBLEMSlS5e0T3h4ePj7+6Ptr776qry8nF9hGAwGg8FgMBywZ88e8o9ibFQq1e7du7UL+fv7/+1vf0Pbg4ODw8PDvOnDYDAYDAaD4YqXX3551qxZaBv/rhmDwWAwGMx0Af++B4PBYDAYzHQBz3swGAwGg8FMF/C8B4PBYDAYzHQBz3swGAwGg8FMF2yNraBUKp8+ffqnP/2Jk+7T0tK6uroqKys5ac18qNXq/fv3j4yMKBQKtVp98uRJW1ujreOnO56lPgeY7BgPVluyNqPQuNL7+/vd3NxoyuM8g/PMc4YlX8uWrM1YqBe73jxj1L+YqlSqPXv2TExMcPKfqK2trcuXL7eQv1/u7OyMjo5+7bXXCgsLtc9KJBJ/f3+07enpefbsWbOKYdMdz1K5gt5/s2KyYzxYbcnamKN9pbe2tpaUlOgrj/MMgfOMecB5xuq0GYXGxa4vzxj3PVd+fv6GDRvs7e2Hh4dTU1PXrl0bFxcXEBBw8uRJYydlKpXqxIkTcXFxxlbURqlUjo6OsmzE19c3LS1NKpWqVCrts2FhYfX19QBAEIRarZbL5Sy7o4dNd1xJZT7EPPhvVkx2jIeosARtLC92nVe6SCS6f/9+W1ubzipknjFT76aB8wxXdTVgOMQ4z+A8Q4/2xa43zzCfSY2MjKxbtw5th4aGCoXCsbExgiBKS0sB4Pz580bNy44dO/bTTz8VFxez/xyWnZ3NyTTz7t27AJCfn09Tpra21s3N7dGjR+y7YwKb7lhKZT7EfPpvVkx2jIeomEJtLC92fVd6X1/fli1btMtT84z5ejcBnGc4r4tgOMQ4z+A8Q4/Oi11nnjHiq7iqqqq3334bACYmJpqbmw8dOvTiiy8CwMqVK9HZjRs3atciCKK4uHhwcBAA6uvrS0pKhELh48ePu7q6/vGPf9y8eZO5AJ2Mj4/n5uZ+/vnnLNthQkdHR3Z29vXr1z09PcmDKpWqsLAwOjpaKBTqrNXS0tLW1qbvE6dOf2i646ouPcyHmE//wZDb9FYDC8fMZ7WFa2N5sdvZ2em70t3d3UdHR+VyuaurK/U4mWeM6h3nGWvMM8B4iC0qz4DZ3MZ5hvNJhe48w3wyFR0d3djYiLa7u7vVajXaRt1HRETorLVr1y5yZr1582axWEwQxIcffhgbG/vxxx+vWrXqz3/+8//93/8xl0GloqIiODgYAJYuXbpx48bS0lKCIKRS6QcffBAWFrZ27Vp/f//vvvsOFa6qqlq5cqWnp+fw8HBWVlZAQICzs/PWrVvRBJP443NAXl5eWVlZRESEo6NjUFBQe3s7OtvS0rJjxw6yMMn27dtv3rxJr7OsrCwnJ0fnKZ3+0HTHVV2DMBliPv1HGHSbxmqChWNmtdrCtbG52Omv9PT09K+//lqjEWqeYd47zjOEdeYZgsEQW2CeIczjNs4zaJvbSYV2njFi3uPt7a1zFaumpgYA9u7dq31KKpW+8sorCoUC7YaEhBQVFVELGFx/PnHixJ07d2gKoC8XyfVPpVIpFArffPNNlUpFEERCQoKjoyMpICMjAwACAwObm5vVanVxcTEAZGdno7PoevD09Dx16pRCobhz546Tk1NwcDBBEHK5PDIycnJyEpX84Ycf0MaZM2cSExNp5JEEBQW1tLRoHNTnj77uuKprLDRDzI//CIZu67SaYOEYJ1bTR7Ila6Ni8sWu80r/4osvkpOTNQ7qyzM0veM8Q2KBeYZ5dBH6h9gC8wzBtds4z5BwO6nQzjNMf9c8ODh4//79l19+WXvF6V//+peXl1dqaqp2rQsXLkRERMycORMA6urqVCpVQkICebapqenixYttbW0///yzvn5v3LjR39/PUCQACASCZcuWZWZmCgQCABCJRCMjI+SPrWbPng0AYrE4ICDAxsbmww8/dHJyamxspLawYcOG+Pj4mTNnvv7665GRkT///LNarT527NiVK1eEQqGnp+fs2bOvXr2KCufl5UVFRaHtzs7OpKSkRYsWDQwMHDp0aOHChW+88YZCoUBn33nnnaKiIob+6OuOq7pGQT/EGpjJf3SKdNsEq4GFY5xYTR/JlqyNxOSLXd+V7uLi0traSj2iL8/Q947zjCXnGebeMk81/OQZ4NdtnGcQnE8qtPMM0/Wezs5OOzs77eP79+8PCAjo7e3VWSsyMvL06dNZWVlCoXD9+vUm3Ji6c+fOuro6mgIanwNInj59WlFRsWTJEgB48OABOpifnw8AHR0dZLF58+aFh4ejbfQ54MiRI+TZlJQUANAn+8mTJwAgl8vR7r1792QyGQAcOHBgfHz89u3b1K4vX748Z84cjRbY+MPeW4bQDzFv/lPdNsFqgoVjnFhNH8mWrI2E84u9urp6/vz51CP68gx97zjPWHKeYRhdBO0QT0meIfh1G+cZBA95hul6z9DQkPbziMRicXt7+5UrVzw8PLSrKJXKq1evrlmzJiMjQyaTubm5MVkwAAAkFCGTyZqbm9G25pRND01NTTExMe+++65AINi2bZt2ARsbG53bTM5SkclkM2bMQJ8tAMDHx6e5udnDw0MsFjs4ODx8+NDd3X3u3LnorKura19f3+TkJFndZH/Y1KV6S0Wft/RDrBMz+U9121irgYVjbIaJYSRbsjYSc1zstra2Q0ND1CM68wx97zjPWHieYeitsamGhzwDPLqN8wyCnzzDdN4zOTmJVhRJ0tPTe3p6zp0798ILL+is0tDQ4OfnRz4tMTg4+Ntvv0XHly5dKhQK9T0+lU0+6u7uDgkJcXFxqa6ujoqKMuuzIycnJ+3s7KjXTF1dXVhYGDoikUgiIiLIU/b29mq1mlxKBRb+6KtLVszJyUlKStq8efPAwIBGRaPmPQaHWBvz+a/htlFWgyHHjLUaKMPE0G2aSDY5EnjQhjDtYjcoQyAQaExPtfOMwd5xnrHwPMPEW2NTDW95BvhyG+cZ4DHPMA0XZ2dn6oOeTp06devWrQsXLpDxIZPJnJycnJ2dyTISiSQ0NJTcvX37NrrtbcWKFWvWrOns7IyJidHZl0AgQAuVAJCUlLRlyxZ0VxsN5BeuP/74o1KpDAoKQrsjIyMAoPEWyBVubm4TExNKpRJ91wgAtbW15PRTIpHs27ePLDw8POzs7EyWBBb+6KuLKv7yyy979+4FgODg4EOHDuXl5VErUr2lh8kQk/Dgv4bbRlkNtI6ZYDX8MUzM3aaJZJMjgQdtwOJiNyjj2bNnGuGkkWeY9I7zjIXnGYPeMk81/OcZ4MttnGf4zDNM5z0uLi5kzA0MDKSkpHz66acSiQQdGRsbKygo+P7776lVLl265OPjQxCEjY1NU1NTSUnJuXPnSC+0P9WZBloNq6mpiYuLUyqVfn5+AFBZWRkfH//48eOysjIAuHv37quvvgp/XBjUy0OlUpG7aIOadtG2vid7enl5zZ49WyqV+vr6AkBvb29HR0d4eDgAPHr0qK2tjfrJoLu7WyQSUauz8UdfXYFAQAaNSCSSSqUGDdQJwyEGHv2num2s1fSOmWY1cOe2yZHAgzaWFzu9jPHxcRcXF+oRap5h2DvOM9abZ4BxgE1JngEe3cZ5hs88w3TeM2fOHGdn57GxsVmzZpWXlw8NDSUnJ1MLBAUFOTo6krv9/f1dXV179uwJCwsjCMLW1ra6unrZsmUMu2POggULPvroo7Nnz7711ls7duyIj4/PycnJzc0ViUQREREFBQXvv/9+Zmbm6Ojob7/99uWXXwJAamqqWCz29fX95JNPenp65HJ5amrqpk2bsrKyAKCkpMTV1TUhIeHo0aNVVVUAkJiYmJmZiS4DKjNmzNiwYcO1a9fQqYqKCh8fHzQRlkgkIpHI3d2dLNzQ0EDeI8DSH4Z129vbdT70iQlMhhjBp/+k20ZZzdwxbZhXNNltS9YGzCLB5IAcGhpatGgR9Qg1zzDpHecZq84zwDjVTEmeAb7cxnmG5zxjxPN7QkNDu7q6GBb+5ptvVq9ere+sWCy2kL8JZEl3d/eqVavQMySoxMbGUp89MDAwEBISMj4+Th5h4w9NXbFY/Je//KWoqCgxMbGkpIR8DNTzgU63DVpNGHLMNKsJjtw2ORJ40MYQkwPy8OHDubm5GlVwntEG5xk+4d9tnGeYwGGeMWIRODw8/MaNG8ynb2ht8PnG29v74MGDubm5Gsfr6uoCAwPRtlKpzMnJKS0tdXBwIAuw8Ye+7rx58xITExctWlRYWPjs2TPTurBMdLpt0Gpg4bbBiuzdtmRtnCihkdHe3q5dEecZbXCe4RP+3cZ5hr0So/KMEfOe2NhY7Z936KSzs7O6upr5khd6QIKVsnz58piYmJ6eHvJIX19fX18fuV7d2dmZlpbm7e1NFmDjD5O69vb2u3fvlkqlDQ0NRrwSa0DDbYNWg5FuG2s1sHPb5EjgQRtDTA5IpVLZ29u7ePFijcI4z+gE5xk+4dNtnGeYwG2eMWLe89prrzk4ODx48MBgST8/P4VCMX/+fH0FCIKg3ld2/Phx5jIsEG9vby8vL3LXw8ODIIjXX38d7b7xxhtOTk7U8mz8oa+LFvHQtkgkqq6uNv7VWDpUtw1aDQwcM81q4MJtkyOBB20MMTkgKyoqkpKStKvgPKMPnGf4hDe3cZ5hArd5ZkZmZibzvpctW5aXl0f9QbsJNDY2FhUV3bp1y8bG5tq1a9nZ2cPDw5s2bWLT5vOEyf40NTUdP378119/XbBgwfz581966aXc3Ny5c+eS1ypGAzahyIPb1h4JNDIGBwfPnDmze/dunRVxnuEBa48u68KS3bZkbUwwIc/YkLMkhnR1dTk5OVF/047BYDBGcf369cWLF9vb2+srgPMMBoNhib48Y/S8B4PBYDAYDMZK+X8UCZvJueE9+QAAAABJRU5ErkJggg==\"></div><div class=\"grid-item\"><img alt=\"Output\" src=\"data:image/png;base64,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\"></div></div></div>"
      ],
      "text/plain": [
       "                           2     2       4     2   2       4     2   2        2\n",
       "(-2 (β  - β ) (β  + β ) (β   + β  ) (2 β   + β   β   + 2 β   + β   β   Tanh[η] )) / \n",
       "      L    R    L    R    L     R       L     L   R       R     L   R\n",
       " \n",
       "          4     2   2       4       2   2             2   2        2\n",
       ">   ((2 β   + β   β   + 2 β   - 2 β   β   Tanh[η] + β   β   Tanh[η] ) \n",
       "         L     L   R       R       L   R             L   R\n",
       " \n",
       "           4     2   2       4       2   2             2   2        2\n",
       ">     (2 β   + β   β   + 2 β   + 2 β   β   Tanh[η] + β   β   Tanh[η] ))\n",
       "          L     L   R       R       L   R             L   R\n",
       "Legended[-Graphics-, Placed[LineLegend[{Directive[Opacity[1.], \n",
       " \n",
       ">       RGBColor[0.368417, 0.506779, 0.709798], AbsoluteThickness[2], Thickness[Large]], \n",
       " \n",
       ">      Directive[Opacity[1.], AbsoluteThickness[2], RGBColor[0, 0, 1]], \n",
       " \n",
       ">      Directive[Opacity[1.], AbsoluteThickness[2], RGBColor[1, 0, 0]], \n",
       " \n",
       ">      Directive[Opacity[1.], AbsoluteThickness[2], RGBColor[0, 1, 0]], \n",
       " \n",
       ">      Directive[Opacity[1.], RGBColor[0.528488, 0.470624, 0.701351], \n",
       " \n",
       ">       AbsoluteThickness[2], Thickness[Large]]}, \n",
       " \n",
       ">     {β  = -1.0, β  = -0.8, β  = -0.5, β  = -0.3, β  = -0.1}, LegendMarkers -> None, \n",
       "        R          R          R          R          R\n",
       " \n",
       ">     LabelStyle -> {}, LegendLayout -> Column], After, Identity]]"
      ]
     },
     "execution_count": 107,
     "metadata": {
      "text/html": [],
      "text/plain": []
     },
     "output_type": "execute_result"
    }
   ],
   "source": [
    "PolTau = (MVectorialPolarization + (MVectorialPolarization /. \\[Eta] -> (-\\[Eta]))) / 2 // Factor ;\n",
    "PolTau\n",
    "\n",
    "(* Plot PolTau as function of eta for different values of Subscript[\\[Beta], \"L\"] and Subscript[\\[Beta], \"R\"] *)\n",
    "\n",
    "f0 = PolTau /. {betaL -> 1, betaR -> -1.0};\n",
    "f1 = PolTau /. {betaL -> 1, betaR -> -0.8};\n",
    "f2 = PolTau /. {betaL -> 1, betaR -> -0.6};\n",
    "f3 = PolTau /. {betaL -> 1, betaR -> -0.4};\n",
    "f4 = PolTau /. {betaL -> 1, betaR -> -0.1};\n",
    "\n",
    "Plot[{f0, f1, f2, f3, f4}, {\\[Eta], -5, 5}, \n",
    " PlotRange -> All, AxesOrigin -> {0, 0}, \n",
    " PlotLabel -> \"PolTau\", \n",
    " Frame -> True, \n",
    " FrameLabel -> {\"eta\", \"PolTau\"}, \n",
    " FrameTicks -> {{Automatic, Automatic}, {Automatic, Automatic}}, \n",
    " PlotStyle -> {Thick, Blue, Red, Green}, \n",
    " ImageSize -> Large,\n",
    " PlotLegends -> {\"\\!\\(\\*SubscriptBox[\\(\\[Beta]\\), \\(R\\)]\\) = -1.0\", \n",
    "  \"\\!\\(\\*SubscriptBox[\\(\\[Beta]\\), \\(R\\)]\\) = -0.8\", \n",
    "  \"\\!\\(\\*SubscriptBox[\\(\\[Beta]\\), \\(R\\)]\\) = -0.5\", \n",
    "  \"\\!\\(\\*SubscriptBox[\\(\\[Beta]\\), \\(R\\)]\\) = -0.3\", \n",
    "  \"\\!\\(\\*SubscriptBox[\\(\\[Beta]\\), \\(R\\)]\\) = -0.1\"}]\n",
    "\n",
    "\n"
   ]
  },
  {
   "cell_type": "markdown",
   "id": "025c6654",
   "metadata": {},
   "source": [
    "# Neutral Vector\n",
    "\n",
    "$$\n",
    "\\mathcal{L}_{Z^{\\prime}}= -\\frac{1}{4} Z_{\\mu \\nu}^{\\prime} Z^{\\prime \\mu \\nu}+\\frac{1}{2} M_{Z^{\\prime}}^2 Z_\\mu^{\\prime} Z^{\\prime \\mu} \n",
    "         + \\frac{g_{Z^{\\prime}}}{2 \\sqrt{6}} Z^{\\prime \\mu} (\\zeta_q \\bar{Q}_3 \\gamma_\\mu Q_3 +\\zeta_t \\bar{t}_R \\gamma_\\mu t_R \n",
    "          +\\zeta_b \\bar{b}_R \\gamma_\\mu b_R-3 \\zeta_{\\ell} \\bar{L}_3 \\gamma_\\mu L_3-3 \\zeta_\\tau \\bar{\\tau}_R \\gamma_\\mu \\tau_R)\n",
    "$$\n",
    "\n",
    "\n",
    "The vertex $Z' b \\bar b$ is $i \\frac{g_{Z^{\\prime}}}{2 \\sqrt{6}} \\gamma_\\mu (\\zeta_q \\gamma^\\mu P_L + \\zeta_b \\gamma^\\mu P_R)$, and the vertex $Z' \\tau^+ \\tau^-$ is $-i \\frac{3 g_{Z^{\\prime}}}{2 \\sqrt{6}} \\gamma_\\mu (\\zeta_{\\ell} \\gamma^\\mu P_L \\zeta_\\tau \\gamma^\\mu P_R)$, so we have:\n",
    "```python\n"
   ]
  },
  {
   "cell_type": "code",
   "execution_count": 115,
   "id": "4cdcc1ae",
   "metadata": {
    "vscode": {
     "languageId": "wolfram"
    }
   },
   "outputs": [
    {
     "data": {
      "text/html": [
       "<div><img alt=\"Output\" src=\"data:image/png;base64,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\"></div>"
      ],
      "text/plain": [
       "(-I (MT[μ, ν] - Pair[LorentzIndex[μ], Momentum[p  + p ]] . \n",
       "                                                b    _\n",
       "                                                     b\n",
       " \n",
       "                                                       2\n",
       ">         Pair[LorentzIndex[ν], Momentum[p  + p ]] / M  )) / \n",
       "                                          b    _      V\n",
       "                                               b\n",
       " \n",
       "                                                    2\n",
       ">   (Pair[Momentum[p  + p ], Momentum[p  + p ]] - M   + I M  Γ )\n",
       "                    b    _             b    _      V       V  V\n",
       "                         b                  b"
      ]
     },
     "execution_count": 125,
     "metadata": {
      "text/html": [],
      "text/plain": []
     },
     "output_type": "execute_result"
    }
   ],
   "source": [
    "mv = Subscript[M, \"V\"];\n",
    "wv = Subscript[\\[CapitalGamma], \"V\"];\n",
    "\n",
    "gzp = Subscript[\"g\", \"Zp\"];\n",
    "zetaLb = Subscript[\\[Zeta], \"bL\"];\n",
    "zetaRb = Subscript[\\[Zeta], \"bR\"];\n",
    "zLQvertexb[mm_] := I gzp GA[mm].(zetaLb PL + zetaRb PR)/Sqrt[2];\n",
    "\n",
    "zetaLtau = Subscript[\\[Zeta], \"tauL\"];\n",
    "zetaRtau = Subscript[\\[Zeta], \"tauR\"];\n",
    "zLQvertextau[mm_] := I gzp GA[mm].(zetaLtau PL + zetaRtau PR)/Sqrt[2];\n",
    "\n",
    "\n",
    "PropagatorV[p_,mm_,nn_] = -I(MT[mm,nn] - Pair[LorentzIndex[mm],Momentum[p]].Pair[LorentzIndex[nn],Momentum[p]]/mv^2 )/(ExpandScalarProduct[SP[p,p]] - mv^2 + I mv  wv );\n",
    "PropagatorV[p1+p2, \\[Mu] , \\[Nu]]"
   ]
  },
  {
   "cell_type": "markdown",
   "id": "6aa0b97c",
   "metadata": {},
   "source": [
    "## 'Unpolarized' Amplitude\n"
   ]
  },
  {
   "cell_type": "code",
   "execution_count": 129,
   "id": "f912814d",
   "metadata": {
    "vscode": {
     "languageId": "wolfram"
    }
   },
   "outputs": [
    {
     "data": {
      "text/html": [
       "<div><img alt=\"Output\" src=\"data:image/png;base64,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\"></div>"
      ],
      "text/plain": [
       "    4    4     2      2      2      2      2      2      2      2\n",
       "(E    g    (ζ    ζ      + ζ    ζ      + ζ    ζ      + ζ    ζ      - \n",
       "  CM   Zp    bL   tauL     bR   tauL     bL   tauR     bR   tauR\n",
       " \n",
       "             2      2                2      2                2      2\n",
       ">       2 ζ    ζ      Tanh[η] + 2 ζ    ζ      Tanh[η] + 2 ζ    ζ      Tanh[η] - \n",
       "           bL   tauL               bR   tauL               bL   tauR\n",
       " \n",
       "             2      2              2      2        2      2      2        2\n",
       ">       2 ζ    ζ      Tanh[η] + ζ    ζ      Tanh[η]  + ζ    ζ      Tanh[η]  + \n",
       "           bR   tauR             bL   tauL              bR   tauL\n",
       " \n",
       "           2      2        2      2      2        2\n",
       ">       ζ    ζ      Tanh[η]  + ζ    ζ      Tanh[η] )) / \n",
       "         bL   tauR              bR   tauR\n",
       " \n",
       "           4        2   2     4     2   2\n",
       ">   (4 (E    - 2 E    M   + M   + M   Γ  ))\n",
       "         CM       CM   V     V     V   V"
      ]
     },
     "execution_count": 129,
     "metadata": {
      "text/html": [],
      "text/plain": []
     },
     "output_type": "execute_result"
    }
   ],
   "source": [
    "unpolarizedBottomLine1[mm_] = antiB.zLQvertexb[mm].b ;\n",
    "unpolarizedTauLine2[mm_] = antiTau.zLQvertextau[mm].tau ;\n",
    "\n",
    "MZp = Contract[unpolarizedBottomLine1[\\[Mu]].PropagatorV[p1+p2, \\[Mu] , \\[Nu]]].unpolarizedTauLine2[\\[Nu]] // DiracSimplify // Factor ;\n",
    "MZpSquared = ExpandAll[ MZp (ComplexConjugate[MZp]) // FermionSpinSum[#] & // DiracSimplify ] // Factor \n"
   ]
  },
  {
   "cell_type": "markdown",
   "id": "1e6b3e1f",
   "metadata": {},
   "source": [
    "## Polarization of the $\\tau$ lepton\n"
   ]
  },
  {
   "cell_type": "code",
   "execution_count": 133,
   "id": "beec810f",
   "metadata": {
    "vscode": {
     "languageId": "wolfram"
    }
   },
   "outputs": [
    {
     "data": {
      "text/html": [
       "<style>\n",
       "\t\t\t\t\t\t\t\t\t\t\t\t\t.grid-container {\n",
       "\t\t\t\t\t\t\t\t\t\t\t\t\t\tdisplay: inline-grid;\n",
       "\t\t\t\t\t\t\t\t\t\t\t\t\t\tgrid-template-columns: auto;\n",
       "\t\t\t\t\t\t\t\t\t\t\t\t\t}\n",
       "\t\t\t\t\t\t\t\t\t\t\t\t</style>\n",
       "\n",
       "\t\t\t\t\t\t\t\t\t\t\t\t<div><div class=\"grid-container\"><div class=\"grid-item\"><img alt=\"Output\" src=\"data:image/png;base64,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\"></div><div class=\"grid-item\"><img alt=\"Output\" src=\"data:image/png;base64,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\"></div><div class=\"grid-item\"><img alt=\"Output\" src=\"data:image/png;base64,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\"></div></div></div>"
      ],
      "text/plain": [
       "        4    4    2      2\n",
       "     E    g    ζ    ζ      (-1 + Tanh[η])\n",
       "  1   CM   Zp   bR   tauL\n",
       "-(-) ------------------------------------\n",
       "  2      4        2   2     4     2   2\n",
       "      E    - 2 E    M   + M   + M   Γ\n",
       "       CM       CM   V     V     V   V\n",
       "        4    4    2      2\n",
       "     E    g    ζ    ζ      (-1 + Tanh[η])\n",
       "  1   CM   Zp   bL   tauR\n",
       "-(-) ------------------------------------\n",
       "  2      4        2   2     4     2   2\n",
       "      E    - 2 E    M   + M   + M   Γ\n",
       "       CM       CM   V     V     V   V\n",
       "  (ζ   ζ     - ζ   ζ    ) (ζ   ζ     + ζ   ζ    )\n",
       "    bR  tauL    bL  tauR    bR  tauL    bL  tauR\n",
       "-(-----------------------------------------------)\n",
       "                2      2      2      2\n",
       "             ζ    ζ      + ζ    ζ\n",
       "              bR   tauL     bL   tauR"
      ]
     },
     "execution_count": 133,
     "metadata": {
      "text/html": [],
      "text/plain": []
     },
     "output_type": "execute_result"
    }
   ],
   "source": [
    "unpolarizedBottomLine1[mm_] = b.zLQvertexb[mm].tau ;\n",
    "leftPolarizedTauLine2[mm_] = antiTau.zLQvertextau[mm].PL.tau ;\n",
    "\n",
    "MZpL = Contract[unpolarizedBottomLine1[\\[Mu]].PropagatorV[p1+p2, \\[Mu] , \\[Nu]]].leftPolarizedTauLine2[\\[Nu]] // DiracSimplify // Factor ;\n",
    "MZpLSquared = ExpandAll[ MZpL (ComplexConjugate[MZpL]) // FermionSpinSum[#] & // DiracSimplify ] // Factor \n",
    "\n",
    "rightPolarizedTauLine2[mm_] = antiTau.zLQvertextau[mm].PR.tau ;\n",
    "MZpR = Contract[unpolarizedBottomLine1[\\[Mu]].PropagatorV[p1+p2, \\[Mu] , \\[Nu]]].rightPolarizedTauLine2[\\[Nu]] // DiracSimplify // Factor ;\n",
    "MZpRSquared = ExpandAll[ MZpR (ComplexConjugate[MZpR]) // FermionSpinSum[#] & // DiracSimplify ] // Factor \n",
    "\n",
    "(* tau polarization *)\n",
    "MZpPolarization = (MZpRSquared - MZpLSquared) / (MZpRSquared + MZpLSquared) // Factor ;\n",
    "MZpPolarization"
   ]
  },
  {
   "cell_type": "markdown",
   "id": "70daedb7",
   "metadata": {},
   "source": [
    "# Neutral Scalar\n",
    "\n",
    "It will be zero, i don't want to do all the math for this, but it will be zero."
   ]
  }
 ],
 "metadata": {
  "kernelspec": {
   "display_name": "Wolfram Language 14.1",
   "language": "Wolfram Language",
   "name": "wolframlanguage14.1"
  },
  "language_info": {
   "codemirror_mode": "mathematica",
   "file_extension": ".m",
   "mimetype": "application/vnd.wolfram.m",
   "name": "Wolfram Language",
   "pygments_lexer": "mathematica",
   "version": "12.0"
  }
 },
 "nbformat": 4,
 "nbformat_minor": 5
}
