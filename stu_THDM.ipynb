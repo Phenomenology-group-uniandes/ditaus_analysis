{
 "cells": [
  {
   "cell_type": "code",
   "execution_count": null,
   "id": "708ac2af",
   "metadata": {},
   "outputs": [],
   "source": [
    "import numpy as np\n",
    "\n",
    "input_params_keys = {\n",
    "    \"MHL\": \"lightest Higgs mass\",\n",
    "    \"MHH\": \"heavy Higgs mass\",\n",
    "    \"MHA\": \"pseudo-scalar Higgs mass\",\n",
    "    \"MHp\": \"charged Higgs mass\",\n",
    "    \"lam5\": \"Split..\",\n",
    "    \"cba\": \"cos(beta-alpha)\",\n",
    "    \"tb\": \"tan(beta)\",\n",
    "    \"vev\": \"vacuum expectation value\",\n",
    "}"
   ]
  },
  {
   "cell_type": "code",
   "execution_count": null,
   "id": "44419c3d",
   "metadata": {},
   "outputs": [],
   "source": [
    "from src.thdm_param_scan import calculate_random_sampling, check_vacuum_conditions, STUCalculator"
   ]
  },
  {
   "cell_type": "code",
   "execution_count": null,
   "id": "4420105c",
   "metadata": {},
   "outputs": [],
   "source": []
  },
  {
   "cell_type": "code",
   "execution_count": null,
   "id": "fdf8acc8",
   "metadata": {},
   "outputs": [],
   "source": [
    "higgs_mass = 125.35  # Higgs mass in GeV\n",
    "vev = 246.22  # Vacuum expectation value in GeV\n",
    "\n",
    "mass_range = (0, 8 * higgs_mass)\n",
    "\n",
    "epsilon_range = (1e-12, 1e-1)\n",
    "\n",
    "delta_range = (-0.10, 0.10)\n",
    "\n",
    "n_points = int(1e6)\n",
    "\n",
    "results_df = calculate_random_sampling(mass_range, epsilon_range, delta_range, n_samples=n_points)\n",
    "results_with_conditions = check_vacuum_conditions(results_df, verbose=True)"
   ]
  },
  {
   "cell_type": "code",
   "execution_count": null,
   "id": "bc5f5a39",
   "metadata": {},
   "outputs": [],
   "source": [
    "# Check current columns in results_with_conditions\n",
    "print(\"Current columns in results_with_conditions:\")\n",
    "print(results_with_conditions.columns.tolist())\n",
    "print(f\"\\nNumber of rows: {len(results_with_conditions)}\")"
   ]
  },
  {
   "cell_type": "code",
   "execution_count": null,
   "id": "1e46a923",
   "metadata": {},
   "outputs": [],
   "source": [
    "n_sigma = 2  # Number of sigma for STU calculation\n",
    "\n",
    "results_with_conditions[\"S\"] = np.nan\n",
    "results_with_conditions[\"T\"] = np.nan\n",
    "results_with_conditions[\"U\"] = np.nan\n",
    "results_with_conditions[\"STU_constraint\"] = False\n",
    "results_with_conditions[\"S_constraint\"] = False\n",
    "results_with_conditions[\"T_constraint\"] = False\n",
    "results_with_conditions[\"U_constraint\"] = False\n",
    "results_with_conditions[\"n_sigma_used\"] = n_sigma"
   ]
  },
  {
   "cell_type": "code",
   "execution_count": null,
   "id": "3d3e6c70",
   "metadata": {},
   "outputs": [],
   "source": [
    "stu_calculator = STUCalculator()\n",
    "\n",
    "# Solo calcular STU para las filas donde all_conditions_satisfied es True\n",
    "if \"all_conditions_satisfied\" in results_with_conditions.columns:\n",
    "    # Crear una máscara para las filas que cumplen las condiciones\n",
    "    mask = results_with_conditions[\"all_conditions_satisfied\"] == True\n",
    "\n",
    "    # Solo aplicar el cálculo a las filas que cumplen las condiciones\n",
    "    if mask.any():\n",
    "        print(\n",
    "            f\"Calculando STU para {mask.sum()} filas que cumplen all_conditions=True de un total de {len(results_with_conditions)} filas\"\n",
    "        )\n",
    "\n",
    "        # Crear una copia temporal solo con las filas que cumplen las condiciones\n",
    "        temp_df = results_with_conditions[mask].copy()\n",
    "\n",
    "        # Calcular STU solo para estas filas\n",
    "        temp_df = stu_calculator.calculate_STU_dataframe(temp_df, verbose=True, n_sigma=n_sigma)\n",
    "\n",
    "        # Actualizar las columnas STU en el DataFrame original solo para las filas que cumplen las condiciones\n",
    "        stu_columns = [\n",
    "            \"S\",\n",
    "            \"T\",\n",
    "            \"U\",\n",
    "            \"STU_constraint\",\n",
    "            \"S_constraint\",\n",
    "            \"T_constraint\",\n",
    "            \"U_constraint\",\n",
    "        ]\n",
    "        for col in stu_columns:\n",
    "            if col in temp_df.columns:\n",
    "                results_with_conditions.loc[mask, col] = temp_df[col].values\n",
    "\n",
    "        print(f\"STU calculado exitosamente para {mask.sum()} filas\")\n",
    "    else:\n",
    "        print(\"No hay filas que cumplan all_conditions=True\")\n",
    "else:\n",
    "    print(\"Advertencia: La columna 'all_conditions' no existe en el DataFrame\")\n",
    "    print(\"Aplicando cálculo STU a todo el DataFrame como respaldo\")\n",
    "    results_with_conditions = stu_calculator.calculate_STU_dataframe(\n",
    "        results_with_conditions, verbose=True, n_sigma=n_sigma\n",
    "    )\n",
    "\n",
    "results_with_conditions.to_feather(\"data/results_with_conditions.feather\", index=False)"
   ]
  }
 ],
 "metadata": {
  "kernelspec": {
   "display_name": "root_delphes_env",
   "language": "python",
   "name": "python3"
  },
  "language_info": {
   "codemirror_mode": {
    "name": "ipython",
    "version": 3
   },
   "file_extension": ".py",
   "mimetype": "text/x-python",
   "name": "python",
   "nbconvert_exporter": "python",
   "pygments_lexer": "ipython3",
   "version": "3.12.8"
  }
 },
 "nbformat": 4,
 "nbformat_minor": 5
}
